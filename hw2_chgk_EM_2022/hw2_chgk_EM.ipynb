{
 "cells": [
  {
   "cell_type": "markdown",
   "metadata": {
    "pycharm": {
     "name": "#%% md\n"
    }
   },
   "source": [
    "1. Прочитайте и проанализируйте данные, выберите турниры, в которых есть данные о\n",
    "составах команд и повопросных результатах (поле mask в results.pkl). Для унификации\n",
    "предлагаю:\n",
    "* взять в тренировочный набор турниры с dateStart из 2019 года;\n",
    "* в тестовый — турниры с dateStart из 2020 года."
   ]
  },
  {
   "cell_type": "code",
   "execution_count": 1,
   "metadata": {
    "pycharm": {
     "name": "#%%\n"
    }
   },
   "outputs": [
    {
     "name": "stdout",
     "output_type": "stream",
     "text": [
      "INFO: Pandarallel will run on 6 workers.\n",
      "INFO: Pandarallel will use Memory file system to transfer data between the main process and workers.\n"
     ]
    }
   ],
   "source": [
    "import warnings\n",
    "import gc\n",
    "import pandas as pd\n",
    "import pickle\n",
    "from pandarallel import pandarallel\n",
    "\n",
    "\n",
    "pandarallel.initialize()\n",
    "warnings.filterwarnings('ignore')"
   ]
  },
  {
   "cell_type": "code",
   "execution_count": 2,
   "metadata": {
    "pycharm": {
     "name": "#%%\n"
    }
   },
   "outputs": [
    {
     "data": {
      "text/plain": "       name patronymic   surname\nid                              \n1   Алексей       None  Абабилов\n10    Игорь               Абалов",
      "text/html": "<div>\n<style scoped>\n    .dataframe tbody tr th:only-of-type {\n        vertical-align: middle;\n    }\n\n    .dataframe tbody tr th {\n        vertical-align: top;\n    }\n\n    .dataframe thead th {\n        text-align: right;\n    }\n</style>\n<table border=\"1\" class=\"dataframe\">\n  <thead>\n    <tr style=\"text-align: right;\">\n      <th></th>\n      <th>name</th>\n      <th>patronymic</th>\n      <th>surname</th>\n    </tr>\n    <tr>\n      <th>id</th>\n      <th></th>\n      <th></th>\n      <th></th>\n    </tr>\n  </thead>\n  <tbody>\n    <tr>\n      <th>1</th>\n      <td>Алексей</td>\n      <td>None</td>\n      <td>Абабилов</td>\n    </tr>\n    <tr>\n      <th>10</th>\n      <td>Игорь</td>\n      <td></td>\n      <td>Абалов</td>\n    </tr>\n  </tbody>\n</table>\n</div>"
     },
     "execution_count": 2,
     "metadata": {},
     "output_type": "execute_result"
    }
   ],
   "source": [
    "with open('players.pkl', 'rb') as f:\n",
    "    players = pickle.load(f)\n",
    "players = pd.DataFrame(players).T.set_index('id').sort_index()\n",
    "players.head(2)"
   ]
  },
  {
   "cell_type": "code",
   "execution_count": 3,
   "metadata": {
    "pycharm": {
     "name": "#%%\n"
    }
   },
   "outputs": [
    {
     "data": {
      "text/plain": "                                       name                  dateStart  \\\nid                                                                       \n4628                             Семь сорок  2020-12-30T16:00:00+03:00   \n4772  Синхрон северных стран. Зимний выпуск  2019-01-05T19:00:00+03:00   \n\n                        dateEnd                          type       season  \\\nid                                                                           \n4628  2020-12-30T16:00:00+03:00  {'id': 3, 'name': 'Синхрон'}         None   \n4772  2019-01-09T19:00:00+03:00  {'id': 3, 'name': 'Синхрон'}  /seasons/52   \n\n                                           orgcommittee  \\\nid                                                        \n4628  [{'id': 7533, 'name': 'Денис', 'patronymic': '...   \n4772  [{'id': 28379, 'name': 'Константин', 'patronym...   \n\n                                              synchData  \\\nid                                                        \n4628  {'dateRequestsAllowedTo': '2020-12-30T23:55:00...   \n4772  {'dateRequestsAllowedTo': '2019-01-09T23:59:59...   \n\n                      questionQty  year  \nid                                       \n4628  {'1': 12, '2': 12, '3': 12}  2020  \n4772  {'1': 12, '2': 12, '3': 12}  2019  ",
      "text/html": "<div>\n<style scoped>\n    .dataframe tbody tr th:only-of-type {\n        vertical-align: middle;\n    }\n\n    .dataframe tbody tr th {\n        vertical-align: top;\n    }\n\n    .dataframe thead th {\n        text-align: right;\n    }\n</style>\n<table border=\"1\" class=\"dataframe\">\n  <thead>\n    <tr style=\"text-align: right;\">\n      <th></th>\n      <th>name</th>\n      <th>dateStart</th>\n      <th>dateEnd</th>\n      <th>type</th>\n      <th>season</th>\n      <th>orgcommittee</th>\n      <th>synchData</th>\n      <th>questionQty</th>\n      <th>year</th>\n    </tr>\n    <tr>\n      <th>id</th>\n      <th></th>\n      <th></th>\n      <th></th>\n      <th></th>\n      <th></th>\n      <th></th>\n      <th></th>\n      <th></th>\n      <th></th>\n    </tr>\n  </thead>\n  <tbody>\n    <tr>\n      <th>4628</th>\n      <td>Семь сорок</td>\n      <td>2020-12-30T16:00:00+03:00</td>\n      <td>2020-12-30T16:00:00+03:00</td>\n      <td>{'id': 3, 'name': 'Синхрон'}</td>\n      <td>None</td>\n      <td>[{'id': 7533, 'name': 'Денис', 'patronymic': '...</td>\n      <td>{'dateRequestsAllowedTo': '2020-12-30T23:55:00...</td>\n      <td>{'1': 12, '2': 12, '3': 12}</td>\n      <td>2020</td>\n    </tr>\n    <tr>\n      <th>4772</th>\n      <td>Синхрон северных стран. Зимний выпуск</td>\n      <td>2019-01-05T19:00:00+03:00</td>\n      <td>2019-01-09T19:00:00+03:00</td>\n      <td>{'id': 3, 'name': 'Синхрон'}</td>\n      <td>/seasons/52</td>\n      <td>[{'id': 28379, 'name': 'Константин', 'patronym...</td>\n      <td>{'dateRequestsAllowedTo': '2019-01-09T23:59:59...</td>\n      <td>{'1': 12, '2': 12, '3': 12}</td>\n      <td>2019</td>\n    </tr>\n  </tbody>\n</table>\n</div>"
     },
     "execution_count": 3,
     "metadata": {},
     "output_type": "execute_result"
    }
   ],
   "source": [
    "with open('tournaments.pkl', 'rb') as f:\n",
    "    tournaments = pickle.load(f)\n",
    "tournaments = pd.DataFrame(tournaments).T.set_index('id').sort_index()\n",
    "tournaments['year'] = pd.to_datetime(tournaments['dateStart']).map(lambda x: x.year)\n",
    "tournaments = tournaments[tournaments.year >= 2019]\n",
    "tournaments.head(2)"
   ]
  },
  {
   "cell_type": "code",
   "execution_count": 4,
   "metadata": {
    "pycharm": {
     "name": "#%%\n"
    }
   },
   "outputs": [
    {
     "data": {
      "text/plain": "{'team': {'id': 45556,\n  'name': 'Рабочее название',\n  'town': {'id': 285, 'name': 'Санкт-Петербург'}},\n 'mask': '111111111011111110111111111100010010',\n 'current': {'name': 'Рабочее название',\n  'town': {'id': 285, 'name': 'Санкт-Петербург'}},\n 'questionsTotal': 28,\n 'synchRequest': {'id': 56392,\n  'venue': {'id': 3030, 'name': 'Санкт-Петербург'}},\n 'position': 1,\n 'controversials': [{'id': 91169,\n   'questionNumber': 15,\n   'answer': 'Мьёльнир',\n   'issuedAt': '2019-01-06T13:28:48+03:00',\n   'status': 'A',\n   'comment': '',\n   'resolvedAt': '2019-01-06T15:25:54+03:00',\n   'appealJuryComment': None}],\n 'flags': [],\n 'teamMembers': [{'flag': 'Б',\n   'usedRating': 13507,\n   'rating': 13507,\n   'player': {'id': 6212,\n    'name': 'Юрий',\n    'patronymic': 'Яковлевич',\n    'surname': 'Выменец'}},\n  {'flag': 'Б',\n   'usedRating': 10988,\n   'rating': 13185,\n   'player': {'id': 18332,\n    'name': 'Александр',\n    'patronymic': 'Витальевич',\n    'surname': 'Либер'}},\n  {'flag': 'Б',\n   'usedRating': 8534,\n   'rating': 12801,\n   'player': {'id': 18036,\n    'name': 'Михаил',\n    'patronymic': 'Ильич',\n    'surname': 'Левандовский'}},\n  {'flag': 'К',\n   'usedRating': 6401,\n   'rating': 12801,\n   'player': {'id': 22799,\n    'name': 'Сергей',\n    'patronymic': 'Игоревич',\n    'surname': 'Николенко'}},\n  {'flag': 'Б',\n   'usedRating': 4252,\n   'rating': 12757,\n   'player': {'id': 15456,\n    'name': 'Сергей',\n    'patronymic': 'Владимирович',\n    'surname': 'Коновалов'}},\n  {'flag': 'Б',\n   'usedRating': 2069,\n   'rating': 12416,\n   'player': {'id': 26089,\n    'name': 'Ирина',\n    'patronymic': 'Сергеевна',\n    'surname': 'Прокофьева'}}]}"
     },
     "execution_count": 4,
     "metadata": {},
     "output_type": "execute_result"
    }
   ],
   "source": [
    "with open('results.pkl', 'rb') as f:\n",
    "    results = pickle.load(f)\n",
    "results = {key: val for key, val in results.items() if val!=[]}\n",
    "correct_keys = {key: len([team['mask'] for team in val if\n",
    "           ('mask' in team.keys()) and (not(team['mask'] is None))]) >= 1 for\n",
    "                key, val in results.items() if val!=[]}\n",
    "correct_keys = [key for key in correct_keys.keys() if correct_keys[key] == True]\n",
    "results = pd.Series(results).loc[correct_keys]\n",
    "results = results[results.index.isin(tournaments.index)]\n",
    "gc.collect()\n",
    "results.iloc[0][0]"
   ]
  },
  {
   "cell_type": "markdown",
   "source": [
    "Случайным образом нашёлся Сергей Игоревич Николенко."
   ],
   "metadata": {
    "collapsed": false,
    "pycharm": {
     "name": "#%% md\n"
    }
   }
  },
  {
   "cell_type": "code",
   "execution_count": 5,
   "outputs": [],
   "source": [
    "tournaments = tournaments[tournaments.index.isin(results.index)]\n",
    "train_idx = tournaments[tournaments.year == 2019].index\n",
    "test_idx = tournaments[tournaments.year == 2020].index"
   ],
   "metadata": {
    "collapsed": false,
    "pycharm": {
     "name": "#%%\n"
    }
   }
  },
  {
   "cell_type": "markdown",
   "source": [
    "2. Постройте baseline-модель на основе линейной или логистической регрессии, которая\n",
    "будет обучать рейтинг-лист игроков. Замечания и подсказки:\n",
    "* повопросные результаты — это фактически результаты броска монетки, и их\n",
    "предсказание скорее всего имеет отношение к бинарной классификации;\n",
    "* в разных турнирах вопросы совсем разного уровня сложности, поэтому модель\n",
    "должна это учитывать; скорее всего, модель должна будет явно обучать не только\n",
    "силу каждого игрока, но и сложность каждого вопроса;\n",
    "* для baseline-модели можно забыть о командах и считать, что повопросные\n",
    "результаты команды просто относятся к каждому из её игроков."
   ],
   "metadata": {
    "collapsed": false,
    "pycharm": {
     "name": "#%% md\n"
    }
   }
  },
  {
   "cell_type": "markdown",
   "source": [
    "Исходя из замечаний и подсказок, будем считать, что каждый игрок независимо отвечает на текущий вопрос. Соответственно, команда даёт правильный ответ тогда и только тогда, когда хотя бы один из игроков дал правильный ответ(это не предположение, а утверждение). А с другой стороны мы не знаем, кто это был(скорее всего тот, у кого выше рейтинг). Поэтому можно сделать допущение, как будто каждый из игроков ответил/не ответил на текущий вопрос. В конце концов это имеет место на жизнь, ведь если слабый игрок играет в команде, которая всё время побеждает, может быть какие-нибудь его другие качества(мораль, настрой, рассудительность) позволяют команде отвечать правильно."
   ],
   "metadata": {
    "collapsed": false,
    "pycharm": {
     "name": "#%% md\n"
    }
   }
  },
  {
   "cell_type": "markdown",
   "source": [
    "Теперь откуда взять сложность вопроса. На эти вопросы отвечают игроки. Про каждый вопрос известно, какие игроки ответили, а какие нет. Для решения этой задачи можно использовать логистическую регрессию. Сначала кажется, что если мы для каждого вопроса будем обучать модель, то и получим итоговую сложность. Если в модели признаком будет рейтинг, то можно найти коэффициент для данного вопроса. Однако как в таком случае обновлять рейтинг непонятно. Если признаком будет разряженный вектор - модель переобучится и просто запомнит как кто отвечал. Соответственно целевой переменной должен быть вектор ответов на все вопросы. В таком случае конкретный вопрос уже является признаком. Получается, что каждая строка матрицы признаков - это признак i игрока и j вопроса.\n"
   ],
   "metadata": {
    "collapsed": false,
    "pycharm": {
     "name": "#%% md\n"
    }
   }
  },
  {
   "cell_type": "code",
   "execution_count": 6,
   "outputs": [],
   "source": [
    "import numpy as np\n",
    "from scipy.sparse import csr_array\n",
    "from sklearn.linear_model import LogisticRegression\n",
    "from tqdm.notebook import tqdm"
   ],
   "metadata": {
    "collapsed": false,
    "pycharm": {
     "name": "#%%\n"
    }
   }
  },
  {
   "cell_type": "code",
   "execution_count": 7,
   "outputs": [
    {
     "data": {
      "text/plain": "  0%|          | 0/675 [00:00<?, ?it/s]",
      "application/vnd.jupyter.widget-view+json": {
       "version_major": 2,
       "version_minor": 0,
       "model_id": "747ae47def9b414aa6a53476f887a134"
      }
     },
     "metadata": {},
     "output_type": "display_data"
    },
    {
     "data": {
      "text/plain": "18"
     },
     "execution_count": 7,
     "metadata": {},
     "output_type": "execute_result"
    }
   ],
   "source": [
    "import gc\n",
    "\n",
    "questions = {}\n",
    "players = {}\n",
    "max_idx = 0\n",
    "col, y = [], []\n",
    "team_row_id = []\n",
    "for tour_idx in tqdm(train_idx):\n",
    "    last_q_idx = -1\n",
    "    for team in results.loc[tour_idx]:\n",
    "        if not(team['mask'] is None):\n",
    "            for q_index in range(len(team['mask'])):\n",
    "                if q_index > last_q_idx:\n",
    "                    questions[(tour_idx, q_index)] = max_idx\n",
    "                    max_idx += 1\n",
    "                    last_q_idx += 1\n",
    "            for player in team['teamMembers']:\n",
    "                player_id = int(player['player']['id'])\n",
    "                if player_id not in players.keys():\n",
    "                    players[player_id] = max_idx\n",
    "                    max_idx += 1\n",
    "                for q_index, q_val in enumerate(team['mask']):\n",
    "                    if q_val in ['0', '1']:\n",
    "                        col.append(players[player_id])\n",
    "                        team_row_id.append('_'.join([str(team['team']['id']), str(tour_idx), str(q_index)]))\n",
    "                        col.append(questions[(tour_idx, q_index)])\n",
    "                        y.append(int(q_val))\n",
    "row = [x // 2 for x in range(len(col))]\n",
    "data = np.ones(len(col))\n",
    "X = csr_array((data, (np.array(row), np.array(col))), shape=(len(y), max_idx))\n",
    "row, col = None, None\n",
    "gc.collect()"
   ],
   "metadata": {
    "collapsed": false,
    "pycharm": {
     "name": "#%%\n"
    }
   }
  },
  {
   "cell_type": "code",
   "execution_count": 8,
   "outputs": [
    {
     "data": {
      "text/plain": "LogisticRegression(random_state=57, solver='saga')"
     },
     "execution_count": 8,
     "metadata": {},
     "output_type": "execute_result"
    }
   ],
   "source": [
    "lr = LogisticRegression(fit_intercept = True,random_state = 57,solver = 'saga')\n",
    "lr.fit(X, y)"
   ],
   "metadata": {
    "collapsed": false,
    "pycharm": {
     "name": "#%%\n"
    }
   }
  },
  {
   "cell_type": "code",
   "execution_count": 9,
   "outputs": [
    {
     "data": {
      "text/plain": "0.00016920187475677232"
     },
     "execution_count": 9,
     "metadata": {},
     "output_type": "execute_result"
    }
   ],
   "source": [
    "ratings = pd.Series({player_id: lr.coef_[0][m_idx] for player_id, m_idx in players.items()})\n",
    "ratings[ratings >= ratings[22799]].shape[0] / ratings.shape[0]"
   ],
   "metadata": {
    "collapsed": false,
    "pycharm": {
     "name": "#%%\n"
    }
   }
  },
  {
   "cell_type": "code",
   "execution_count": 10,
   "outputs": [
    {
     "data": {
      "text/plain": "count    33385.000000\nmean        -0.000081\nstd          1.745984\nmin         -5.707873\n25%         -1.177273\n50%         -0.009408\n75%          1.183167\nmax          6.098188\nName: question_rating, dtype: float64"
     },
     "execution_count": 10,
     "metadata": {},
     "output_type": "execute_result"
    }
   ],
   "source": [
    "questions_ratings = pd.Series({question_id: lr.coef_[0][m_idx] for question_id, m_idx in questions.items()}, name='question_rating')\n",
    "questions_ratings.describe()"
   ],
   "metadata": {
    "collapsed": false,
    "pycharm": {
     "name": "#%%\n"
    }
   }
  },
  {
   "cell_type": "markdown",
   "source": [
    "Рейтинг получился адекватный. Сергей Игоревич Николенко в нём выше, чем 99.98 % игроков."
   ],
   "metadata": {
    "collapsed": false,
    "pycharm": {
     "name": "#%% md\n"
    }
   }
  },
  {
   "cell_type": "markdown",
   "source": [
    "3. Качество рейтинг-системы оценивается качеством предсказаний результатов турниров.\n",
    "Но сами повопросные результаты наши модели предсказывать вряд ли смогут, ведь\n",
    "неизвестно, насколько сложными окажутся вопросы в будущих турнирах; да и не нужны\n",
    "эти предсказания сами по себе. Поэтому:\n",
    "* предложите способ предсказать результаты нового турнира с известными\n",
    "составами, но неизвестными вопросами, в виде ранжирования команд;\n",
    "* в качестве метрики качества на тестовом наборе давайте считать ранговые\n",
    "корреляции Спирмена и Кендалла (их можно взять в пакете scipy) между\n",
    "реальным ранжированием в результатах турнира и предсказанным моделью,\n",
    "усреднённые по тестовому множеству турниров 1 ."
   ],
   "metadata": {
    "collapsed": false,
    "pycharm": {
     "name": "#%% md\n"
    }
   }
  },
  {
   "cell_type": "markdown",
   "source": [
    "Самый простой способ отранжировать команды - это сказать, что рейтинг команды - линейная комбинация рейтингов участников внутри. Одиночная свёртка. Но на этой будет влиять порядок игроков внутри команды. Поэтому можно, например, упорядочить игроков по убыванию рейтинга + отдельно рассмотреть рейтинг капитана.\n",
    "Вопрос в том - как инициализировать эту линейную комбинацию. В прошлом пункте все игроки рассматривались и отвечали независимо. Исходя из нашей модели игрок даст правильный ответ, если его рейтинг превышает некоторый порог.\n",
    "Какие есть возможности оценить эту линейную комбинацию? Можно использовать ту же задачу классификации, только вместо указания конкретного человека указывать рейтинг всех членов его команды, а вместо вопроса указать сложность."
   ],
   "metadata": {
    "collapsed": false,
    "pycharm": {
     "name": "#%% md\n"
    }
   }
  },
  {
   "cell_type": "code",
   "execution_count": 11,
   "outputs": [
    {
     "data": {
      "text/plain": "  0%|          | 0/675 [00:00<?, ?it/s]",
      "application/vnd.jupyter.widget-view+json": {
       "version_major": 2,
       "version_minor": 0,
       "model_id": "0ee1143a8b4b40928c9f15c707ef9604"
      }
     },
     "metadata": {},
     "output_type": "display_data"
    },
    {
     "data": {
      "text/plain": "6     39754\n5     20357\n4     12181\n3      5789\n7      2935\n2      2650\n8      1270\n1       557\n9       520\n10      223\n0       104\n11       79\n12       43\n13       16\n14       10\n15        5\n16        3\n17        2\n21        1\ndtype: int64"
     },
     "execution_count": 11,
     "metadata": {},
     "output_type": "execute_result"
    }
   ],
   "source": [
    "r_len = []\n",
    "for tour_idx in tqdm(train_idx):\n",
    "    for team in results.loc[tour_idx]:\n",
    "        if not(team['mask'] is None):\n",
    "            player_ids = [int(player['player']['id']) for player in team['teamMembers']]\n",
    "            player_ratings = ratings.loc[player_ids]\n",
    "            r_len.append(len(player_ratings))\n",
    "pd.Series(r_len).value_counts()"
   ],
   "metadata": {
    "collapsed": false,
    "pycharm": {
     "name": "#%%\n"
    }
   }
  },
  {
   "cell_type": "markdown",
   "source": [
    "Видно, что в целом, можно оценивать рейтинг по 6 игрокам. Если меньше - можно западдить. Лишних игроков отрежем:)"
   ],
   "metadata": {
    "collapsed": false,
    "pycharm": {
     "name": "#%% md\n"
    }
   }
  },
  {
   "cell_type": "code",
   "execution_count": 12,
   "outputs": [
    {
     "data": {
      "text/plain": "  0%|          | 0/675 [00:00<?, ?it/s]",
      "application/vnd.jupyter.widget-view+json": {
       "version_major": 2,
       "version_minor": 0,
       "model_id": "eadf7150a01045b1ac740c3c66c6d4db"
      }
     },
     "metadata": {},
     "output_type": "display_data"
    },
    {
     "data": {
      "text/plain": "           question  y   player0   player1   player2   player3  player4  \\\n0         (4772, 0)  1    6212.0   18332.0   18036.0   22799.0  15456.0   \n1         (4772, 1)  1    6212.0   18332.0   18036.0   22799.0  15456.0   \n2         (4772, 2)  1    6212.0   18332.0   18036.0   22799.0  15456.0   \n3         (4772, 3)  1    6212.0   18332.0   18036.0   22799.0  15456.0   \n4         (4772, 4)  1    6212.0   18332.0   18036.0   22799.0  15456.0   \n...             ... ..       ...       ...       ...       ...      ...   \n3807482  (6255, 31)  0  217153.0  217154.0  217155.0  217156.0      NaN   \n3807483  (6255, 32)  0  217153.0  217154.0  217155.0  217156.0      NaN   \n3807484  (6255, 33)  0  217153.0  217154.0  217155.0  217156.0      NaN   \n3807485  (6255, 34)  0  217153.0  217154.0  217155.0  217156.0      NaN   \n3807486  (6255, 35)  0  217153.0  217154.0  217155.0  217156.0      NaN   \n\n         player5  player6  player7  ...  player11  player12  player13  \\\n0        26089.0      NaN      NaN  ...       NaN       NaN       NaN   \n1        26089.0      NaN      NaN  ...       NaN       NaN       NaN   \n2        26089.0      NaN      NaN  ...       NaN       NaN       NaN   \n3        26089.0      NaN      NaN  ...       NaN       NaN       NaN   \n4        26089.0      NaN      NaN  ...       NaN       NaN       NaN   \n...          ...      ...      ...  ...       ...       ...       ...   \n3807482      NaN      NaN      NaN  ...       NaN       NaN       NaN   \n3807483      NaN      NaN      NaN  ...       NaN       NaN       NaN   \n3807484      NaN      NaN      NaN  ...       NaN       NaN       NaN   \n3807485      NaN      NaN      NaN  ...       NaN       NaN       NaN   \n3807486      NaN      NaN      NaN  ...       NaN       NaN       NaN   \n\n         player14  player15  player16  player17  player18  player19  player20  \n0             NaN       NaN       NaN       NaN       NaN       NaN       NaN  \n1             NaN       NaN       NaN       NaN       NaN       NaN       NaN  \n2             NaN       NaN       NaN       NaN       NaN       NaN       NaN  \n3             NaN       NaN       NaN       NaN       NaN       NaN       NaN  \n4             NaN       NaN       NaN       NaN       NaN       NaN       NaN  \n...           ...       ...       ...       ...       ...       ...       ...  \n3807482       NaN       NaN       NaN       NaN       NaN       NaN       NaN  \n3807483       NaN       NaN       NaN       NaN       NaN       NaN       NaN  \n3807484       NaN       NaN       NaN       NaN       NaN       NaN       NaN  \n3807485       NaN       NaN       NaN       NaN       NaN       NaN       NaN  \n3807486       NaN       NaN       NaN       NaN       NaN       NaN       NaN  \n\n[3803196 rows x 23 columns]",
      "text/html": "<div>\n<style scoped>\n    .dataframe tbody tr th:only-of-type {\n        vertical-align: middle;\n    }\n\n    .dataframe tbody tr th {\n        vertical-align: top;\n    }\n\n    .dataframe thead th {\n        text-align: right;\n    }\n</style>\n<table border=\"1\" class=\"dataframe\">\n  <thead>\n    <tr style=\"text-align: right;\">\n      <th></th>\n      <th>question</th>\n      <th>y</th>\n      <th>player0</th>\n      <th>player1</th>\n      <th>player2</th>\n      <th>player3</th>\n      <th>player4</th>\n      <th>player5</th>\n      <th>player6</th>\n      <th>player7</th>\n      <th>...</th>\n      <th>player11</th>\n      <th>player12</th>\n      <th>player13</th>\n      <th>player14</th>\n      <th>player15</th>\n      <th>player16</th>\n      <th>player17</th>\n      <th>player18</th>\n      <th>player19</th>\n      <th>player20</th>\n    </tr>\n  </thead>\n  <tbody>\n    <tr>\n      <th>0</th>\n      <td>(4772, 0)</td>\n      <td>1</td>\n      <td>6212.0</td>\n      <td>18332.0</td>\n      <td>18036.0</td>\n      <td>22799.0</td>\n      <td>15456.0</td>\n      <td>26089.0</td>\n      <td>NaN</td>\n      <td>NaN</td>\n      <td>...</td>\n      <td>NaN</td>\n      <td>NaN</td>\n      <td>NaN</td>\n      <td>NaN</td>\n      <td>NaN</td>\n      <td>NaN</td>\n      <td>NaN</td>\n      <td>NaN</td>\n      <td>NaN</td>\n      <td>NaN</td>\n    </tr>\n    <tr>\n      <th>1</th>\n      <td>(4772, 1)</td>\n      <td>1</td>\n      <td>6212.0</td>\n      <td>18332.0</td>\n      <td>18036.0</td>\n      <td>22799.0</td>\n      <td>15456.0</td>\n      <td>26089.0</td>\n      <td>NaN</td>\n      <td>NaN</td>\n      <td>...</td>\n      <td>NaN</td>\n      <td>NaN</td>\n      <td>NaN</td>\n      <td>NaN</td>\n      <td>NaN</td>\n      <td>NaN</td>\n      <td>NaN</td>\n      <td>NaN</td>\n      <td>NaN</td>\n      <td>NaN</td>\n    </tr>\n    <tr>\n      <th>2</th>\n      <td>(4772, 2)</td>\n      <td>1</td>\n      <td>6212.0</td>\n      <td>18332.0</td>\n      <td>18036.0</td>\n      <td>22799.0</td>\n      <td>15456.0</td>\n      <td>26089.0</td>\n      <td>NaN</td>\n      <td>NaN</td>\n      <td>...</td>\n      <td>NaN</td>\n      <td>NaN</td>\n      <td>NaN</td>\n      <td>NaN</td>\n      <td>NaN</td>\n      <td>NaN</td>\n      <td>NaN</td>\n      <td>NaN</td>\n      <td>NaN</td>\n      <td>NaN</td>\n    </tr>\n    <tr>\n      <th>3</th>\n      <td>(4772, 3)</td>\n      <td>1</td>\n      <td>6212.0</td>\n      <td>18332.0</td>\n      <td>18036.0</td>\n      <td>22799.0</td>\n      <td>15456.0</td>\n      <td>26089.0</td>\n      <td>NaN</td>\n      <td>NaN</td>\n      <td>...</td>\n      <td>NaN</td>\n      <td>NaN</td>\n      <td>NaN</td>\n      <td>NaN</td>\n      <td>NaN</td>\n      <td>NaN</td>\n      <td>NaN</td>\n      <td>NaN</td>\n      <td>NaN</td>\n      <td>NaN</td>\n    </tr>\n    <tr>\n      <th>4</th>\n      <td>(4772, 4)</td>\n      <td>1</td>\n      <td>6212.0</td>\n      <td>18332.0</td>\n      <td>18036.0</td>\n      <td>22799.0</td>\n      <td>15456.0</td>\n      <td>26089.0</td>\n      <td>NaN</td>\n      <td>NaN</td>\n      <td>...</td>\n      <td>NaN</td>\n      <td>NaN</td>\n      <td>NaN</td>\n      <td>NaN</td>\n      <td>NaN</td>\n      <td>NaN</td>\n      <td>NaN</td>\n      <td>NaN</td>\n      <td>NaN</td>\n      <td>NaN</td>\n    </tr>\n    <tr>\n      <th>...</th>\n      <td>...</td>\n      <td>...</td>\n      <td>...</td>\n      <td>...</td>\n      <td>...</td>\n      <td>...</td>\n      <td>...</td>\n      <td>...</td>\n      <td>...</td>\n      <td>...</td>\n      <td>...</td>\n      <td>...</td>\n      <td>...</td>\n      <td>...</td>\n      <td>...</td>\n      <td>...</td>\n      <td>...</td>\n      <td>...</td>\n      <td>...</td>\n      <td>...</td>\n      <td>...</td>\n    </tr>\n    <tr>\n      <th>3807482</th>\n      <td>(6255, 31)</td>\n      <td>0</td>\n      <td>217153.0</td>\n      <td>217154.0</td>\n      <td>217155.0</td>\n      <td>217156.0</td>\n      <td>NaN</td>\n      <td>NaN</td>\n      <td>NaN</td>\n      <td>NaN</td>\n      <td>...</td>\n      <td>NaN</td>\n      <td>NaN</td>\n      <td>NaN</td>\n      <td>NaN</td>\n      <td>NaN</td>\n      <td>NaN</td>\n      <td>NaN</td>\n      <td>NaN</td>\n      <td>NaN</td>\n      <td>NaN</td>\n    </tr>\n    <tr>\n      <th>3807483</th>\n      <td>(6255, 32)</td>\n      <td>0</td>\n      <td>217153.0</td>\n      <td>217154.0</td>\n      <td>217155.0</td>\n      <td>217156.0</td>\n      <td>NaN</td>\n      <td>NaN</td>\n      <td>NaN</td>\n      <td>NaN</td>\n      <td>...</td>\n      <td>NaN</td>\n      <td>NaN</td>\n      <td>NaN</td>\n      <td>NaN</td>\n      <td>NaN</td>\n      <td>NaN</td>\n      <td>NaN</td>\n      <td>NaN</td>\n      <td>NaN</td>\n      <td>NaN</td>\n    </tr>\n    <tr>\n      <th>3807484</th>\n      <td>(6255, 33)</td>\n      <td>0</td>\n      <td>217153.0</td>\n      <td>217154.0</td>\n      <td>217155.0</td>\n      <td>217156.0</td>\n      <td>NaN</td>\n      <td>NaN</td>\n      <td>NaN</td>\n      <td>NaN</td>\n      <td>...</td>\n      <td>NaN</td>\n      <td>NaN</td>\n      <td>NaN</td>\n      <td>NaN</td>\n      <td>NaN</td>\n      <td>NaN</td>\n      <td>NaN</td>\n      <td>NaN</td>\n      <td>NaN</td>\n      <td>NaN</td>\n    </tr>\n    <tr>\n      <th>3807485</th>\n      <td>(6255, 34)</td>\n      <td>0</td>\n      <td>217153.0</td>\n      <td>217154.0</td>\n      <td>217155.0</td>\n      <td>217156.0</td>\n      <td>NaN</td>\n      <td>NaN</td>\n      <td>NaN</td>\n      <td>NaN</td>\n      <td>...</td>\n      <td>NaN</td>\n      <td>NaN</td>\n      <td>NaN</td>\n      <td>NaN</td>\n      <td>NaN</td>\n      <td>NaN</td>\n      <td>NaN</td>\n      <td>NaN</td>\n      <td>NaN</td>\n      <td>NaN</td>\n    </tr>\n    <tr>\n      <th>3807486</th>\n      <td>(6255, 35)</td>\n      <td>0</td>\n      <td>217153.0</td>\n      <td>217154.0</td>\n      <td>217155.0</td>\n      <td>217156.0</td>\n      <td>NaN</td>\n      <td>NaN</td>\n      <td>NaN</td>\n      <td>NaN</td>\n      <td>...</td>\n      <td>NaN</td>\n      <td>NaN</td>\n      <td>NaN</td>\n      <td>NaN</td>\n      <td>NaN</td>\n      <td>NaN</td>\n      <td>NaN</td>\n      <td>NaN</td>\n      <td>NaN</td>\n      <td>NaN</td>\n    </tr>\n  </tbody>\n</table>\n<p>3803196 rows × 23 columns</p>\n</div>"
     },
     "execution_count": 12,
     "metadata": {},
     "output_type": "execute_result"
    }
   ],
   "source": [
    "mask = []\n",
    "for tour_idx in tqdm(train_idx):\n",
    "    for team in results.loc[tour_idx]:\n",
    "        if not(team['mask'] is None):\n",
    "            player_ids = [int(player['player']['id']) for player in team['teamMembers']]\n",
    "            for q_index, q_val in enumerate(team['mask']):\n",
    "                if (q_val in ['0', '1']) and ((tour_idx, q_index) in questions_ratings.index):\n",
    "                    mask.append([(tour_idx, q_index), int(q_val)] + player_ids)\n",
    "mask = pd.DataFrame(mask, columns = ['question', 'y'] + [f'player{x}' for x in range(21)])\n",
    "mask = mask.dropna(subset=['player0'])\n",
    "mask"
   ],
   "metadata": {
    "collapsed": false,
    "pycharm": {
     "name": "#%%\n"
    }
   }
  },
  {
   "cell_type": "code",
   "execution_count": 13,
   "outputs": [],
   "source": [
    "ratings_dict = ratings.to_dict()\n",
    "questions_ratings_dict = questions_ratings.to_dict()\n",
    "y_ratings = mask['y']\n",
    "q_scores = mask.question.map(lambda x: questions_ratings_dict[x])\n",
    "team_scores = mask[[f'player{x}' for x in range(21)]].parallel_applymap(\n",
    "    lambda x: ratings_dict[x] if not np.isnan(x) else None, axis=1)\n",
    "team_scores = pd.DataFrame(team_scores.parallel_apply(\n",
    "    lambda x: sorted(x.dropna().values, reverse=True)[:6], axis=1)\n",
    "                           .values.tolist(), index=q_scores.index).fillna(axis=1, method='ffill')\n",
    "X_ratings = pd.concat([team_scores, q_scores], axis=1)"
   ],
   "metadata": {
    "collapsed": false,
    "pycharm": {
     "name": "#%%\n"
    }
   }
  },
  {
   "cell_type": "code",
   "execution_count": 14,
   "outputs": [],
   "source": [
    "## depricated ##\n",
    "\n",
    "# X_train = []\n",
    "# for tour_idx in tqdm(train_idx):\n",
    "#     for team in results.loc[tour_idx]:\n",
    "#         if not(team['mask'] is None):\n",
    "#             player_ids = [int(player['player']['id']) for player in team['teamMembers']]\n",
    "#             player_ratings = ratings.loc[player_ids].sort_values(ascending=False).iloc[:6].tolist()\n",
    "#             if len(player_ratings) > 0:\n",
    "#                 while len(player_ratings) < 6:\n",
    "#                     player_ratings.append(player_ratings[-1])\n",
    "#                 for q_index, q_val in enumerate(team['mask']):\n",
    "#                     if (q_val in ['0', '1']) and ((tour_idx, q_index) in questions_ratings.index):\n",
    "#                         X_train.append(player_ratings + [questions_ratings.loc[(tour_idx, q_index)], int(q_val)])\n",
    "# X_train = pd.DataFrame(X_train, columns=['player1', 'player2','player3','player4','player5','player6','question','y']).dropna(subset=['question'])\n",
    "# X_train.head()"
   ],
   "metadata": {
    "collapsed": false,
    "pycharm": {
     "name": "#%%\n"
    }
   }
  },
  {
   "cell_type": "code",
   "execution_count": 15,
   "outputs": [
    {
     "data": {
      "text/plain": "array([0.20836541, 0.21829504, 0.17785539, 0.21220936, 0.19721631,\n       0.0683978 , 1.04419533])"
     },
     "execution_count": 15,
     "metadata": {},
     "output_type": "execute_result"
    }
   ],
   "source": [
    "lr_teams = LogisticRegression(fit_intercept = True, random_state = 57,solver = 'saga')\n",
    "lr_teams.fit(X_ratings, y_ratings)\n",
    "lr_teams.coef_[0]"
   ],
   "metadata": {
    "collapsed": false,
    "pycharm": {
     "name": "#%%\n"
    }
   }
  },
  {
   "cell_type": "markdown",
   "source": [
    "Видно, что в целом это похоже на сумму, за исключением того, что 6 игрок чаще всего не нужен. Думаю, результаты получились столь близкими из-за близости рейтингов игроков одной команды"
   ],
   "metadata": {
    "collapsed": false,
    "pycharm": {
     "name": "#%% md\n"
    }
   }
  },
  {
   "cell_type": "code",
   "execution_count": 16,
   "outputs": [
    {
     "data": {
      "text/plain": "   tournament_id  team_position  team_rating\n0           4957            1.0     4.225963\n1           4957            2.0     3.188382\n2           4957            3.0     3.057432\n3           4957            4.0     3.581016\n4           4957            5.5     3.487737",
      "text/html": "<div>\n<style scoped>\n    .dataframe tbody tr th:only-of-type {\n        vertical-align: middle;\n    }\n\n    .dataframe tbody tr th {\n        vertical-align: top;\n    }\n\n    .dataframe thead th {\n        text-align: right;\n    }\n</style>\n<table border=\"1\" class=\"dataframe\">\n  <thead>\n    <tr style=\"text-align: right;\">\n      <th></th>\n      <th>tournament_id</th>\n      <th>team_position</th>\n      <th>team_rating</th>\n    </tr>\n  </thead>\n  <tbody>\n    <tr>\n      <th>0</th>\n      <td>4957</td>\n      <td>1.0</td>\n      <td>4.225963</td>\n    </tr>\n    <tr>\n      <th>1</th>\n      <td>4957</td>\n      <td>2.0</td>\n      <td>3.188382</td>\n    </tr>\n    <tr>\n      <th>2</th>\n      <td>4957</td>\n      <td>3.0</td>\n      <td>3.057432</td>\n    </tr>\n    <tr>\n      <th>3</th>\n      <td>4957</td>\n      <td>4.0</td>\n      <td>3.581016</td>\n    </tr>\n    <tr>\n      <th>4</th>\n      <td>4957</td>\n      <td>5.5</td>\n      <td>3.487737</td>\n    </tr>\n  </tbody>\n</table>\n</div>"
     },
     "execution_count": 16,
     "metadata": {},
     "output_type": "execute_result"
    }
   ],
   "source": [
    "test_results = []\n",
    "for tour_idx in test_idx:\n",
    "    for team in results.loc[tour_idx]:\n",
    "        player_ids = [int(player['player']['id']) for player in team['teamMembers'] if int(player['player']['id']) in ratings.index]\n",
    "        if len(player_ids) > 0:\n",
    "            player_ratings = ratings.loc[player_ids].sort_values(ascending=False).iloc[:6].tolist()\n",
    "            while len(player_ratings) < 6:\n",
    "                player_ratings.append(player_ratings[-1])\n",
    "            team_rating = lr_teams.coef_[0][:6] @ np.array(player_ratings)\n",
    "            test_results.append([tour_idx, team['position'], team_rating])\n",
    "test_results = pd.DataFrame(test_results, columns=['tournament_id', 'team_position', 'team_rating'])\n",
    "test_results.head()"
   ],
   "metadata": {
    "collapsed": false,
    "pycharm": {
     "name": "#%%\n"
    }
   }
  },
  {
   "cell_type": "code",
   "execution_count": 17,
   "outputs": [
    {
     "data": {
      "text/plain": "(0.7923564192508571, 0.6369316439646432)"
     },
     "execution_count": 17,
     "metadata": {},
     "output_type": "execute_result"
    }
   ],
   "source": [
    "from scipy.stats import spearmanr, kendalltau\n",
    "\n",
    "test_results.groupby('tournament_id').apply(lambda x: -spearmanr(x.team_position, x.team_rating)[0]).mean(), \\\n",
    "test_results.groupby('tournament_id').apply(lambda x: -kendalltau(x.team_position, x.team_rating)[0]).mean()"
   ],
   "metadata": {
    "collapsed": false,
    "pycharm": {
     "name": "#%%\n"
    }
   }
  },
  {
   "cell_type": "markdown",
   "source": [
    "4. Теперь главное: ЧГК — это всё-таки командная игра. Поэтому:\n",
    "* предложите способ учитывать то, что на вопрос отвечают сразу несколько\n",
    "игроков; скорее всего, понадобятся скрытые переменные; не стесняйтесь делать\n",
    "упрощающие предположения, но теперь переменные “игрок X ответил на вопрос\n",
    "Y” при условии данных должны стать зависимыми для игроков одной и той же\n",
    "команды;\n",
    "* разработайте EM-схему для обучения этой модели, реализуйте её в коде;\n",
    "* обучите несколько итераций, убедитесь, что целевые метрики со временем\n",
    "растут (скорее всего, ненамного, но расти должны), выберите лучшую модель,\n",
    "используя целевые метрики."
   ],
   "metadata": {
    "collapsed": false,
    "pycharm": {
     "name": "#%% md\n"
    }
   }
  },
  {
   "cell_type": "markdown",
   "source": [
    "Теперь задача такая - вся команда совместно отвечает на вопрос. Если бы мы знали, какой из игроков может ответить на вопрос - задача бы легко решалась, как мы уже делали раньше. Что точно можно утверждать - так это то, что если задача не решена - она не решена никем.\n",
    "\n",
    "С другой стороны нам необходимо использовать EM алгоритм. M шаг - максимизация правдоподобия. Мы делаем его в момент обучения нашей логистической регрессии. Во время её обучения мы как раз-таки делали предположения о том, что все участники команды способны её решить, т.е. скрытыми переменными является информация о том, способен ли каждый конкретный участник решить данную задачу. Эта самая способность исчисляется вероятностью. Проще всего посчитать вероятность того, что команда не решит задачу. Она равна(исходя из наших упрощений)\n",
    "$$P(y = 0 | x_i_0, x_i_1, ...) = \\prod_{j \\in Q}P(y = 0 | x_i_j)$$\n",
    "Соответственно, это означает то, что обучив модель(переходим на E шаг), мы теперь можем оценить вероятность правильного ответа команды как\n",
    "$$P(y = 1 | x_i_0, x_i_1, ...) = 1 - P(y = 0 | x_i_0, x_i_1, ...) = 1 - \\prod_{j \\in Q}P(y = 0 | x_i_j)$$\n",
    "А теперь снова перейдём к нашему упрощению и получим:\n",
    "$$P(y = 1 | x_i_j) \t\\cong P(y = 1 | x_i_0, x_i_1, ...) = 1 - P(y = 0 | x_i_0, x_i_1, ...) = 1 - \\prod_{j \\in Q}P(y = 0 | x_i_j)$$\n",
    "Ввиду использования sсikit-learn, будем подавать эту вероятность в качестве весов для модели на m-шаге"
   ],
   "metadata": {
    "collapsed": false,
    "pycharm": {
     "name": "#%% md\n"
    }
   }
  },
  {
   "cell_type": "code",
   "execution_count": 18,
   "outputs": [],
   "source": [
    "def m_step(probas):\n",
    "    lr = LogisticRegression(fit_intercept = True,random_state = 57,solver = 'saga', n_jobs=6)\n",
    "    lr.fit(X, y, probas)\n",
    "    return lr\n",
    "\n",
    "\n",
    "def e_step(lr):\n",
    "    # concat team_question with the prediction\n",
    "    probas = pd.concat([pd.Series(team_row_id), pd.Series(lr.predict_proba(X)[:, 0])], axis=1).sort_values(by=[0])\n",
    "    # aggregate score from team+q\n",
    "    probas = 1 - probas.groupby(0).agg('prod')\n",
    "    probas = probas.loc[team_row_id].values\n",
    "    probas = probas[:, 0] * np.array(y)\n",
    "    probas += (1 - np.array(y))\n",
    "    return probas\n",
    "\n",
    "\n",
    "def update_rating(lr):\n",
    "    ratings = pd.Series({player_id: lr.coef_[0][m_idx] for player_id, m_idx in players.items()})\n",
    "    questions_ratings = pd.Series({question_id: lr.coef_[0][m_idx] for question_id, m_idx in questions.items()})\n",
    "    ratings_dict = ratings.to_dict()\n",
    "    questions_ratings_dict = questions_ratings.to_dict()\n",
    "    q_scores = mask.question.map(lambda x: questions_ratings_dict[x])\n",
    "    team_scores = mask[[f'player{x}' for x in range(21)]].parallel_applymap(\n",
    "        lambda x: ratings_dict[x] if not np.isnan(x) else None, axis=1)\n",
    "    team_scores = pd.DataFrame(team_scores.parallel_apply(\n",
    "    lambda x: sorted(x.dropna().values, reverse=True)[:6], axis=1)\n",
    "                           .values.tolist(), index=q_scores.index).fillna(axis=1, method='ffill')\n",
    "    X_ratings = pd.concat([team_scores, q_scores], axis=1)\n",
    "    lr_teams = LogisticRegression(fit_intercept = True, random_state = 57,solver = 'saga')\n",
    "    lr_teams.fit(X_ratings, y_ratings)\n",
    "    return ratings, questions_ratings, lr_teams.coef_[0]\n",
    "\n",
    "\n",
    "def calc_test_metrics(teams_coef, ratings):\n",
    "    test_results = []\n",
    "    for tour_idx in test_idx:\n",
    "        for team in results.loc[tour_idx]:\n",
    "            player_ids = [int(player['player']['id']) for player in team['teamMembers'] if int(player['player']['id']) in ratings.index]\n",
    "            if len(player_ids) > 0:\n",
    "                player_ratings = ratings.loc[player_ids].sort_values(ascending=False).iloc[:6].tolist()\n",
    "                while len(player_ratings) < 6:\n",
    "                    player_ratings.append(player_ratings[-1])\n",
    "                team_rating = teams_coef[:6] @ np.array(player_ratings)\n",
    "                test_results.append([tour_idx, team['position'], team_rating])\n",
    "    test_results = pd.DataFrame(test_results, columns=['tournament_id', 'team_position', 'team_rating'])\n",
    "    spearman_score = test_results.groupby('tournament_id').apply(lambda x: -spearmanr(x.team_position, x.team_rating)[0]).mean()\n",
    "    kendall_score = test_results.groupby('tournament_id').apply(lambda x: -kendalltau(x.team_position, x.team_rating)[0]).mean()\n",
    "    return spearman_score, kendall_score\n",
    "\n",
    "\n",
    "def pipeline(iterations=20):\n",
    "    best_score = 0\n",
    "    best_ratings = None\n",
    "    weights = np.ones(len(y))\n",
    "    for _ in tqdm(range(iterations)):\n",
    "        lr = m_step(weights)\n",
    "        ratings, questions_ratings, teams_coef = update_rating(lr)\n",
    "        score1, score2 = calc_test_metrics(teams_coef, ratings)\n",
    "        print(f'Coefficient of correlation Spearman: {score1}, Kendall {score2}')\n",
    "        if score1 + score2 > best_score:\n",
    "            best_score = score1 + score2\n",
    "            best_ratings = (lr, ratings, questions_ratings, teams_coef)\n",
    "        weights = e_step(lr)\n",
    "    return best_ratings"
   ],
   "metadata": {
    "collapsed": false,
    "pycharm": {
     "name": "#%%\n"
    }
   }
  },
  {
   "cell_type": "code",
   "execution_count": 19,
   "outputs": [
    {
     "data": {
      "text/plain": "  0%|          | 0/20 [00:00<?, ?it/s]",
      "application/vnd.jupyter.widget-view+json": {
       "version_major": 2,
       "version_minor": 0,
       "model_id": "7903e1c0a3214dfe8281336bf4a386a0"
      }
     },
     "metadata": {},
     "output_type": "display_data"
    },
    {
     "name": "stdout",
     "output_type": "stream",
     "text": [
      "Coefficient of correlation Spearman: 0.7923564192508571, Kendall 0.6369316439646432\n",
      "Coefficient of correlation Spearman: 0.7917345518885482, Kendall 0.6351449388016083\n",
      "Coefficient of correlation Spearman: 0.790879300369605, Kendall 0.6343097167373191\n",
      "Coefficient of correlation Spearman: 0.791304144111033, Kendall 0.6352235210547711\n",
      "Coefficient of correlation Spearman: 0.78960619571955, Kendall 0.6338777253679475\n",
      "Coefficient of correlation Spearman: 0.7895407585774119, Kendall 0.6339277687906102\n",
      "Coefficient of correlation Spearman: 0.7894009139878527, Kendall 0.6338491738891545\n",
      "Coefficient of correlation Spearman: 0.7893469477663526, Kendall 0.6337827819692138\n",
      "Coefficient of correlation Spearman: 0.7893447813762233, Kendall 0.6337638517814385\n",
      "Coefficient of correlation Spearman: 0.7893260777485663, Kendall 0.6337378654963515\n",
      "Coefficient of correlation Spearman: 0.7893488886524297, Kendall 0.6337789102541942\n",
      "Coefficient of correlation Spearman: 0.7893604149882094, Kendall 0.6337813819121564\n",
      "Coefficient of correlation Spearman: 0.7893793233142338, Kendall 0.633798662196477\n",
      "Coefficient of correlation Spearman: 0.7893690319120591, Kendall 0.6337736766022685\n",
      "Coefficient of correlation Spearman: 0.7893713698393579, Kendall 0.6337754151527158\n",
      "Coefficient of correlation Spearman: 0.7893710213887631, Kendall 0.6337748903069376\n",
      "Coefficient of correlation Spearman: 0.789368814933725, Kendall 0.6337730053424094\n",
      "Coefficient of correlation Spearman: 0.7893689402390596, Kendall 0.6337732176961767\n",
      "Coefficient of correlation Spearman: 0.7893695280151377, Kendall 0.6337735844263716\n",
      "Coefficient of correlation Spearman: 0.7893648798570282, Kendall 0.6337669651520151\n"
     ]
    }
   ],
   "source": [
    "lr, ratings, questions_ratings, teams_coef = pipeline()"
   ],
   "metadata": {
    "collapsed": false,
    "pycharm": {
     "name": "#%%\n"
    }
   }
  },
  {
   "cell_type": "code",
   "execution_count": 20,
   "outputs": [
    {
     "data": {
      "text/plain": "0.00016920187475677232"
     },
     "execution_count": 20,
     "metadata": {},
     "output_type": "execute_result"
    }
   ],
   "source": [
    "ratings[ratings >= ratings[22799]].shape[0] / ratings.shape[0]"
   ],
   "metadata": {
    "collapsed": false,
    "pycharm": {
     "name": "#%%\n"
    }
   }
  },
  {
   "cell_type": "markdown",
   "source": [
    "Вывод:\n",
    "\n",
    "EM алгоритм не справился. Лучшая модель так и осталась с первой итерации."
   ],
   "metadata": {
    "collapsed": false,
    "pycharm": {
     "name": "#%% md\n"
    }
   }
  },
  {
   "cell_type": "markdown",
   "source": [
    "5. А что там с вопросами? Постройте “рейтинг-лист” турниров по сложности вопросов.\n",
    "Соответствует ли он интуиции (например, на чемпионате мира в целом должны быть\n",
    "сложные вопросы, а на турнирах для школьников — простые)? Если будет интересно:\n",
    "постройте топ сложных и простых вопросов со ссылками на конкретные записи в базе\n",
    "вопросов ЧГК (это чисто техническое дело, тут никакого ML нету)."
   ],
   "metadata": {
    "collapsed": false,
    "pycharm": {
     "name": "#%% md\n"
    }
   }
  },
  {
   "cell_type": "code",
   "execution_count": 68,
   "outputs": [
    {
     "data": {
      "text/plain": "                                         name      mean       max       min\n6149  Чемпионат Санкт-Петербурга. Первая лига -4.443113 -4.443108 -4.443115\n5946         Чемпионат Мира. Этап 3. Группа В -1.368447  0.258438 -4.659388\n5928                              Угрюмый Ёрш -2.284861  0.318945 -4.979611\n6102                         One ring - async  0.030130  0.408941 -0.393243\n5947         Чемпионат Мира. Этап 3. Группа С -1.355473  0.538885 -4.069982\n...                                       ...       ...       ...       ...\n5012        Школьный Синхрон-lite. Выпуск 2.5  2.084373  5.827135 -1.197565\n5644                Школьный чемпионат России  1.015975  5.834918 -2.922986\n5013   (а)Синхрон-lite. Лига старта. Эпизод V  2.401641  5.950614 -1.324158\n5702  (а)Синхрон-lite. Лига старта. Эпизод IX  2.162632  6.078022 -1.579863\n6008                      Малый кубок Физтеха  1.819964  6.098188 -1.295378\n\n[675 rows x 4 columns]",
      "text/html": "<div>\n<style scoped>\n    .dataframe tbody tr th:only-of-type {\n        vertical-align: middle;\n    }\n\n    .dataframe tbody tr th {\n        vertical-align: top;\n    }\n\n    .dataframe thead th {\n        text-align: right;\n    }\n</style>\n<table border=\"1\" class=\"dataframe\">\n  <thead>\n    <tr style=\"text-align: right;\">\n      <th></th>\n      <th>name</th>\n      <th>mean</th>\n      <th>max</th>\n      <th>min</th>\n    </tr>\n  </thead>\n  <tbody>\n    <tr>\n      <th>6149</th>\n      <td>Чемпионат Санкт-Петербурга. Первая лига</td>\n      <td>-4.443113</td>\n      <td>-4.443108</td>\n      <td>-4.443115</td>\n    </tr>\n    <tr>\n      <th>5946</th>\n      <td>Чемпионат Мира. Этап 3. Группа В</td>\n      <td>-1.368447</td>\n      <td>0.258438</td>\n      <td>-4.659388</td>\n    </tr>\n    <tr>\n      <th>5928</th>\n      <td>Угрюмый Ёрш</td>\n      <td>-2.284861</td>\n      <td>0.318945</td>\n      <td>-4.979611</td>\n    </tr>\n    <tr>\n      <th>6102</th>\n      <td>One ring - async</td>\n      <td>0.030130</td>\n      <td>0.408941</td>\n      <td>-0.393243</td>\n    </tr>\n    <tr>\n      <th>5947</th>\n      <td>Чемпионат Мира. Этап 3. Группа С</td>\n      <td>-1.355473</td>\n      <td>0.538885</td>\n      <td>-4.069982</td>\n    </tr>\n    <tr>\n      <th>...</th>\n      <td>...</td>\n      <td>...</td>\n      <td>...</td>\n      <td>...</td>\n    </tr>\n    <tr>\n      <th>5012</th>\n      <td>Школьный Синхрон-lite. Выпуск 2.5</td>\n      <td>2.084373</td>\n      <td>5.827135</td>\n      <td>-1.197565</td>\n    </tr>\n    <tr>\n      <th>5644</th>\n      <td>Школьный чемпионат России</td>\n      <td>1.015975</td>\n      <td>5.834918</td>\n      <td>-2.922986</td>\n    </tr>\n    <tr>\n      <th>5013</th>\n      <td>(а)Синхрон-lite. Лига старта. Эпизод V</td>\n      <td>2.401641</td>\n      <td>5.950614</td>\n      <td>-1.324158</td>\n    </tr>\n    <tr>\n      <th>5702</th>\n      <td>(а)Синхрон-lite. Лига старта. Эпизод IX</td>\n      <td>2.162632</td>\n      <td>6.078022</td>\n      <td>-1.579863</td>\n    </tr>\n    <tr>\n      <th>6008</th>\n      <td>Малый кубок Физтеха</td>\n      <td>1.819964</td>\n      <td>6.098188</td>\n      <td>-1.295378</td>\n    </tr>\n  </tbody>\n</table>\n<p>675 rows × 4 columns</p>\n</div>"
     },
     "execution_count": 68,
     "metadata": {},
     "output_type": "execute_result"
    }
   ],
   "source": [
    "tournamets_rating = questions_ratings.reset_index().groupby('level_0')[0].agg(['mean', 'max', 'min', 'std'])\n",
    "tournaments.merge(tournamets_rating, left_index=True, right_index=True, how='inner').sort_values(by='max')[['name', 'mean', 'max', 'min']]"
   ],
   "metadata": {
    "collapsed": false,
    "pycharm": {
     "name": "#%%\n"
    }
   }
  },
  {
   "cell_type": "code",
   "execution_count": 69,
   "outputs": [
    {
     "data": {
      "text/plain": "                                          name      mean       max       min\n6149   Чемпионат Санкт-Петербурга. Первая лига -4.443113 -4.443108 -4.443115\n5928                               Угрюмый Ёрш -2.284861  0.318945 -4.979611\n5159              Первенство правого полушария -2.060456  2.335225 -5.537197\n5684                Синхрон высшей лиги Москвы -2.025317  1.127712 -4.741303\n6101                        Воображаемый музей -1.973223  1.200191 -4.485349\n...                                        ...       ...       ...       ...\n5438                       Синхрон Лиги Разума  2.141110  3.831741 -1.473219\n5698  (а)Синхрон-lite. Лига старта. Эпизод VII  2.145508  5.623299 -0.362648\n5702   (а)Синхрон-lite. Лига старта. Эпизод IX  2.162632  6.078022 -1.579863\n5009  (а)Синхрон-lite. Лига старта. Эпизод III  2.202455  4.894104 -1.187950\n5013    (а)Синхрон-lite. Лига старта. Эпизод V  2.401641  5.950614 -1.324158\n\n[675 rows x 4 columns]",
      "text/html": "<div>\n<style scoped>\n    .dataframe tbody tr th:only-of-type {\n        vertical-align: middle;\n    }\n\n    .dataframe tbody tr th {\n        vertical-align: top;\n    }\n\n    .dataframe thead th {\n        text-align: right;\n    }\n</style>\n<table border=\"1\" class=\"dataframe\">\n  <thead>\n    <tr style=\"text-align: right;\">\n      <th></th>\n      <th>name</th>\n      <th>mean</th>\n      <th>max</th>\n      <th>min</th>\n    </tr>\n  </thead>\n  <tbody>\n    <tr>\n      <th>6149</th>\n      <td>Чемпионат Санкт-Петербурга. Первая лига</td>\n      <td>-4.443113</td>\n      <td>-4.443108</td>\n      <td>-4.443115</td>\n    </tr>\n    <tr>\n      <th>5928</th>\n      <td>Угрюмый Ёрш</td>\n      <td>-2.284861</td>\n      <td>0.318945</td>\n      <td>-4.979611</td>\n    </tr>\n    <tr>\n      <th>5159</th>\n      <td>Первенство правого полушария</td>\n      <td>-2.060456</td>\n      <td>2.335225</td>\n      <td>-5.537197</td>\n    </tr>\n    <tr>\n      <th>5684</th>\n      <td>Синхрон высшей лиги Москвы</td>\n      <td>-2.025317</td>\n      <td>1.127712</td>\n      <td>-4.741303</td>\n    </tr>\n    <tr>\n      <th>6101</th>\n      <td>Воображаемый музей</td>\n      <td>-1.973223</td>\n      <td>1.200191</td>\n      <td>-4.485349</td>\n    </tr>\n    <tr>\n      <th>...</th>\n      <td>...</td>\n      <td>...</td>\n      <td>...</td>\n      <td>...</td>\n    </tr>\n    <tr>\n      <th>5438</th>\n      <td>Синхрон Лиги Разума</td>\n      <td>2.141110</td>\n      <td>3.831741</td>\n      <td>-1.473219</td>\n    </tr>\n    <tr>\n      <th>5698</th>\n      <td>(а)Синхрон-lite. Лига старта. Эпизод VII</td>\n      <td>2.145508</td>\n      <td>5.623299</td>\n      <td>-0.362648</td>\n    </tr>\n    <tr>\n      <th>5702</th>\n      <td>(а)Синхрон-lite. Лига старта. Эпизод IX</td>\n      <td>2.162632</td>\n      <td>6.078022</td>\n      <td>-1.579863</td>\n    </tr>\n    <tr>\n      <th>5009</th>\n      <td>(а)Синхрон-lite. Лига старта. Эпизод III</td>\n      <td>2.202455</td>\n      <td>4.894104</td>\n      <td>-1.187950</td>\n    </tr>\n    <tr>\n      <th>5013</th>\n      <td>(а)Синхрон-lite. Лига старта. Эпизод V</td>\n      <td>2.401641</td>\n      <td>5.950614</td>\n      <td>-1.324158</td>\n    </tr>\n  </tbody>\n</table>\n<p>675 rows × 4 columns</p>\n</div>"
     },
     "execution_count": 69,
     "metadata": {},
     "output_type": "execute_result"
    }
   ],
   "source": [
    "tournaments.merge(tournamets_rating, left_index=True, right_index=True, how='inner').sort_values(by='mean')[['name', 'mean', 'max', 'min']]"
   ],
   "metadata": {
    "collapsed": false,
    "pycharm": {
     "name": "#%%\n"
    }
   }
  },
  {
   "cell_type": "code",
   "execution_count": 70,
   "outputs": [
    {
     "data": {
      "text/plain": "                                          name      mean       max       min\n5186          VERSUS: Коробейников vs. Матвеев -1.512627  2.353458 -5.707873\n5465                          Чемпионат России -1.543163  1.972370 -5.575786\n5159              Первенство правого полушария -2.060456  2.335225 -5.537197\n5780                             Кубок ярмарок -1.059003  3.699472 -5.502984\n5774                             Синхрон Кеста -1.024460  1.396999 -5.356996\n...                                        ...       ...       ...       ...\n6102                          One ring - async  0.030130  0.408941 -0.393243\n5698  (а)Синхрон-lite. Лига старта. Эпизод VII  2.145508  5.623299 -0.362648\n5313   (а)Синхрон-lite. Лига старта. Эпизод VI  1.915013  5.509185 -0.335386\n5955                   Школьная лига. III тур.  1.982821  5.243693 -0.285767\n5936                     Школьная лига. I тур.  2.057144  4.470169  0.170850\n\n[675 rows x 4 columns]",
      "text/html": "<div>\n<style scoped>\n    .dataframe tbody tr th:only-of-type {\n        vertical-align: middle;\n    }\n\n    .dataframe tbody tr th {\n        vertical-align: top;\n    }\n\n    .dataframe thead th {\n        text-align: right;\n    }\n</style>\n<table border=\"1\" class=\"dataframe\">\n  <thead>\n    <tr style=\"text-align: right;\">\n      <th></th>\n      <th>name</th>\n      <th>mean</th>\n      <th>max</th>\n      <th>min</th>\n    </tr>\n  </thead>\n  <tbody>\n    <tr>\n      <th>5186</th>\n      <td>VERSUS: Коробейников vs. Матвеев</td>\n      <td>-1.512627</td>\n      <td>2.353458</td>\n      <td>-5.707873</td>\n    </tr>\n    <tr>\n      <th>5465</th>\n      <td>Чемпионат России</td>\n      <td>-1.543163</td>\n      <td>1.972370</td>\n      <td>-5.575786</td>\n    </tr>\n    <tr>\n      <th>5159</th>\n      <td>Первенство правого полушария</td>\n      <td>-2.060456</td>\n      <td>2.335225</td>\n      <td>-5.537197</td>\n    </tr>\n    <tr>\n      <th>5780</th>\n      <td>Кубок ярмарок</td>\n      <td>-1.059003</td>\n      <td>3.699472</td>\n      <td>-5.502984</td>\n    </tr>\n    <tr>\n      <th>5774</th>\n      <td>Синхрон Кеста</td>\n      <td>-1.024460</td>\n      <td>1.396999</td>\n      <td>-5.356996</td>\n    </tr>\n    <tr>\n      <th>...</th>\n      <td>...</td>\n      <td>...</td>\n      <td>...</td>\n      <td>...</td>\n    </tr>\n    <tr>\n      <th>6102</th>\n      <td>One ring - async</td>\n      <td>0.030130</td>\n      <td>0.408941</td>\n      <td>-0.393243</td>\n    </tr>\n    <tr>\n      <th>5698</th>\n      <td>(а)Синхрон-lite. Лига старта. Эпизод VII</td>\n      <td>2.145508</td>\n      <td>5.623299</td>\n      <td>-0.362648</td>\n    </tr>\n    <tr>\n      <th>5313</th>\n      <td>(а)Синхрон-lite. Лига старта. Эпизод VI</td>\n      <td>1.915013</td>\n      <td>5.509185</td>\n      <td>-0.335386</td>\n    </tr>\n    <tr>\n      <th>5955</th>\n      <td>Школьная лига. III тур.</td>\n      <td>1.982821</td>\n      <td>5.243693</td>\n      <td>-0.285767</td>\n    </tr>\n    <tr>\n      <th>5936</th>\n      <td>Школьная лига. I тур.</td>\n      <td>2.057144</td>\n      <td>4.470169</td>\n      <td>0.170850</td>\n    </tr>\n  </tbody>\n</table>\n<p>675 rows × 4 columns</p>\n</div>"
     },
     "execution_count": 70,
     "metadata": {},
     "output_type": "execute_result"
    }
   ],
   "source": [
    "tournaments.merge(tournamets_rating, left_index=True, right_index=True, how='inner').sort_values(by='min')[['name', 'mean', 'max', 'min']]"
   ],
   "metadata": {
    "collapsed": false,
    "pycharm": {
     "name": "#%%\n"
    }
   }
  },
  {
   "cell_type": "markdown",
   "source": [
    "Вывод:\n",
    "\n",
    "Наша рейтинг система игроков составлена таким образом, что чем выше рейтинг у игрока, тем с большей вероятностью он правильно ответит на вопрос. С другой стороны, чем выше рейтинг у вопроса, тем выше вероятность, что на него ответят, т.е. самые сложные вопросы имеют наименьший рейтинг.\n",
    "Придумать хорошее ранжирование турниров не так просто. Потому что турнир задаётся распределением вопросов, которые там задаются. Простые критерии, которые приходят в голову - самый простой вопрос, самый сложный, и среднее значение. На первые две метрики могут сильно повлиять выбросы."
   ],
   "metadata": {
    "collapsed": false,
    "pycharm": {
     "name": "#%% md\n"
    }
   }
  },
  {
   "cell_type": "code",
   "execution_count": 60,
   "outputs": [
    {
     "data": {
      "text/plain": "<AxesSubplot:ylabel='Density'>"
     },
     "execution_count": 60,
     "metadata": {},
     "output_type": "execute_result"
    },
    {
     "data": {
      "text/plain": "<Figure size 432x288 with 1 Axes>",
      "image/png": "[encoded data removed]"
     },
     "metadata": {
      "needs_background": "light"
     },
     "output_type": "display_data"
    }
   ],
   "source": [
    "import seaborn as sns\n",
    "# В качестве примера построим какое распределение нам напоминают вопросы с чемпионата России\n",
    "sns.distplot(questions_ratings.loc[5465, :])"
   ],
   "metadata": {
    "collapsed": false,
    "pycharm": {
     "name": "#%%\n"
    }
   }
  },
  {
   "cell_type": "code",
   "execution_count": 67,
   "outputs": [
    {
     "data": {
      "text/plain": "<Figure size 864x576 with 16 Axes>",
      "image/png": "[encoded data removed]"
     },
     "metadata": {
      "needs_background": "light"
     },
     "output_type": "display_data"
    }
   ],
   "source": [
    "import matplotlib.pyplot as plt\n",
    "\n",
    "\n",
    "indexes = tournaments.merge(tournamets_rating, left_index=True, right_index=True, how='inner').sort_values(by='min')[['name', 'mean', 'max', 'min']].index\n",
    "sample = np.random.choice(indexes, 16)\n",
    "plt.figure(figsize=(12, 8))\n",
    "for idx, tour in enumerate(sample, 1):\n",
    "    plt.subplot(4, 4, idx)\n",
    "    image = sns.distplot(questions_ratings.loc[tour, :])\n",
    "    # plt.imshow(image)\n",
    "\n",
    "plt.tight_layout()\n",
    "plt.show()"
   ],
   "metadata": {
    "collapsed": false,
    "pycharm": {
     "name": "#%%\n"
    }
   }
  },
  {
   "cell_type": "markdown",
   "source": [
    "Кажется, что распределение похоже на нормальное, поэтому турнир задаётся средним и дисперсией вопросов. Можно, вычесть одну значение одного std из среднего и получить ожидаемый уровень сложных вопросов с турнира. Пусть будет решающим критерием."
   ],
   "metadata": {
    "collapsed": false,
    "pycharm": {
     "name": "#%% md\n"
    }
   }
  },
  {
   "cell_type": "code",
   "execution_count": 75,
   "outputs": [
    {
     "data": {
      "text/plain": "                                              mean           std    rating\nname                                                                      \nЧемпионат Санкт-Петербурга. Первая лига  -4.443113  9.465984e-07 -4.443114\nПервенство правого полушария             -2.060456  1.801905e+00 -3.862361\nУгрюмый Ёрш                              -2.284861  1.402664e+00 -3.687525\nВоображаемый музей                       -1.973223  1.673564e+00 -3.646787\nКубок городов                            -1.718960  1.854595e+00 -3.573555\n...                                            ...           ...       ...\nСинхрон Лиги Разума                       2.141110  1.416395e+00  0.724715\n(а)Синхрон-lite. Лига старта. Эпизод III  2.202455  1.359582e+00  0.842872\nШкольная лига. I тур.                     2.057144  1.177092e+00  0.880052\n(а)Синхрон-lite. Лига старта. Эпизод V    2.401641  1.445170e+00  0.956471\nШкольная лига                             2.012856  1.030287e+00  0.982569\n\n[675 rows x 3 columns]",
      "text/html": "<div>\n<style scoped>\n    .dataframe tbody tr th:only-of-type {\n        vertical-align: middle;\n    }\n\n    .dataframe tbody tr th {\n        vertical-align: top;\n    }\n\n    .dataframe thead th {\n        text-align: right;\n    }\n</style>\n<table border=\"1\" class=\"dataframe\">\n  <thead>\n    <tr style=\"text-align: right;\">\n      <th></th>\n      <th>mean</th>\n      <th>std</th>\n      <th>rating</th>\n    </tr>\n    <tr>\n      <th>name</th>\n      <th></th>\n      <th></th>\n      <th></th>\n    </tr>\n  </thead>\n  <tbody>\n    <tr>\n      <th>Чемпионат Санкт-Петербурга. Первая лига</th>\n      <td>-4.443113</td>\n      <td>9.465984e-07</td>\n      <td>-4.443114</td>\n    </tr>\n    <tr>\n      <th>Первенство правого полушария</th>\n      <td>-2.060456</td>\n      <td>1.801905e+00</td>\n      <td>-3.862361</td>\n    </tr>\n    <tr>\n      <th>Угрюмый Ёрш</th>\n      <td>-2.284861</td>\n      <td>1.402664e+00</td>\n      <td>-3.687525</td>\n    </tr>\n    <tr>\n      <th>Воображаемый музей</th>\n      <td>-1.973223</td>\n      <td>1.673564e+00</td>\n      <td>-3.646787</td>\n    </tr>\n    <tr>\n      <th>Кубок городов</th>\n      <td>-1.718960</td>\n      <td>1.854595e+00</td>\n      <td>-3.573555</td>\n    </tr>\n    <tr>\n      <th>...</th>\n      <td>...</td>\n      <td>...</td>\n      <td>...</td>\n    </tr>\n    <tr>\n      <th>Синхрон Лиги Разума</th>\n      <td>2.141110</td>\n      <td>1.416395e+00</td>\n      <td>0.724715</td>\n    </tr>\n    <tr>\n      <th>(а)Синхрон-lite. Лига старта. Эпизод III</th>\n      <td>2.202455</td>\n      <td>1.359582e+00</td>\n      <td>0.842872</td>\n    </tr>\n    <tr>\n      <th>Школьная лига. I тур.</th>\n      <td>2.057144</td>\n      <td>1.177092e+00</td>\n      <td>0.880052</td>\n    </tr>\n    <tr>\n      <th>(а)Синхрон-lite. Лига старта. Эпизод V</th>\n      <td>2.401641</td>\n      <td>1.445170e+00</td>\n      <td>0.956471</td>\n    </tr>\n    <tr>\n      <th>Школьная лига</th>\n      <td>2.012856</td>\n      <td>1.030287e+00</td>\n      <td>0.982569</td>\n    </tr>\n  </tbody>\n</table>\n<p>675 rows × 3 columns</p>\n</div>"
     },
     "execution_count": 75,
     "metadata": {},
     "output_type": "execute_result"
    }
   ],
   "source": [
    "final_tournament_rating = tournaments.merge(tournamets_rating, left_index=True, right_index=True, how='inner').sort_values(\n",
    "    by='min')[['name', 'mean', 'std']]\n",
    "final_tournament_rating.set_index('name', inplace=True)\n",
    "final_tournament_rating['rating'] = final_tournament_rating['mean'] - final_tournament_rating['std']\n",
    "final_tournament_rating.sort_values(by='rating')"
   ],
   "metadata": {
    "collapsed": false,
    "pycharm": {
     "name": "#%%\n"
    }
   }
  },
  {
   "cell_type": "code",
   "execution_count": 77,
   "outputs": [
    {
     "data": {
      "text/plain": "                                             mean           std    rating\nname                                                                     \nЧемпионат Санкт-Петербурга. Первая лига -4.443113  9.465984e-07 -4.443114\nПервенство правого полушария            -2.060456  1.801905e+00 -3.862361\nУгрюмый Ёрш                             -2.284861  1.402664e+00 -3.687525\nВоображаемый музей                      -1.973223  1.673564e+00 -3.646787\nКубок городов                           -1.718960  1.854595e+00 -3.573555\nСинхрон высшей лиги Москвы              -2.025317  1.544579e+00 -3.569896\nКубок Москвы                            -1.468135  1.886695e+00 -3.354830\nЗаписки охотника                        -1.796557  1.522405e+00 -3.318962\nЗнание – Сила VI                        -1.667953  1.594311e+00 -3.262265\nVERSUS: Коробейников vs. Матвеев        -1.512627  1.747498e+00 -3.260125\nАнтибинго                               -1.483446  1.743199e+00 -3.226646\nУскользающая сова                       -1.673318  1.535591e+00 -3.208909\nAll Cats Are Beautiful                  -1.536136  1.577736e+00 -3.113872\nЧемпионат Мира. Этап 1. Группа С        -1.420144  1.679428e+00 -3.099571\nЧемпионат России                        -1.543163  1.553525e+00 -3.096687\nЧемпионат Минска. Лига А. Тур четвёртый -1.547634  1.524695e+00 -3.072329\nЧемпионат Мира. Этап 2 Группа С         -1.540804  1.504962e+00 -3.045766\nЛинч                                    -1.357647  1.681257e+00 -3.038904\nЧемпионат Мира. Этап 2. Группа В        -1.507150  1.513755e+00 -3.020905\nКубок ярмарок                           -1.059003  1.943563e+00 -3.002567",
      "text/html": "<div>\n<style scoped>\n    .dataframe tbody tr th:only-of-type {\n        vertical-align: middle;\n    }\n\n    .dataframe tbody tr th {\n        vertical-align: top;\n    }\n\n    .dataframe thead th {\n        text-align: right;\n    }\n</style>\n<table border=\"1\" class=\"dataframe\">\n  <thead>\n    <tr style=\"text-align: right;\">\n      <th></th>\n      <th>mean</th>\n      <th>std</th>\n      <th>rating</th>\n    </tr>\n    <tr>\n      <th>name</th>\n      <th></th>\n      <th></th>\n      <th></th>\n    </tr>\n  </thead>\n  <tbody>\n    <tr>\n      <th>Чемпионат Санкт-Петербурга. Первая лига</th>\n      <td>-4.443113</td>\n      <td>9.465984e-07</td>\n      <td>-4.443114</td>\n    </tr>\n    <tr>\n      <th>Первенство правого полушария</th>\n      <td>-2.060456</td>\n      <td>1.801905e+00</td>\n      <td>-3.862361</td>\n    </tr>\n    <tr>\n      <th>Угрюмый Ёрш</th>\n      <td>-2.284861</td>\n      <td>1.402664e+00</td>\n      <td>-3.687525</td>\n    </tr>\n    <tr>\n      <th>Воображаемый музей</th>\n      <td>-1.973223</td>\n      <td>1.673564e+00</td>\n      <td>-3.646787</td>\n    </tr>\n    <tr>\n      <th>Кубок городов</th>\n      <td>-1.718960</td>\n      <td>1.854595e+00</td>\n      <td>-3.573555</td>\n    </tr>\n    <tr>\n      <th>Синхрон высшей лиги Москвы</th>\n      <td>-2.025317</td>\n      <td>1.544579e+00</td>\n      <td>-3.569896</td>\n    </tr>\n    <tr>\n      <th>Кубок Москвы</th>\n      <td>-1.468135</td>\n      <td>1.886695e+00</td>\n      <td>-3.354830</td>\n    </tr>\n    <tr>\n      <th>Записки охотника</th>\n      <td>-1.796557</td>\n      <td>1.522405e+00</td>\n      <td>-3.318962</td>\n    </tr>\n    <tr>\n      <th>Знание – Сила VI</th>\n      <td>-1.667953</td>\n      <td>1.594311e+00</td>\n      <td>-3.262265</td>\n    </tr>\n    <tr>\n      <th>VERSUS: Коробейников vs. Матвеев</th>\n      <td>-1.512627</td>\n      <td>1.747498e+00</td>\n      <td>-3.260125</td>\n    </tr>\n    <tr>\n      <th>Антибинго</th>\n      <td>-1.483446</td>\n      <td>1.743199e+00</td>\n      <td>-3.226646</td>\n    </tr>\n    <tr>\n      <th>Ускользающая сова</th>\n      <td>-1.673318</td>\n      <td>1.535591e+00</td>\n      <td>-3.208909</td>\n    </tr>\n    <tr>\n      <th>All Cats Are Beautiful</th>\n      <td>-1.536136</td>\n      <td>1.577736e+00</td>\n      <td>-3.113872</td>\n    </tr>\n    <tr>\n      <th>Чемпионат Мира. Этап 1. Группа С</th>\n      <td>-1.420144</td>\n      <td>1.679428e+00</td>\n      <td>-3.099571</td>\n    </tr>\n    <tr>\n      <th>Чемпионат России</th>\n      <td>-1.543163</td>\n      <td>1.553525e+00</td>\n      <td>-3.096687</td>\n    </tr>\n    <tr>\n      <th>Чемпионат Минска. Лига А. Тур четвёртый</th>\n      <td>-1.547634</td>\n      <td>1.524695e+00</td>\n      <td>-3.072329</td>\n    </tr>\n    <tr>\n      <th>Чемпионат Мира. Этап 2 Группа С</th>\n      <td>-1.540804</td>\n      <td>1.504962e+00</td>\n      <td>-3.045766</td>\n    </tr>\n    <tr>\n      <th>Линч</th>\n      <td>-1.357647</td>\n      <td>1.681257e+00</td>\n      <td>-3.038904</td>\n    </tr>\n    <tr>\n      <th>Чемпионат Мира. Этап 2. Группа В</th>\n      <td>-1.507150</td>\n      <td>1.513755e+00</td>\n      <td>-3.020905</td>\n    </tr>\n    <tr>\n      <th>Кубок ярмарок</th>\n      <td>-1.059003</td>\n      <td>1.943563e+00</td>\n      <td>-3.002567</td>\n    </tr>\n  </tbody>\n</table>\n</div>"
     },
     "execution_count": 77,
     "metadata": {},
     "output_type": "execute_result"
    }
   ],
   "source": [
    "final_tournament_rating.sort_values(by='rating').head(20)"
   ],
   "metadata": {
    "collapsed": false,
    "pycharm": {
     "name": "#%%\n"
    }
   }
  },
  {
   "cell_type": "markdown",
   "source": [
    "Победил Чемпионат Санкт-Петербурга. А школьная лига, ожидаемо, оказалась самым простым турниром.\n",
    "С одной стороны кажется странным, что чемпионат мира не оказался в самом топе, но наверное это объясняется тем, что от некоторых стран могут быть априори не самые сильные коллективы, поэтому и вопросы должны встречаться соответствующие."
   ],
   "metadata": {
    "collapsed": false,
    "pycharm": {
     "name": "#%% md\n"
    }
   }
  },
  {
   "cell_type": "markdown",
   "source": [
    "6. Бонус: постройте топ игроков по предсказанной вашей моделью силе игры, а рядом с\n",
    "именами игроков напишите общее число вопросов, которое они сыграли. Скорее всего,\n",
    "вы увидите, что топ занят игроками, которые сыграли совсем мало вопросов, около 100\n",
    "или даже меньше; если вы поищете их в официальном рейтинге ЧГК, вы увидите, что\n",
    "это какие-то непонятные ноунеймы. В baseline-модели, скорее всего, такой эффект\n",
    "будет гораздо слабее.\n",
    "Это естественное свойство модели: за счёт EM-схемы влияние 1-2 удачно сыгранных\n",
    "турниров будет только усиливаться, потому что неудачных турниров, чтобы его\n",
    "компенсировать, у этих игроков нет. Более того, это не мешает метрикам качества,\n",
    "потому что если эти игроки сыграли всего 1-2 турнира в 2019-м, скорее всего они ничего\n",
    "или очень мало сыграли и в 2020, и их рейтинги никак не влияют на качество тестовых\n",
    "предсказаний. Но для реального рейтинга такое свойство, конечно, было бы крайне\n",
    "нежелательным. Давайте попробуем его исправить:\n",
    "* сначала жёстко: выберите разумную отсечку по числу вопросов, учитывая, что в\n",
    "одном турнире их обычно 30-50;\n",
    "* можно ли просто выбросить игроков, которые мало играли, и переобучить\n",
    "модель? почему? предложите, как нужно изменить модель, чтобы не учитывать\n",
    "слишком мало сыгравших, и переобучите модель;\n",
    "* но всё-таки это не слишком хорошее решение: если выбрать маленькую отсечку,\n",
    "будут ноунеймы в топе, а если большую, то получится, что у нового игрока\n",
    "слишком долго не будет рейтинга; скорее всего, никакой “золотой середины” тут\n",
    "не получится;\n",
    "* предложите более концептуальное решение для топа игроков в рейтинг-листе;\n",
    "если получится, реализуйте его на практике (за это уж точно будут серьёзные\n",
    "бонусные баллы)"
   ],
   "metadata": {
    "collapsed": false,
    "pycharm": {
     "name": "#%% md\n"
    }
   }
  },
  {
   "cell_type": "markdown",
   "source": [
    "7. Бонус: игроки со временем учатся играть лучше (а иногда бывает и наоборот). А в нашей\n",
    "модели получается, что первые неудачные турниры новичка будут тянуть его рейтинг\n",
    "вниз всю жизнь — это нехорошо, рейтинг должен быть достаточно гибким и иметь\n",
    "возможность меняться даже у игроков, отыгравших сотни турниров. Давайте попробуем\n",
    "этого добиться:\n",
    "* если хватит вычислительных ресурсов, сначала сделайте baseline совсем без\n",
    "таких схем, обучив рейтинги на всех турнирах с повопросными результатами, а не\n",
    "только на турнирах 2019 года; улучшилось ли качество предсказаний на 2020?\n",
    "* одну схему со временем мы уже использовали: брали для обучения только\n",
    "последний год турниров; примерно так делают, например, в теннисной\n",
    "чемпионской гонке; у этой схемы есть свои преимущества, но есть и недостатки\n",
    "(например, достаточно мало играть год, чтобы полностью пропасть из рейтинга);\n",
    "* предложите варианты базовой модели или алгоритма её обучения, которые\n",
    "могли бы реализовать изменения рейтинга со временем; если получится,\n",
    "реализуйте их на практике, проверьте, улучшатся ли предсказания на 2020."
   ],
   "metadata": {
    "collapsed": false,
    "pycharm": {
     "name": "#%% md\n"
    }
   }
  },
  {
   "cell_type": "code",
   "execution_count": 19,
   "outputs": [],
   "source": [],
   "metadata": {
    "collapsed": false,
    "pycharm": {
     "name": "#%%\n"
    }
   }
  }
 ],
 "metadata": {
  "kernelspec": {
   "display_name": "Python 3 (ipykernel)",
   "language": "python",
   "name": "python3"
  },
  "language_info": {
   "codemirror_mode": {
    "name": "ipython",
    "version": 3
   },
   "file_extension": ".py",
   "mimetype": "text/x-python",
   "name": "python",
   "nbconvert_exporter": "python",
   "pygments_lexer": "ipython3",
   "version": "3.8.13"
  }
 },
 "nbformat": 4,
 "nbformat_minor": 1
}