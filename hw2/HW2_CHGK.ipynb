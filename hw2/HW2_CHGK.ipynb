{
 "cells": [
  {
   "cell_type": "code",
   "execution_count": 78,
   "id": "outer-sheffield",
   "metadata": {},
   "outputs": [],
   "source": [
    "import pandas as pd\n",
    "import datetime\n",
    "import pickle\n",
    "from collections import namedtuple\n",
    "\n",
    "from scipy.sparse import hstack\n",
    "import numpy as np\n",
    "\n",
    "from sklearn.linear_model import LogisticRegression\n",
    "from sklearn.preprocessing import LabelBinarizer\n",
    "from sklearn.linear_model import Ridge\n",
    "\n",
    "import seaborn as sns\n",
    "%matplotlib inline\n",
    "import warnings\n",
    "\n",
    "warnings.filterwarnings('ignore')\n",
    "\n",
    "from tqdm.notebook import tqdm\n",
    "tqdm.pandas()\n",
    "\n",
    "from scipy.stats import spearmanr, kendalltau\n",
    "\n",
    "\n",
    "Data = namedtuple('Data', ['players', 'tournaments', 'results'])"
   ]
  },
  {
   "cell_type": "code",
   "execution_count": 2,
   "id": "innocent-payday",
   "metadata": {},
   "outputs": [],
   "source": [
    "def read_data() -> Data:\n",
    "    def read_pkl_as_df(pkl):\n",
    "        with open(pkl, 'rb') as f:\n",
    "            x = pd.DataFrame(pickle.load(f)).T\n",
    "            x.index = x.id\n",
    "            x.drop(['id'] , axis = 1, inplace=True)\n",
    "            return x\n",
    "    t = read_pkl_as_df('tournaments.pkl')    \n",
    "    t = t[pd.to_datetime(t.dateStart).map(lambda x: x.year) >= 2019]\n",
    "    with open('results.pkl', 'rb') as f:\n",
    "        r = pd.Series(pickle.load(f))\n",
    "        r = r[r.index.isin(t.index)]\n",
    "    ## избавимся от лишних строчек\n",
    "    r = r[r.map(lambda x: len(x) > 0)]\n",
    "    t = t[t.index.isin(r.index)]\n",
    "    return Data(\n",
    "        read_pkl_as_df('players.pkl'),\n",
    "        t,\n",
    "        r,\n",
    "    )"
   ]
  },
  {
   "cell_type": "code",
   "execution_count": 3,
   "id": "binary-royal",
   "metadata": {},
   "outputs": [],
   "source": [
    "data = read_data()"
   ]
  },
  {
   "cell_type": "code",
   "execution_count": 4,
   "id": "whole-indonesian",
   "metadata": {},
   "outputs": [
    {
     "data": {
      "text/plain": [
       "name           Алексей\n",
       "patronymic        None\n",
       "surname       Абабилов\n",
       "Name: 1, dtype: object"
      ]
     },
     "execution_count": 4,
     "metadata": {},
     "output_type": "execute_result"
    }
   ],
   "source": [
    "data.players.iloc[0]"
   ]
  },
  {
   "cell_type": "code",
   "execution_count": 5,
   "id": "lined-nature",
   "metadata": {},
   "outputs": [
    {
     "data": {
      "text/plain": [
       "name                        Синхрон северных стран. Зимний выпуск\n",
       "dateStart                               2019-01-05T19:00:00+03:00\n",
       "dateEnd                                 2019-01-09T19:00:00+03:00\n",
       "type                                 {'id': 3, 'name': 'Синхрон'}\n",
       "season                                                /seasons/52\n",
       "orgcommittee    [{'id': 28379, 'name': 'Константин', 'patronym...\n",
       "synchData       {'dateRequestsAllowedTo': '2019-01-09T23:59:59...\n",
       "questionQty                           {'1': 12, '2': 12, '3': 12}\n",
       "Name: 4772, dtype: object"
      ]
     },
     "execution_count": 5,
     "metadata": {},
     "output_type": "execute_result"
    }
   ],
   "source": [
    "data.tournaments.iloc[0]"
   ]
  },
  {
   "cell_type": "code",
   "execution_count": 6,
   "id": "joined-grove",
   "metadata": {},
   "outputs": [
    {
     "data": {
      "text/plain": [
       "3    463\n",
       "2    300\n",
       "8     94\n",
       "5     12\n",
       "6      7\n",
       "Name: type, dtype: int64"
      ]
     },
     "execution_count": 6,
     "metadata": {},
     "output_type": "execute_result"
    }
   ],
   "source": [
    "data.tournaments.type.map(lambda x: x['id']).value_counts()"
   ]
  },
  {
   "cell_type": "code",
   "execution_count": 7,
   "id": "hydraulic-behalf",
   "metadata": {
    "scrolled": true
   },
   "outputs": [
    {
     "data": {
      "text/plain": [
       "{'team': {'id': 47075,\n",
       "  'name': 'Оператор Дамблдора',\n",
       "  'town': {'id': 201, 'name': 'Москва'}},\n",
       " 'mask': '111111101011111101101101011001011010',\n",
       " 'current': {'name': 'Humlesnurroperatoren',\n",
       "  'town': {'id': 201, 'name': 'Москва'}},\n",
       " 'questionsTotal': 25,\n",
       " 'synchRequest': {'id': 55460, 'venue': {'id': 3117, 'name': 'Москва'}},\n",
       " 'position': 5.5,\n",
       " 'controversials': [],\n",
       " 'flags': [],\n",
       " 'teamMembers': [{'flag': 'Л',\n",
       "   'usedRating': 11993,\n",
       "   'rating': 11993,\n",
       "   'player': {'id': 38458,\n",
       "    'name': 'Екатерина',\n",
       "    'patronymic': 'Владимировна',\n",
       "    'surname': 'Лобкова'}},\n",
       "  {'flag': 'Л',\n",
       "   'usedRating': 9962,\n",
       "   'rating': 11954,\n",
       "   'player': {'id': 5990,\n",
       "    'name': 'Андрей',\n",
       "    'patronymic': 'Александрович',\n",
       "    'surname': 'Волыхов'}},\n",
       "  {'flag': 'Л',\n",
       "   'usedRating': 7109,\n",
       "   'rating': 10663,\n",
       "   'player': {'id': 56000,\n",
       "    'name': 'Евгений',\n",
       "    'patronymic': 'Николаевич',\n",
       "    'surname': 'Коватенков'}},\n",
       "  {'flag': 'Л',\n",
       "   'usedRating': 4979,\n",
       "   'rating': 9958,\n",
       "   'player': {'id': 97091,\n",
       "    'name': 'Ирина',\n",
       "    'patronymic': 'Владимировна',\n",
       "    'surname': 'Абдрашитова'}},\n",
       "  {'flag': None,\n",
       "   'usedRating': 3265,\n",
       "   'rating': 9796,\n",
       "   'player': {'id': 86833,\n",
       "    'name': 'Анастасия',\n",
       "    'patronymic': 'Сергеевна',\n",
       "    'surname': 'Стебалина'}},\n",
       "  {'flag': None,\n",
       "   'usedRating': 1521,\n",
       "   'rating': 9126,\n",
       "   'player': {'id': 62252,\n",
       "    'name': 'Тимур',\n",
       "    'patronymic': 'Юрьевич',\n",
       "    'surname': 'Боков'}}]}"
      ]
     },
     "execution_count": 7,
     "metadata": {},
     "output_type": "execute_result"
    }
   ],
   "source": [
    "data.results.iloc[0][5]"
   ]
  },
  {
   "cell_type": "markdown",
   "id": "fixed-wrong",
   "metadata": {},
   "source": [
    "Судя по тому, как выглядят данные, то особой информации в таблице с игроками нет(фио и так упомянаются в результатах). С другой стороны и в самой таблице со списком игр особого смысла нет, за исключением, возможно даты турнира и формата его проведения... \\\n",
    "Сначала попробуем совсем простую модель без учёта формата"
   ]
  },
  {
   "cell_type": "markdown",
   "id": "diagnostic-treaty",
   "metadata": {},
   "source": [
    "Какие могут быть идеи...  С одной стороны у игроков есть рейтинг(который мы придумали), эти игроки отвечают на вопросы(которые могут быть разной сложности - ещё одна переменная, которую нужно оценить). А потом непонятно как исходя из набора участников в команде, команда выбирает отвечающего, который даёт ответ. Человек, который будет отвечать выбирается капитаном, причём сами игроки в процессе обсуждения помогают друг другу. Отсюда можно сделать вывод, что ответ команды в первую очередь зависит от рейтинга участников, входящих в неё, сложностью вопроса, зависит от того, кто капитан."
   ]
  },
  {
   "cell_type": "markdown",
   "id": "brown-joining",
   "metadata": {},
   "source": [
    "Ещё раз вернёмся к тому, как оценивается сложность вопроса. Рейтинг \"команды\" зависит от рейтинга игроков. Чем выше рейтинг команды, тем на более сложный вопрос команда может дать правильный ответ. Соответственно мы можем оценить сложность вопроса исходя из того, как него отвечали команды, каждая имеет свой рейтинг. И исходя из сложности вопроса мы можем оценить рейтинг команды. Звучит как что-то похожее на какой-то итеративный алгоритм."
   ]
  },
  {
   "cell_type": "markdown",
   "id": "continuing-astronomy",
   "metadata": {},
   "source": [
    "## Baseline"
   ]
  },
  {
   "cell_type": "markdown",
   "id": "married-saturn",
   "metadata": {},
   "source": [
    "А может быть и другая идея. Отталкиваясь от подсказок, что можно сделать. Обучим логистическую регрессию, где в качестве целевой переменной будет ответ i игрока на k вопрос. Тогда в качестве признаков можно использовать как раз рейтинг игрока и сложность вопроса. Получится комбинация sigma(ax + by = {0, 1}). Долго думал, откуда взять рейтинг и сложность, вот что придумал. \\\n",
    "\\\n",
    "Пусть у нас теперь в качестве признака не сам рейтинг игрока, а его \"номер\", равно как и для вопроса будем использовать не сложность, а \"номер\". Соотвественно воспользуемся OneHotEncoding для векторизации и обучим sparse матрицу. Тогда назовём рейтингов веса перед игроками, а сложностью вопроса веса перед вопросами.\\\n",
    "\\\n",
    "Если про саму модель - хочется, чтобы была какая-то регуляризация с одной стороны(будет меньше переобучения), а с другой стороны в модели есть параметр bias - нужен ли он нам большой вопрос - не понимаю его физический смысл. Кажется, что модель можно обучить и без смещения?.."
   ]
  },
  {
   "cell_type": "code",
   "execution_count": 8,
   "id": "sealed-cabinet",
   "metadata": {},
   "outputs": [
    {
     "data": {
      "text/plain": [
       "17625847"
      ]
     },
     "execution_count": 8,
     "metadata": {},
     "output_type": "execute_result"
    }
   ],
   "source": [
    "res = []\n",
    "question_number = 0\n",
    "def fill_res(l: list, q):\n",
    "    def preprocess(game):\n",
    "        nonlocal q\n",
    "        max_mask_len = 0\n",
    "        for team_perfomance in game:\n",
    "            try:\n",
    "                mask = team_perfomance['mask']\n",
    "                max_mask_len = max(max_mask_len, len(mask))\n",
    "                for member in team_perfomance['teamMembers']:\n",
    "                    player_id = int(member['player']['id'])\n",
    "                    for idx, question in enumerate(range(q, q + len(mask))):\n",
    "                        l.append([player_id, question, int(mask[idx])])\n",
    "            except Exception:\n",
    "                pass\n",
    "        q += max_mask_len\n",
    "    return preprocess\n",
    "\n",
    "train_games = data.tournaments[pd.to_datetime(data.tournaments.dateStart).map(lambda x: x.year) == 2019].index\n",
    "train_results = data.results[data.results.index.isin(train_games)]\n",
    "train_results.map(fill_res(res, question_number))\n",
    "len(res)"
   ]
  },
  {
   "cell_type": "code",
   "execution_count": 9,
   "id": "turkish-rebel",
   "metadata": {},
   "outputs": [
    {
     "data": {
      "text/plain": [
       "((17625847, 57411), (17625847, 31723))"
      ]
     },
     "execution_count": 9,
     "metadata": {},
     "output_type": "execute_result"
    }
   ],
   "source": [
    "player_encoder = LabelBinarizer(sparse_output = True)\n",
    "player_matrix = player_encoder.fit_transform([x[0] for x in res])\n",
    "question_encoder = LabelBinarizer(sparse_output = True)\n",
    "question_matrix = question_encoder.fit_transform([x[1] for x in res])\n",
    "\n",
    "player_matrix.shape, question_matrix.shape"
   ]
  },
  {
   "cell_type": "code",
   "execution_count": 10,
   "id": "clear-telescope",
   "metadata": {},
   "outputs": [
    {
     "data": {
      "text/plain": [
       "(17625847, 89134)"
      ]
     },
     "execution_count": 10,
     "metadata": {},
     "output_type": "execute_result"
    }
   ],
   "source": [
    "X_train = hstack([player_matrix, question_matrix])\n",
    "y_train = np.array([x[2] for x in res])\n",
    "\n",
    "X_train.shape"
   ]
  },
  {
   "cell_type": "code",
   "execution_count": 11,
   "id": "mounted-street",
   "metadata": {},
   "outputs": [
    {
     "name": "stdout",
     "output_type": "stream",
     "text": [
      "CPU times: user 2min 44s, sys: 215 ms, total: 2min 45s\n",
      "Wall time: 2min 45s\n"
     ]
    },
    {
     "data": {
      "text/plain": [
       "LogisticRegression(C=0.1, n_jobs=-1, random_state=57, solver='saga')"
      ]
     },
     "execution_count": 11,
     "metadata": {},
     "output_type": "execute_result"
    }
   ],
   "source": [
    "%%time\n",
    "lr = LogisticRegression(\n",
    "    C = 0.1, \n",
    "    fit_intercept = True,\n",
    "    random_state = 57, \n",
    "    solver = 'saga',\n",
    "    n_jobs = -1\n",
    ")\n",
    "lr.fit(X_train, y_train)"
   ]
  },
  {
   "cell_type": "code",
   "execution_count": 12,
   "id": "polyphonic-radar",
   "metadata": {},
   "outputs": [
    {
     "data": {
      "text/plain": [
       "89134"
      ]
     },
     "execution_count": 12,
     "metadata": {},
     "output_type": "execute_result"
    }
   ],
   "source": [
    "len(lr.coef_[0])"
   ]
  },
  {
   "cell_type": "code",
   "execution_count": 13,
   "id": "interpreted-court",
   "metadata": {},
   "outputs": [
    {
     "data": {
      "text/plain": [
       "<AxesSubplot:ylabel='Density'>"
      ]
     },
     "execution_count": 13,
     "metadata": {},
     "output_type": "execute_result"
    },
    {
     "data": {
      "image/png": "[encoded data removed]",
      "text/plain": [
       "<Figure size 432x288 with 1 Axes>"
      ]
     },
     "metadata": {
      "needs_background": "light"
     },
     "output_type": "display_data"
    }
   ],
   "source": [
    "import seaborn as sns\n",
    "%matplotlib inline\n",
    "import warnings\n",
    "\n",
    "warnings.filterwarnings('ignore')\n",
    "\n",
    "sns.distplot(lr.coef_[0][:player_matrix.shape[1]])"
   ]
  },
  {
   "cell_type": "code",
   "execution_count": 14,
   "id": "chemical-harmony",
   "metadata": {},
   "outputs": [
    {
     "data": {
      "text/plain": [
       "<AxesSubplot:ylabel='Density'>"
      ]
     },
     "execution_count": 14,
     "metadata": {},
     "output_type": "execute_result"
    },
    {
     "data": {
      "image/png": "[encoded data removed]",
      "text/plain": [
       "<Figure size 432x288 with 1 Axes>"
      ]
     },
     "metadata": {
      "needs_background": "light"
     },
     "output_type": "display_data"
    }
   ],
   "source": [
    " sns.distplot(lr.coef_[0][player_matrix.shape[1]:])"
   ]
  },
  {
   "cell_type": "markdown",
   "id": "damaged-quarterly",
   "metadata": {},
   "source": [
    "Первые веса модели - это и есть рейтинг игроков, как видно по картинке, он распределён нормально, что вписывается в наши априорные представления о том, как может быть устроен рейтинг по типу Эло."
   ]
  },
  {
   "cell_type": "markdown",
   "id": "legislative-merchant",
   "metadata": {},
   "source": [
    "# 3\n",
    "\n",
    "Как теперь составить ранжирующую модель? Можно взять линейную комбинацию рейтингов(обучить). Однако какую функцию ошибки брать? В общем с одной стороны веса в линейной комбинации должны быть одинаковыми для всех турниров, а вот участиники на этих турнирах отличаются. Соотвественно можно поступить, как и в примере выше, обучив модель с явным принаком, что команда выступала на i турнире. \\\n",
    "Целевой переменной хочется взять нечто, что будет соотвествовать ранжированию - это может быть позиция в рейтинге,\n",
    "это может быть число ответов, решённых командой:\n",
    "* обучая ранжирование(например, ту же самую позицию в зачёте можно оценить как некий квантиль в который попадёт команда на турнире) мы с одной стороны сразу оптимизируем целевую метрику, однако используя линейную модель мы предполагаем, что разница между позициями линейная и т.д. что может быть не самой лучшей идеей\n",
    "* обучая ранжирование с нелинейным преобразованием позиций - какой-нибудь сигмоидой - т.е. мы увеличиваем ценность победы и проигрыша - можно тоже попробовать\n",
    "* а можно предсказывать число баллов(а именно долю ответов), что дала команда и снова получить какой-то результат... \n",
    "\n",
    "Все эти модели используются очень легко - для ранжирования участников турнира мы будем пользоваться лишь линейной комбинацией коэффициентов участников."
   ]
  },
  {
   "cell_type": "markdown",
   "id": "shared-century",
   "metadata": {},
   "source": [
    "Чтобы результат был детерминирован, отсортируем участников внутри команды по их рейтингу."
   ]
  },
  {
   "cell_type": "code",
   "execution_count": 61,
   "id": "approved-brand",
   "metadata": {},
   "outputs": [
    {
     "data": {
      "text/plain": [
       "4772    [{'team': {'id': 45556, 'name': 'Рабочее назва...\n",
       "4973    [{'team': {'id': 45556, 'name': 'Рабочее назва...\n",
       "4974    [{'team': {'id': 2865, 'name': 'Немчиновка', '...\n",
       "4975    [{'team': {'id': 4174, 'name': 'Центровые', 't...\n",
       "4986    [{'team': {'id': 69309, 'name': 'Брют', 'town'...\n",
       "                              ...                        \n",
       "6183    [{'team': {'id': 641, 'name': 'Братья', 'town'...\n",
       "6191    [{'team': {'id': 245, 'name': 'Айастан', 'town...\n",
       "6249    [{'team': {'id': 61251, 'name': 'Большой проиг...\n",
       "6254    [{'team': {'id': 72363, 'name': 'Дайте бланк',...\n",
       "6255    [{'team': {'id': 7864, 'name': 'Одушевлённые а...\n",
       "Length: 680, dtype: object"
      ]
     },
     "execution_count": 61,
     "metadata": {},
     "output_type": "execute_result"
    }
   ],
   "source": [
    "train_results"
   ]
  },
  {
   "cell_type": "code",
   "execution_count": 64,
   "id": "decreased-champion",
   "metadata": {},
   "outputs": [
    {
     "data": {
      "application/vnd.jupyter.widget-view+json": {
       "model_id": "54744567b22f41b9aeb38308e8923834",
       "version_major": 2,
       "version_minor": 0
      },
      "text/plain": [
       "  0%|          | 0/680 [00:00<?, ?it/s]"
      ]
     },
     "metadata": {},
     "output_type": "display_data"
    },
    {
     "data": {
      "text/plain": [
       "104"
      ]
     },
     "execution_count": 64,
     "metadata": {},
     "output_type": "execute_result"
    }
   ],
   "source": [
    "from tqdm.notebook import tqdm\n",
    "tqdm.pandas()\n",
    "\n",
    "\n",
    "## подготовим трейн - все вышеперечиленные модели отличаются лишь целевой переменной\n",
    "def player_rating(player):\n",
    "    pid = int(player['player']['id'])\n",
    "    pid = player_encoder.transform([pid]).toarray()[0].argmax()\n",
    "    return coefs[0][pid]\n",
    "\n",
    "\n",
    "res = []\n",
    "game_number = 0\n",
    "def fill_res(l: list, g):\n",
    "    def preprocess(game):\n",
    "        nonlocal g\n",
    "        max_mask_len = 0\n",
    "        for team_perfomance in game:\n",
    "            try:\n",
    "                mask = team_perfomance['mask']\n",
    "                position = team_perfomance['position']\n",
    "                l.append([\n",
    "                    g, \n",
    "                    sum([1 if x == '1' else 0 for x in mask]),\n",
    "                    position,\n",
    "                    sorted([player_rating(x) for x in team_perfomance['teamMembers']], reverse=True)\n",
    "                ])\n",
    "            except Exception:\n",
    "                pass\n",
    "        g += 1\n",
    "    return preprocess\n",
    "\n",
    "train_results.progress_map(fill_res(res, game_number))\n",
    "len(res)"
   ]
  },
  {
   "cell_type": "code",
   "execution_count": null,
   "id": "alternative-drive",
   "metadata": {},
   "outputs": [],
   "source": []
  },
  {
   "cell_type": "code",
   "execution_count": 16,
   "id": "analyzed-hurricane",
   "metadata": {},
   "outputs": [
    {
     "data": {
      "text/plain": [
       "(86499, 675)"
      ]
     },
     "execution_count": 16,
     "metadata": {},
     "output_type": "execute_result"
    }
   ],
   "source": [
    "game_encoder = LabelBinarizer(sparse_output = True)\n",
    "game_matrix = game_encoder.fit_transform([x[0] for x in res])\n",
    "game_matrix.shape"
   ]
  },
  {
   "cell_type": "code",
   "execution_count": 17,
   "id": "significant-filter",
   "metadata": {},
   "outputs": [
    {
     "data": {
      "text/plain": [
       "count    86499.000000\n",
       "mean         5.222985\n",
       "std          1.323040\n",
       "min          0.000000\n",
       "25%          5.000000\n",
       "50%          6.000000\n",
       "75%          6.000000\n",
       "max         21.000000\n",
       "Name: 3, dtype: float64"
      ]
     },
     "execution_count": 17,
     "metadata": {},
     "output_type": "execute_result"
    }
   ],
   "source": [
    "pd.DataFrame(res)[3].map(lambda x: len(x)).describe()"
   ]
  },
  {
   "cell_type": "code",
   "execution_count": 18,
   "id": "danish-milton",
   "metadata": {},
   "outputs": [
    {
     "data": {
      "text/html": [
       "<div>\n",
       "<style scoped>\n",
       "    .dataframe tbody tr th:only-of-type {\n",
       "        vertical-align: middle;\n",
       "    }\n",
       "\n",
       "    .dataframe tbody tr th {\n",
       "        vertical-align: top;\n",
       "    }\n",
       "\n",
       "    .dataframe thead th {\n",
       "        text-align: right;\n",
       "    }\n",
       "</style>\n",
       "<table border=\"1\" class=\"dataframe\">\n",
       "  <thead>\n",
       "    <tr style=\"text-align: right;\">\n",
       "      <th></th>\n",
       "      <th>0</th>\n",
       "      <th>1</th>\n",
       "      <th>2</th>\n",
       "      <th>3</th>\n",
       "      <th>4</th>\n",
       "      <th>5</th>\n",
       "    </tr>\n",
       "  </thead>\n",
       "  <tbody>\n",
       "    <tr>\n",
       "      <th>0</th>\n",
       "      <td>2.627536</td>\n",
       "      <td>2.603676</td>\n",
       "      <td>2.533872</td>\n",
       "      <td>2.486790</td>\n",
       "      <td>2.469826</td>\n",
       "      <td>2.244983</td>\n",
       "    </tr>\n",
       "    <tr>\n",
       "      <th>1</th>\n",
       "      <td>2.454286</td>\n",
       "      <td>1.601633</td>\n",
       "      <td>1.542157</td>\n",
       "      <td>1.494029</td>\n",
       "      <td>1.457775</td>\n",
       "      <td>0.000000</td>\n",
       "    </tr>\n",
       "    <tr>\n",
       "      <th>2</th>\n",
       "      <td>1.739644</td>\n",
       "      <td>1.728265</td>\n",
       "      <td>1.717789</td>\n",
       "      <td>1.713961</td>\n",
       "      <td>1.644602</td>\n",
       "      <td>1.079000</td>\n",
       "    </tr>\n",
       "    <tr>\n",
       "      <th>3</th>\n",
       "      <td>1.397966</td>\n",
       "      <td>1.322849</td>\n",
       "      <td>1.305878</td>\n",
       "      <td>1.239683</td>\n",
       "      <td>1.193366</td>\n",
       "      <td>0.000000</td>\n",
       "    </tr>\n",
       "    <tr>\n",
       "      <th>4</th>\n",
       "      <td>2.414574</td>\n",
       "      <td>1.957796</td>\n",
       "      <td>1.957068</td>\n",
       "      <td>1.883296</td>\n",
       "      <td>1.774283</td>\n",
       "      <td>1.709041</td>\n",
       "    </tr>\n",
       "    <tr>\n",
       "      <th>...</th>\n",
       "      <td>...</td>\n",
       "      <td>...</td>\n",
       "      <td>...</td>\n",
       "      <td>...</td>\n",
       "      <td>...</td>\n",
       "      <td>...</td>\n",
       "    </tr>\n",
       "    <tr>\n",
       "      <th>86494</th>\n",
       "      <td>-1.546901</td>\n",
       "      <td>-1.622664</td>\n",
       "      <td>-1.622668</td>\n",
       "      <td>0.000000</td>\n",
       "      <td>0.000000</td>\n",
       "      <td>0.000000</td>\n",
       "    </tr>\n",
       "    <tr>\n",
       "      <th>86495</th>\n",
       "      <td>-1.232782</td>\n",
       "      <td>-1.232786</td>\n",
       "      <td>-1.232787</td>\n",
       "      <td>0.000000</td>\n",
       "      <td>0.000000</td>\n",
       "      <td>0.000000</td>\n",
       "    </tr>\n",
       "    <tr>\n",
       "      <th>86496</th>\n",
       "      <td>0.303293</td>\n",
       "      <td>0.303293</td>\n",
       "      <td>0.303293</td>\n",
       "      <td>0.303293</td>\n",
       "      <td>0.303293</td>\n",
       "      <td>-0.060582</td>\n",
       "    </tr>\n",
       "    <tr>\n",
       "      <th>86497</th>\n",
       "      <td>0.303293</td>\n",
       "      <td>0.303293</td>\n",
       "      <td>0.303293</td>\n",
       "      <td>0.303293</td>\n",
       "      <td>0.303293</td>\n",
       "      <td>-0.060582</td>\n",
       "    </tr>\n",
       "    <tr>\n",
       "      <th>86498</th>\n",
       "      <td>-1.338781</td>\n",
       "      <td>-1.338781</td>\n",
       "      <td>-1.338781</td>\n",
       "      <td>-1.338782</td>\n",
       "      <td>0.000000</td>\n",
       "      <td>0.000000</td>\n",
       "    </tr>\n",
       "  </tbody>\n",
       "</table>\n",
       "<p>86499 rows × 6 columns</p>\n",
       "</div>"
      ],
      "text/plain": [
       "              0         1         2         3         4         5\n",
       "0      2.627536  2.603676  2.533872  2.486790  2.469826  2.244983\n",
       "1      2.454286  1.601633  1.542157  1.494029  1.457775  0.000000\n",
       "2      1.739644  1.728265  1.717789  1.713961  1.644602  1.079000\n",
       "3      1.397966  1.322849  1.305878  1.239683  1.193366  0.000000\n",
       "4      2.414574  1.957796  1.957068  1.883296  1.774283  1.709041\n",
       "...         ...       ...       ...       ...       ...       ...\n",
       "86494 -1.546901 -1.622664 -1.622668  0.000000  0.000000  0.000000\n",
       "86495 -1.232782 -1.232786 -1.232787  0.000000  0.000000  0.000000\n",
       "86496  0.303293  0.303293  0.303293  0.303293  0.303293 -0.060582\n",
       "86497  0.303293  0.303293  0.303293  0.303293  0.303293 -0.060582\n",
       "86498 -1.338781 -1.338781 -1.338781 -1.338782  0.000000  0.000000\n",
       "\n",
       "[86499 rows x 6 columns]"
      ]
     },
     "execution_count": 18,
     "metadata": {},
     "output_type": "execute_result"
    }
   ],
   "source": [
    "player_scores = pd.DataFrame([x[3] for x in res])\n",
    "player_scores = player_scores[player_scores.columns[:6]]\n",
    "##remove fillna\n",
    "# zero_padding\n",
    "# player_scores.fillna(method='ffill', axis = 1, inplace=True)\n",
    "player_scores.fillna(0., inplace=True)\n",
    "player_scores"
   ]
  },
  {
   "cell_type": "code",
   "execution_count": 19,
   "id": "north-observation",
   "metadata": {},
   "outputs": [
    {
     "data": {
      "text/html": [
       "<div>\n",
       "<style scoped>\n",
       "    .dataframe tbody tr th:only-of-type {\n",
       "        vertical-align: middle;\n",
       "    }\n",
       "\n",
       "    .dataframe tbody tr th {\n",
       "        vertical-align: top;\n",
       "    }\n",
       "\n",
       "    .dataframe thead th {\n",
       "        text-align: right;\n",
       "    }\n",
       "</style>\n",
       "<table border=\"1\" class=\"dataframe\">\n",
       "  <thead>\n",
       "    <tr style=\"text-align: right;\">\n",
       "      <th></th>\n",
       "      <th>score</th>\n",
       "    </tr>\n",
       "    <tr>\n",
       "      <th>game</th>\n",
       "      <th></th>\n",
       "    </tr>\n",
       "  </thead>\n",
       "  <tbody>\n",
       "    <tr>\n",
       "      <th>0</th>\n",
       "      <td>28</td>\n",
       "    </tr>\n",
       "    <tr>\n",
       "      <th>1</th>\n",
       "      <td>32</td>\n",
       "    </tr>\n",
       "    <tr>\n",
       "      <th>2</th>\n",
       "      <td>35</td>\n",
       "    </tr>\n",
       "    <tr>\n",
       "      <th>3</th>\n",
       "      <td>29</td>\n",
       "    </tr>\n",
       "    <tr>\n",
       "      <th>4</th>\n",
       "      <td>33</td>\n",
       "    </tr>\n",
       "  </tbody>\n",
       "</table>\n",
       "</div>"
      ],
      "text/plain": [
       "      score\n",
       "game       \n",
       "0        28\n",
       "1        32\n",
       "2        35\n",
       "3        29\n",
       "4        33"
      ]
     },
     "execution_count": 19,
     "metadata": {},
     "output_type": "execute_result"
    }
   ],
   "source": [
    "questions = pd.DataFrame([[x[0], x[1]] for x in res], columns = ['game', 'score'])\n",
    "questions = questions.groupby('game').max()\n",
    "questions.head()"
   ]
  },
  {
   "cell_type": "code",
   "execution_count": 20,
   "id": "demonstrated-banks",
   "metadata": {},
   "outputs": [
    {
     "data": {
      "text/plain": [
       "((86460, 681), (86460,))"
      ]
     },
     "execution_count": 20,
     "metadata": {},
     "output_type": "execute_result"
    }
   ],
   "source": [
    "#модель с суммой баллов\n",
    "def transform_y(x):\n",
    "    num = x[1]\n",
    "    game = x[0]\n",
    "    try:\n",
    "        return num / questions.loc[game][0]\n",
    "    except Exception:\n",
    "        print(num, game)\n",
    "    \n",
    "\n",
    "X_train = hstack([player_scores, game_matrix]).toarray()\n",
    "y_train = pd.Series(([transform_y(x) for x in res]))\n",
    "X_train = X_train[~y_train.isna()]\n",
    "y_train = y_train[~y_train.isna()]\n",
    "\n",
    "X_train.shape, y_train.shape"
   ]
  },
  {
   "cell_type": "code",
   "execution_count": 21,
   "id": "remarkable-rolling",
   "metadata": {
    "scrolled": true
   },
   "outputs": [
    {
     "name": "stdout",
     "output_type": "stream",
     "text": [
      "CPU times: user 45.8 s, sys: 32 ms, total: 45.9 s\n",
      "Wall time: 45.9 s\n"
     ]
    },
    {
     "data": {
      "text/plain": [
       "Ridge(random_state=57, solver='saga')"
      ]
     },
     "execution_count": 21,
     "metadata": {},
     "output_type": "execute_result"
    }
   ],
   "source": [
    "%%time\n",
    "from sklearn.linear_model import Ridge\n",
    "ridge_score = Ridge(\n",
    "    fit_intercept = True,\n",
    "    random_state = 57, \n",
    "    solver = 'saga',\n",
    ")\n",
    "ridge_score.fit(X_train, y_train)"
   ]
  },
  {
   "cell_type": "code",
   "execution_count": 22,
   "id": "conditional-eagle",
   "metadata": {},
   "outputs": [
    {
     "data": {
      "text/plain": [
       "array([0.07009088, 0.08193269, 0.04777149, 0.0301645 , 0.02619377,\n",
       "       0.02698569])"
      ]
     },
     "execution_count": 22,
     "metadata": {},
     "output_type": "execute_result"
    }
   ],
   "source": [
    "coefs = ridge_score.coef_[:6]\n",
    "# coefs[coefs < 0] = 0\n",
    "coefs"
   ]
  },
  {
   "cell_type": "markdown",
   "id": "creative-brisbane",
   "metadata": {},
   "source": [
    "В целом тут видно, что чем выше рейтинг, тем больший вклад вносит игрок"
   ]
  },
  {
   "cell_type": "code",
   "execution_count": 23,
   "id": "unnecessary-extra",
   "metadata": {},
   "outputs": [],
   "source": [
    "test_games = data.tournaments[pd.to_datetime(data.tournaments.dateStart).map(lambda x: x.year) == 2020].index\n",
    "test_results = data.results[data.results.index.isin(test_games)]"
   ]
  },
  {
   "cell_type": "code",
   "execution_count": 24,
   "id": "cutting-trader",
   "metadata": {},
   "outputs": [
    {
     "data": {
      "application/vnd.jupyter.widget-view+json": {
       "model_id": "400faf410bff4af581ce71e7062434b0",
       "version_major": 2,
       "version_minor": 0
      },
      "text/plain": [
       "  0%|          | 0/196 [00:00<?, ?it/s]"
      ]
     },
     "metadata": {},
     "output_type": "display_data"
    },
    {
     "data": {
      "text/plain": [
       "21711"
      ]
     },
     "execution_count": 24,
     "metadata": {},
     "output_type": "execute_result"
    }
   ],
   "source": [
    "def get_team_rating(r):\n",
    "    while len(r) < 6:\n",
    "        r.append(r[-1])\n",
    "    return sum([coefs[idx]*val for idx, val in enumerate(r)])\n",
    "\n",
    "\n",
    "res = []\n",
    "game_number = 0\n",
    "def fill_res(l: list, g):\n",
    "    def preprocess(game):\n",
    "        nonlocal g\n",
    "        for team_perfomance in game:\n",
    "            try:\n",
    "                position = team_perfomance['position']\n",
    "                raitings = sorted([player_rating(x) for x in team_perfomance['teamMembers']], reverse=True)\n",
    "                team_rating = get_team_rating(raitings)\n",
    "                l.append([\n",
    "                    g,\n",
    "                    position,\n",
    "                    team_rating\n",
    "                ])\n",
    "            except Exception:\n",
    "                pass\n",
    "        g += 1\n",
    "    return preprocess\n",
    "\n",
    "test_results.progress_map(fill_res(res, game_number))\n",
    "len(res)"
   ]
  },
  {
   "cell_type": "code",
   "execution_count": 25,
   "id": "horizontal-cylinder",
   "metadata": {},
   "outputs": [
    {
     "data": {
      "text/html": [
       "<div>\n",
       "<style scoped>\n",
       "    .dataframe tbody tr th:only-of-type {\n",
       "        vertical-align: middle;\n",
       "    }\n",
       "\n",
       "    .dataframe tbody tr th {\n",
       "        vertical-align: top;\n",
       "    }\n",
       "\n",
       "    .dataframe thead th {\n",
       "        text-align: right;\n",
       "    }\n",
       "</style>\n",
       "<table border=\"1\" class=\"dataframe\">\n",
       "  <thead>\n",
       "    <tr style=\"text-align: right;\">\n",
       "      <th></th>\n",
       "      <th>game</th>\n",
       "      <th>position</th>\n",
       "      <th>team_rating</th>\n",
       "    </tr>\n",
       "  </thead>\n",
       "  <tbody>\n",
       "    <tr>\n",
       "      <th>0</th>\n",
       "      <td>0</td>\n",
       "      <td>1.0</td>\n",
       "      <td>0.839246</td>\n",
       "    </tr>\n",
       "    <tr>\n",
       "      <th>1</th>\n",
       "      <td>0</td>\n",
       "      <td>2.0</td>\n",
       "      <td>0.604108</td>\n",
       "    </tr>\n",
       "    <tr>\n",
       "      <th>2</th>\n",
       "      <td>0</td>\n",
       "      <td>3.0</td>\n",
       "      <td>0.560113</td>\n",
       "    </tr>\n",
       "    <tr>\n",
       "      <th>3</th>\n",
       "      <td>0</td>\n",
       "      <td>4.0</td>\n",
       "      <td>0.674317</td>\n",
       "    </tr>\n",
       "    <tr>\n",
       "      <th>4</th>\n",
       "      <td>0</td>\n",
       "      <td>5.5</td>\n",
       "      <td>0.672997</td>\n",
       "    </tr>\n",
       "  </tbody>\n",
       "</table>\n",
       "</div>"
      ],
      "text/plain": [
       "   game  position  team_rating\n",
       "0     0       1.0     0.839246\n",
       "1     0       2.0     0.604108\n",
       "2     0       3.0     0.560113\n",
       "3     0       4.0     0.674317\n",
       "4     0       5.5     0.672997"
      ]
     },
     "execution_count": 25,
     "metadata": {},
     "output_type": "execute_result"
    }
   ],
   "source": [
    "res = pd.DataFrame(res, columns = ['game', 'position', 'team_rating'])\n",
    "res.head()"
   ]
  },
  {
   "cell_type": "code",
   "execution_count": 26,
   "id": "retired-designation",
   "metadata": {},
   "outputs": [
    {
     "data": {
      "text/plain": [
       "(0.7435252150804705, 0.5891459257768152)"
      ]
     },
     "execution_count": 26,
     "metadata": {},
     "output_type": "execute_result"
    }
   ],
   "source": [
    "from scipy.stats import spearmanr, kendalltau\n",
    "def sp_corr(df):\n",
    "    return -spearmanr(df.position, df.team_rating)[0] \n",
    "def ken_corr(df):\n",
    "    return -kendalltau(df.position, df.team_rating)[0]\n",
    "\n",
    "\n",
    "res.groupby('game').apply(sp_corr).mean(), res.groupby('game').apply(ken_corr).mean()"
   ]
  },
  {
   "cell_type": "markdown",
   "id": "unexpected-thomson",
   "metadata": {},
   "source": [
    "# EM алгоритм"
   ]
  },
  {
   "cell_type": "markdown",
   "id": "identified-custody",
   "metadata": {},
   "source": [
    "В baseline модели  мы делали предположение о том, что все игроки команды умеют отвечать на вопрос либо не умеют. Хотя на самом деле можно предположить, что если команда не ответила на вопрос, то скорее всего никто не смог догадаться. А если ответила, то это прежде всего результат командных обсуждений. \\\n",
    "В третьей части задания можно было составит рейтинг команды. Кажется, что если мы введём веса, которые получились в результате линейной регрессии как вес в правильный ответ, то качество рейтинга должно улучшиться. \\\n",
    "Соотвественно на первом этапе мы считаем, что у нас ответы всех членов команды были равновероятны, а на втором этапе мы должны получить вероятность того, что i игрок команды дал какую-то часть ответа, что помогла команде.\n",
    "вклад игрока в рейтинг это coef[team_rank] * user_score / team_score... Соотвественно это будет весом примера?... \\\n",
    "надо сделать так, чтобы сумма этих весов осталась такой же, какая и была при обучении"
   ]
  },
  {
   "cell_type": "markdown",
   "id": "incredible-heading",
   "metadata": {},
   "source": [
    "## E-шаг"
   ]
  },
  {
   "cell_type": "code",
   "execution_count": 27,
   "id": "confidential-height",
   "metadata": {},
   "outputs": [
    {
     "data": {
      "text/plain": [
       "dict_keys(['team', 'mask', 'current', 'questionsTotal', 'synchRequest', 'position', 'controversials', 'flags', 'teamMembers'])"
      ]
     },
     "execution_count": 27,
     "metadata": {},
     "output_type": "execute_result"
    }
   ],
   "source": [
    "team_perfomance = test_results.iloc[42][5]\n",
    "team_perfomance.keys()"
   ]
  },
  {
   "cell_type": "code",
   "execution_count": 28,
   "id": "instant-folks",
   "metadata": {},
   "outputs": [],
   "source": [
    "raitings = [player_rating(x) for x in team_perfomance['teamMembers']]\n",
    "team_rating = get_team_rating(sorted(raitings, reverse = True))"
   ]
  },
  {
   "cell_type": "code",
   "execution_count": 29,
   "id": "distant-campaign",
   "metadata": {},
   "outputs": [
    {
     "data": {
      "text/plain": [
       "([0.2764005947836974,\n",
       "  0.5546212943142731,\n",
       "  0.2347511730355313,\n",
       "  0.49899751693611055,\n",
       "  0.5181117248221903,\n",
       "  0.993206257369655],\n",
       " 0.1684341894251463,\n",
       " array([0.07009088, 0.08193269, 0.04777149, 0.0301645 , 0.02619377,\n",
       "        0.02698569]))"
      ]
     },
     "execution_count": 29,
     "metadata": {},
     "output_type": "execute_result"
    }
   ],
   "source": [
    "raitings, team_rating, coefs"
   ]
  },
  {
   "cell_type": "code",
   "execution_count": 30,
   "id": "seven-worker",
   "metadata": {},
   "outputs": [
    {
     "data": {
      "text/plain": [
       "array([0.07009088, 0.08193269, 0.04777149, 0.0301645 , 0.02619377,\n",
       "       0.02698569])"
      ]
     },
     "execution_count": 30,
     "metadata": {},
     "output_type": "execute_result"
    }
   ],
   "source": [
    "coefs"
   ]
  },
  {
   "cell_type": "code",
   "execution_count": 31,
   "id": "unusual-tourism",
   "metadata": {},
   "outputs": [
    {
     "data": {
      "text/html": [
       "<div>\n",
       "<style scoped>\n",
       "    .dataframe tbody tr th:only-of-type {\n",
       "        vertical-align: middle;\n",
       "    }\n",
       "\n",
       "    .dataframe tbody tr th {\n",
       "        vertical-align: top;\n",
       "    }\n",
       "\n",
       "    .dataframe thead th {\n",
       "        text-align: right;\n",
       "    }\n",
       "</style>\n",
       "<table border=\"1\" class=\"dataframe\">\n",
       "  <thead>\n",
       "    <tr style=\"text-align: right;\">\n",
       "      <th></th>\n",
       "      <th>idx</th>\n",
       "      <th>usr_rating</th>\n",
       "      <th>usr_impact1</th>\n",
       "      <th>usr_impact2</th>\n",
       "      <th>usr_impact3</th>\n",
       "      <th>usr_impact4</th>\n",
       "      <th>usr_impact5</th>\n",
       "    </tr>\n",
       "  </thead>\n",
       "  <tbody>\n",
       "    <tr>\n",
       "      <th>5</th>\n",
       "      <td>5</td>\n",
       "      <td>0.993206</td>\n",
       "      <td>0.069615</td>\n",
       "      <td>0.041542</td>\n",
       "      <td>1.664486</td>\n",
       "      <td>5.282957</td>\n",
       "      <td>3.298407</td>\n",
       "    </tr>\n",
       "    <tr>\n",
       "      <th>1</th>\n",
       "      <td>1</td>\n",
       "      <td>0.554621</td>\n",
       "      <td>0.045442</td>\n",
       "      <td>0.017369</td>\n",
       "      <td>0.695938</td>\n",
       "      <td>2.005589</td>\n",
       "      <td>1.252187</td>\n",
       "    </tr>\n",
       "    <tr>\n",
       "      <th>4</th>\n",
       "      <td>4</td>\n",
       "      <td>0.518112</td>\n",
       "      <td>0.024751</td>\n",
       "      <td>-0.003321</td>\n",
       "      <td>-0.133079</td>\n",
       "      <td>0.875396</td>\n",
       "      <td>0.546552</td>\n",
       "    </tr>\n",
       "    <tr>\n",
       "      <th>3</th>\n",
       "      <td>3</td>\n",
       "      <td>0.498998</td>\n",
       "      <td>0.015052</td>\n",
       "      <td>-0.013020</td>\n",
       "      <td>-0.521689</td>\n",
       "      <td>0.593517</td>\n",
       "      <td>0.370562</td>\n",
       "    </tr>\n",
       "    <tr>\n",
       "      <th>0</th>\n",
       "      <td>0</td>\n",
       "      <td>0.276401</td>\n",
       "      <td>0.007240</td>\n",
       "      <td>-0.020832</td>\n",
       "      <td>-0.834696</td>\n",
       "      <td>0.434006</td>\n",
       "      <td>0.270971</td>\n",
       "    </tr>\n",
       "    <tr>\n",
       "      <th>2</th>\n",
       "      <td>2</td>\n",
       "      <td>0.234751</td>\n",
       "      <td>0.006335</td>\n",
       "      <td>-0.021737</td>\n",
       "      <td>-0.870959</td>\n",
       "      <td>0.418550</td>\n",
       "      <td>0.261321</td>\n",
       "    </tr>\n",
       "  </tbody>\n",
       "</table>\n",
       "</div>"
      ],
      "text/plain": [
       "   idx  usr_rating  usr_impact1  usr_impact2  usr_impact3  usr_impact4  \\\n",
       "5    5    0.993206     0.069615     0.041542     1.664486     5.282957   \n",
       "1    1    0.554621     0.045442     0.017369     0.695938     2.005589   \n",
       "4    4    0.518112     0.024751    -0.003321    -0.133079     0.875396   \n",
       "3    3    0.498998     0.015052    -0.013020    -0.521689     0.593517   \n",
       "0    0    0.276401     0.007240    -0.020832    -0.834696     0.434006   \n",
       "2    2    0.234751     0.006335    -0.021737    -0.870959     0.418550   \n",
       "\n",
       "   usr_impact5  \n",
       "5     3.298407  \n",
       "1     1.252187  \n",
       "4     0.546552  \n",
       "3     0.370562  \n",
       "0     0.270971  \n",
       "2     0.261321  "
      ]
     },
     "execution_count": 31,
     "metadata": {},
     "output_type": "execute_result"
    }
   ],
   "source": [
    "a = pd.Series(raitings).reset_index()\n",
    "a.columns = ['idx', 'usr_rating'] \n",
    "a.sort_values(by = 'usr_rating', inplace=True, ascending=False)\n",
    "a['usr_impact1'] = a.usr_rating.values*coefs[:a.shape[0]]\n",
    "\n",
    "a['usr_impact2'] = a['usr_impact1'] - a.usr_impact1.mean()\n",
    "a['usr_impact3'] = a['usr_impact2'] / a.usr_impact2.std()\n",
    "a['usr_impact4'] = np.exp(a['usr_impact3'])\n",
    "a['usr_impact5'] = a['usr_impact4'] / a['usr_impact4'].mean()\n",
    "a"
   ]
  },
  {
   "cell_type": "code",
   "execution_count": 32,
   "id": "unavailable-foster",
   "metadata": {},
   "outputs": [],
   "source": [
    "def e_step_version_1(c):\n",
    "    pass"
   ]
  },
  {
   "cell_type": "markdown",
   "id": "secondary-fantasy",
   "metadata": {},
   "source": [
    "Получилось вроде правдоподобно. Или нет. И где тут ожидание..."
   ]
  },
  {
   "cell_type": "markdown",
   "id": "rental-reward",
   "metadata": {},
   "source": [
    "С одной стороны вроде бы я получил какие-то коэффициенты... А с другой стороны тут нет никаких вероятностных рассуждений, т.е. это не может быть EM алгоритмом. Придумаем что-то другое, а в конце сравним результаты"
   ]
  },
  {
   "cell_type": "markdown",
   "id": "limited-advertising",
   "metadata": {},
   "source": [
    "# E step\n",
    "version 2 \\\n",
    "Изменим концепцию. На самом деле при первой итерации алгоритма мы считали вероятность правильного ответа каждого человека, где метка совпадает с ответом его команды. Понятно, что в команде не все могут решить такую задачу. \\\n",
    "С одной стороны, если команда не решила задачу, то значит, никто не может её решить.\n",
    "Введём скрытую переменную - это вероятность того, что именно этот человек споcобен решить задачу. Если он решает задачу, то тогда получается, что и команда решила её. Т.е. вероятность того, что команда с этим человеком решила задачу равна произведению вероятности того, что человек решил задачу и команда решила задачу. Вероятность, что команда решила задачу можно оценить снизу как 1 - вероятность того, что никто не может решить задачу. И скорее всего там будет какой-то коеффициент, например, он зависит от числа участников в команде(сделаем его гиперпараметром)"
   ]
  },
  {
   "cell_type": "code",
   "execution_count": 70,
   "id": "thousand-detective",
   "metadata": {},
   "outputs": [],
   "source": [
    "def prepare_train():\n",
    "    res = []\n",
    "    question_number = 0\n",
    "    def fill_res(l: list, q):\n",
    "        def preprocess(game):\n",
    "            nonlocal q\n",
    "            max_mask_len = 0\n",
    "            for team_perfomance in game:\n",
    "                try:\n",
    "                    mask = team_perfomance['mask']\n",
    "                    max_mask_len = max(max_mask_len, len(mask))\n",
    "                    team = team_perfomance['team']['id']\n",
    "                    for member in team_perfomance['teamMembers']:\n",
    "                        player_id = int(member['player']['id'])\n",
    "                        for idx, question in enumerate(range(q, q + len(mask))):\n",
    "                            l.append([player_id, question, team, int(mask[idx])])\n",
    "                except Exception:\n",
    "                    pass\n",
    "            q += max_mask_len\n",
    "        return preprocess\n",
    "    \n",
    "    train_results.progress_map(fill_res(res, question_number))\n",
    "    player_encoder = LabelBinarizer(sparse_output = True)\n",
    "    player_matrix = player_encoder.fit_transform([x[0] for x in res])\n",
    "    question_encoder = LabelBinarizer(sparse_output = True)\n",
    "    question_matrix = question_encoder.fit_transform([x[1] for x in res])\n",
    "    res = pd.DataFrame(res)\n",
    "    res.columns = ['player', 'question', 'team', 'answer']\n",
    "    X_train = hstack([player_matrix, question_matrix])\n",
    "    return X_train, res, player_encoder"
   ]
  },
  {
   "cell_type": "code",
   "execution_count": 33,
   "id": "passing-county",
   "metadata": {},
   "outputs": [],
   "source": [
    "def e_step(res, probas):\n",
    "    if probas is None:\n",
    "        probas = np.ones(res.shape[0])\n",
    "    res['not_solved'] = 1 - res.answer * probas\n",
    "    not_solved = res.groupby(['question', 'team']).not_solved.agg.('prod', 'count').reset_index()\n",
    "    not_solved.columns = ['question', 'team', 'team_not_solved', 'team_size']\n",
    "    res = res.merge(not_solved, on = ['question', 'team'], how='left')\n",
    "    res['weights'] = 1 - res['team_not_solved']\n",
    "    res.weights[res.weights == 0] = 1\n",
    "    return res.answer, res.weights"
   ]
  },
  {
   "cell_type": "code",
   "execution_count": 41,
   "id": "separated-control",
   "metadata": {},
   "outputs": [],
   "source": [
    "def m_step(X_train, y_train, weights):\n",
    "    lr = LogisticRegression(\n",
    "        C = 0.1, \n",
    "        fit_intercept = True,\n",
    "        random_state = 57, \n",
    "        solver = 'saga',\n",
    "        n_jobs = 12\n",
    "    )\n",
    "    lr.fit(X_train, y_train, weights)\n",
    "    probas = lr.predict_proba(X_train)[:, 1]\n",
    "    return lr.coef_, probas"
   ]
  },
  {
   "cell_type": "code",
   "execution_count": 82,
   "id": "sufficient-gibraltar",
   "metadata": {},
   "outputs": [],
   "source": [
    "def get_team_coefs(coefs):\n",
    "    def player_rating(player):\n",
    "        pid = int(player['player']['id'])\n",
    "        pid = player_encoder.transform([pid]).toarray()[0].argmax()\n",
    "        return coefs[0][pid]\n",
    "\n",
    "    res = []\n",
    "    game_number = 0\n",
    "    def fill_res(l: list, g):\n",
    "        def preprocess(game):\n",
    "            nonlocal g\n",
    "            max_mask_len = 0\n",
    "            for team_perfomance in game:\n",
    "                try:\n",
    "                    mask = team_perfomance['mask']\n",
    "                    position = team_perfomance['position']\n",
    "                    l.append([\n",
    "                        g, \n",
    "                        sum([1 if x == '1' else 0 for x in mask]),\n",
    "                        position,\n",
    "                        sorted([player_rating(x) for x in team_perfomance['teamMembers']], reverse=True)\n",
    "                    ])\n",
    "                except Exception:\n",
    "                    pass\n",
    "            g += 1\n",
    "        return preprocess\n",
    "\n",
    "    train_results.progress_map(fill_res(res, game_number))\n",
    "    game_encoder = LabelBinarizer(sparse_output = True)\n",
    "    game_matrix = game_encoder.fit_transform([x[0] for x in res])\n",
    "    player_scores = pd.DataFrame([x[3] for x in res])\n",
    "    player_scores = player_scores[player_scores.columns[:6]]\n",
    "    player_scores.fillna(0., inplace=True)\n",
    "    \n",
    "    questions = pd.DataFrame([[x[0], x[1]] for x in res], columns = ['game', 'score'])\n",
    "    questions = questions.groupby('game').max()\n",
    "    \n",
    "    def transform_y(x):\n",
    "        num = x[1]\n",
    "        game = x[0]\n",
    "        try:\n",
    "            return num / questions.loc[game][0]\n",
    "        except Exception:\n",
    "            print(num, game)\n",
    "    \n",
    "    X_train = hstack([player_scores, game_matrix]).toarray()\n",
    "    y_train = pd.Series(([transform_y(x) for x in res]))\n",
    "    X_train = X_train[~y_train.isna()]\n",
    "    y_train = y_train[~y_train.isna()]\n",
    "    \n",
    "    ridge_score = Ridge(\n",
    "        fit_intercept = True,\n",
    "        random_state = 57, \n",
    "        solver = 'saga',\n",
    "    )\n",
    "    ridge_score.fit(X_train, y_train)  \n",
    "    return ridge_score.coef_[:6]\n",
    "    \n",
    "    \n",
    "def score(team_coefs, coefs):\n",
    "    def player_rating(player):\n",
    "        pid = int(player['player']['id'])\n",
    "        pid = player_encoder.transform([pid]).toarray()[0].argmax()\n",
    "        return coefs[0][pid]\n",
    "    \n",
    "    test_games = data.tournaments[pd.to_datetime(data.tournaments.dateStart).map(lambda x: x.year) == 2020].index\n",
    "    test_results = data.results[data.results.index.isin(test_games)]\n",
    "    \n",
    "    def get_team_rating(r):\n",
    "        while len(r) < 6:\n",
    "            r.append(r[-1])\n",
    "        return sum([team_coefs[idx]*val for idx, val in enumerate(r)])\n",
    "\n",
    "    res = []\n",
    "    game_number = 0\n",
    "    def fill_res(l: list, g):\n",
    "        def preprocess(game):\n",
    "            nonlocal g\n",
    "            for team_perfomance in game:\n",
    "                try:\n",
    "                    position = team_perfomance['position']\n",
    "                    raitings = sorted([player_rating(x) for x in team_perfomance['teamMembers']], reverse=True)\n",
    "                    team_rating = get_team_rating(raitings)\n",
    "                    l.append([\n",
    "                        g,\n",
    "                        position,\n",
    "                        team_rating\n",
    "                    ])\n",
    "                except Exception:\n",
    "                    pass\n",
    "            g += 1\n",
    "        return preprocess\n",
    "\n",
    "    test_results.progress_map(fill_res(res, game_number))\n",
    "    \n",
    "    \n",
    "    res = pd.DataFrame(res, columns = ['game', 'position', 'team_rating'])\n",
    "    \n",
    "    def sp_corr(df):\n",
    "        return -spearmanr(df.position, df.team_rating)[0] \n",
    "    def ken_corr(df):\n",
    "        return -kendalltau(df.position, df.team_rating)[0]\n",
    "\n",
    "    print(res.groupby('game').apply(sp_corr).mean(), res.groupby('game').apply(ken_corr).mean())"
   ]
  },
  {
   "cell_type": "code",
   "execution_count": 72,
   "id": "minor-burns",
   "metadata": {},
   "outputs": [
    {
     "data": {
      "application/vnd.jupyter.widget-view+json": {
       "model_id": "490e97ee85e442d786598088ed624ba4",
       "version_major": 2,
       "version_minor": 0
      },
      "text/plain": [
       "  0%|          | 0/680 [00:00<?, ?it/s]"
      ]
     },
     "metadata": {},
     "output_type": "display_data"
    }
   ],
   "source": [
    "train_games = data.tournaments[pd.to_datetime(data.tournaments.dateStart).map(lambda x: x.year) == 2019].index\n",
    "train_results = data.results[data.results.index.isin(train_games)]\n",
    "X_train, res, player_encoder = prepare_train()"
   ]
  },
  {
   "cell_type": "code",
   "execution_count": 42,
   "id": "acute-bloom",
   "metadata": {},
   "outputs": [
    {
     "name": "stderr",
     "output_type": "stream",
     "text": [
      "<ipython-input-33-3dd178877d87>:9: SettingWithCopyWarning: \n",
      "A value is trying to be set on a copy of a slice from a DataFrame\n",
      "\n",
      "See the caveats in the documentation: https://pandas.pydata.org/pandas-docs/stable/user_guide/indexing.html#returning-a-view-versus-a-copy\n",
      "  res.weights[res.weights == 0] = 1\n"
     ]
    }
   ],
   "source": [
    "y_train, weights = e_step(res, None)"
   ]
  },
  {
   "cell_type": "code",
   "execution_count": 43,
   "id": "personal-attribute",
   "metadata": {},
   "outputs": [],
   "source": [
    "coefs, probas = m_step(X_train, y_train, weights)"
   ]
  },
  {
   "cell_type": "code",
   "execution_count": 76,
   "id": "parliamentary-muslim",
   "metadata": {},
   "outputs": [
    {
     "data": {
      "application/vnd.jupyter.widget-view+json": {
       "model_id": "e83b6f52caea4b148f6829345169dc62",
       "version_major": 2,
       "version_minor": 0
      },
      "text/plain": [
       "  0%|          | 0/680 [00:00<?, ?it/s]"
      ]
     },
     "metadata": {},
     "output_type": "display_data"
    },
    {
     "name": "stdout",
     "output_type": "stream",
     "text": [
      "      score\n",
      "game       \n",
      "0        28\n",
      "1        32\n",
      "2        35\n",
      "3        29\n",
      "4        33\n"
     ]
    },
    {
     "name": "stderr",
     "output_type": "stream",
     "text": [
      "<ipython-input-75-55604fd783c9>:43: RuntimeWarning: invalid value encountered in long_scalars\n",
      "  return num / questions.loc[game][0]\n"
     ]
    },
    {
     "data": {
      "text/plain": [
       "array([0.07009088, 0.08193269, 0.04777149, 0.0301645 , 0.02619377,\n",
       "       0.02698569])"
      ]
     },
     "execution_count": 76,
     "metadata": {},
     "output_type": "execute_result"
    }
   ],
   "source": [
    "team_coefs = get_team_coefs(coefs)\n",
    "team_coefs"
   ]
  },
  {
   "cell_type": "code",
   "execution_count": 79,
   "id": "loaded-endorsement",
   "metadata": {},
   "outputs": [
    {
     "data": {
      "application/vnd.jupyter.widget-view+json": {
       "model_id": "66bd25e1214845ce808ddf03e08fb5aa",
       "version_major": 2,
       "version_minor": 0
      },
      "text/plain": [
       "  0%|          | 0/196 [00:00<?, ?it/s]"
      ]
     },
     "metadata": {},
     "output_type": "display_data"
    },
    {
     "name": "stdout",
     "output_type": "stream",
     "text": [
      "(21711, 3)\n",
      "0.7435252150804705 0.5891459257768152\n"
     ]
    }
   ],
   "source": [
    "score(team_coefs, coefs)"
   ]
  },
  {
   "cell_type": "code",
   "execution_count": 83,
   "id": "blocked-spotlight",
   "metadata": {},
   "outputs": [
    {
     "data": {
      "application/vnd.jupyter.widget-view+json": {
       "model_id": "7b0027758c8f44178887104eee92aee9",
       "version_major": 2,
       "version_minor": 0
      },
      "text/plain": [
       "  0%|          | 0/680 [00:00<?, ?it/s]"
      ]
     },
     "metadata": {},
     "output_type": "display_data"
    },
    {
     "name": "stdout",
     "output_type": "stream",
     "text": [
      "iter 0\n",
      "[0.07009088 0.08193269 0.04777149 0.0301645  0.02619377 0.02698569]\n"
     ]
    },
    {
     "data": {
      "application/vnd.jupyter.widget-view+json": {
       "model_id": "bdf57d5495274da2aed4af98d4b5ca6b",
       "version_major": 2,
       "version_minor": 0
      },
      "text/plain": [
       "  0%|          | 0/196 [00:00<?, ?it/s]"
      ]
     },
     "metadata": {},
     "output_type": "display_data"
    },
    {
     "name": "stdout",
     "output_type": "stream",
     "text": [
      "0.7435252150804705 0.5891459257768152\n"
     ]
    },
    {
     "data": {
      "application/vnd.jupyter.widget-view+json": {
       "model_id": "9e0890e162ff442885278eac8c1bdad3",
       "version_major": 2,
       "version_minor": 0
      },
      "text/plain": [
       "  0%|          | 0/680 [00:00<?, ?it/s]"
      ]
     },
     "metadata": {},
     "output_type": "display_data"
    },
    {
     "name": "stdout",
     "output_type": "stream",
     "text": [
      "iter 1\n",
      "[0.06494297 0.07506459 0.04372278 0.02759217 0.0240138  0.02532843]\n"
     ]
    },
    {
     "data": {
      "application/vnd.jupyter.widget-view+json": {
       "model_id": "9be52ddc330e45af941b2bd87ea8fd51",
       "version_major": 2,
       "version_minor": 0
      },
      "text/plain": [
       "  0%|          | 0/196 [00:00<?, ?it/s]"
      ]
     },
     "metadata": {},
     "output_type": "display_data"
    },
    {
     "name": "stdout",
     "output_type": "stream",
     "text": [
      "0.7429897334807612 0.587442002042765\n"
     ]
    },
    {
     "data": {
      "application/vnd.jupyter.widget-view+json": {
       "model_id": "22143e8c5a3f4e20bfd3b5b37a3b8e2b",
       "version_major": 2,
       "version_minor": 0
      },
      "text/plain": [
       "  0%|          | 0/680 [00:00<?, ?it/s]"
      ]
     },
     "metadata": {},
     "output_type": "display_data"
    },
    {
     "name": "stdout",
     "output_type": "stream",
     "text": [
      "iter 2\n",
      "[0.06407992 0.0732317  0.04325796 0.02709992 0.02355564 0.02496682]\n"
     ]
    },
    {
     "data": {
      "application/vnd.jupyter.widget-view+json": {
       "model_id": "92eb29b2ba1548928ee858adc3339a24",
       "version_major": 2,
       "version_minor": 0
      },
      "text/plain": [
       "  0%|          | 0/196 [00:00<?, ?it/s]"
      ]
     },
     "metadata": {},
     "output_type": "display_data"
    },
    {
     "name": "stdout",
     "output_type": "stream",
     "text": [
      "0.7428613455221236 0.5867693035539561\n"
     ]
    },
    {
     "data": {
      "application/vnd.jupyter.widget-view+json": {
       "model_id": "227f8a9bc4b34241a31986299d5b97a6",
       "version_major": 2,
       "version_minor": 0
      },
      "text/plain": [
       "  0%|          | 0/680 [00:00<?, ?it/s]"
      ]
     },
     "metadata": {},
     "output_type": "display_data"
    },
    {
     "name": "stdout",
     "output_type": "stream",
     "text": [
      "iter 3\n",
      "[0.06389129 0.07274624 0.04322072 0.02698124 0.02344834 0.02485845]\n"
     ]
    },
    {
     "data": {
      "application/vnd.jupyter.widget-view+json": {
       "model_id": "980dcb5a96fe43ba931e85a4a936d94c",
       "version_major": 2,
       "version_minor": 0
      },
      "text/plain": [
       "  0%|          | 0/196 [00:00<?, ?it/s]"
      ]
     },
     "metadata": {},
     "output_type": "display_data"
    },
    {
     "name": "stdout",
     "output_type": "stream",
     "text": [
      "0.7427772101679139 0.5862967559840496\n"
     ]
    },
    {
     "data": {
      "application/vnd.jupyter.widget-view+json": {
       "model_id": "891948f53aa14a5ebeb1a6be31a5e43c",
       "version_major": 2,
       "version_minor": 0
      },
      "text/plain": [
       "  0%|          | 0/680 [00:00<?, ?it/s]"
      ]
     },
     "metadata": {},
     "output_type": "display_data"
    },
    {
     "name": "stdout",
     "output_type": "stream",
     "text": [
      "iter 4\n",
      "[0.06385282 0.07260479 0.04323877 0.02694615 0.02342027 0.0248211 ]\n"
     ]
    },
    {
     "data": {
      "application/vnd.jupyter.widget-view+json": {
       "model_id": "1b0351b6a9f0456c8ba0fbe585b547b5",
       "version_major": 2,
       "version_minor": 0
      },
      "text/plain": [
       "  0%|          | 0/196 [00:00<?, ?it/s]"
      ]
     },
     "metadata": {},
     "output_type": "display_data"
    },
    {
     "name": "stdout",
     "output_type": "stream",
     "text": [
      "0.7425046359740879 0.5861217887387936\n"
     ]
    }
   ],
   "source": [
    "probas = None\n",
    "for i in range(5):\n",
    "    y_train, weights = e_step(res, probas)\n",
    "    coefs, probas = m_step(X_train, y_train, weights)\n",
    "    team_coefs = get_team_coefs(coefs)\n",
    "    print(f'iter {i}')\n",
    "    print(team_coefs)\n",
    "    score(team_coefs, coefs)"
   ]
  },
  {
   "cell_type": "markdown",
   "id": "surprising-convenience",
   "metadata": {},
   "source": [
    "Может быть не стоит менять коэффициенты?"
   ]
  },
  {
   "cell_type": "code",
   "execution_count": 85,
   "id": "significant-africa",
   "metadata": {},
   "outputs": [
    {
     "data": {
      "application/vnd.jupyter.widget-view+json": {
       "model_id": "805cb02229f54d668c070d32cbd36e13",
       "version_major": 2,
       "version_minor": 0
      },
      "text/plain": [
       "  0%|          | 0/680 [00:00<?, ?it/s]"
      ]
     },
     "metadata": {},
     "output_type": "display_data"
    },
    {
     "name": "stdout",
     "output_type": "stream",
     "text": [
      "iter 0\n"
     ]
    },
    {
     "data": {
      "application/vnd.jupyter.widget-view+json": {
       "model_id": "5982f27fc087485a93342efe87d95235",
       "version_major": 2,
       "version_minor": 0
      },
      "text/plain": [
       "  0%|          | 0/196 [00:00<?, ?it/s]"
      ]
     },
     "metadata": {},
     "output_type": "display_data"
    },
    {
     "name": "stdout",
     "output_type": "stream",
     "text": [
      "0.7435252150804705 0.5891459257768152\n",
      "iter 1\n"
     ]
    },
    {
     "data": {
      "application/vnd.jupyter.widget-view+json": {
       "model_id": "25bf05737ee64b76800d8eefccc4dd19",
       "version_major": 2,
       "version_minor": 0
      },
      "text/plain": [
       "  0%|          | 0/196 [00:00<?, ?it/s]"
      ]
     },
     "metadata": {},
     "output_type": "display_data"
    },
    {
     "name": "stdout",
     "output_type": "stream",
     "text": [
      "0.7429025264664615 0.5872749880024015\n",
      "iter 2\n"
     ]
    },
    {
     "data": {
      "application/vnd.jupyter.widget-view+json": {
       "model_id": "b34cec62fe7e4cbb858a29f0796202b9",
       "version_major": 2,
       "version_minor": 0
      },
      "text/plain": [
       "  0%|          | 0/196 [00:00<?, ?it/s]"
      ]
     },
     "metadata": {},
     "output_type": "display_data"
    },
    {
     "name": "stdout",
     "output_type": "stream",
     "text": [
      "0.7433823321350949 0.5871272115615332\n",
      "iter 3\n"
     ]
    },
    {
     "data": {
      "application/vnd.jupyter.widget-view+json": {
       "model_id": "3df24e35bffe4c1cbf2bf62076989588",
       "version_major": 2,
       "version_minor": 0
      },
      "text/plain": [
       "  0%|          | 0/196 [00:00<?, ?it/s]"
      ]
     },
     "metadata": {},
     "output_type": "display_data"
    },
    {
     "name": "stdout",
     "output_type": "stream",
     "text": [
      "0.7428300878686855 0.5863895111777645\n",
      "iter 4\n"
     ]
    },
    {
     "data": {
      "application/vnd.jupyter.widget-view+json": {
       "model_id": "5c3f4446f75f443a8f1df63f1a7d6508",
       "version_major": 2,
       "version_minor": 0
      },
      "text/plain": [
       "  0%|          | 0/196 [00:00<?, ?it/s]"
      ]
     },
     "metadata": {},
     "output_type": "display_data"
    },
    {
     "name": "stdout",
     "output_type": "stream",
     "text": [
      "0.7424720970751318 0.5861001146938322\n",
      "iter 5\n"
     ]
    },
    {
     "data": {
      "application/vnd.jupyter.widget-view+json": {
       "model_id": "3723c51a0bb4419095e8c10b49ae0b78",
       "version_major": 2,
       "version_minor": 0
      },
      "text/plain": [
       "  0%|          | 0/196 [00:00<?, ?it/s]"
      ]
     },
     "metadata": {},
     "output_type": "display_data"
    },
    {
     "name": "stdout",
     "output_type": "stream",
     "text": [
      "0.7424527214653612 0.5860821557896863\n",
      "iter 6\n"
     ]
    },
    {
     "data": {
      "application/vnd.jupyter.widget-view+json": {
       "model_id": "ac1e50efae4a4dec94f6c896cef8e3fd",
       "version_major": 2,
       "version_minor": 0
      },
      "text/plain": [
       "  0%|          | 0/196 [00:00<?, ?it/s]"
      ]
     },
     "metadata": {},
     "output_type": "display_data"
    },
    {
     "name": "stdout",
     "output_type": "stream",
     "text": [
      "0.7424637436931922 0.5860892673159565\n",
      "iter 7\n"
     ]
    },
    {
     "data": {
      "application/vnd.jupyter.widget-view+json": {
       "model_id": "2ac1d71fc4d146f18f4e821cccd196ea",
       "version_major": 2,
       "version_minor": 0
      },
      "text/plain": [
       "  0%|          | 0/196 [00:00<?, ?it/s]"
      ]
     },
     "metadata": {},
     "output_type": "display_data"
    },
    {
     "name": "stdout",
     "output_type": "stream",
     "text": [
      "0.7424074317131315 0.5860280313315993\n",
      "iter 8\n"
     ]
    },
    {
     "data": {
      "application/vnd.jupyter.widget-view+json": {
       "model_id": "c87da95a979d4155bbc9e311039846d3",
       "version_major": 2,
       "version_minor": 0
      },
      "text/plain": [
       "  0%|          | 0/196 [00:00<?, ?it/s]"
      ]
     },
     "metadata": {},
     "output_type": "display_data"
    },
    {
     "name": "stdout",
     "output_type": "stream",
     "text": [
      "0.7423961586956498 0.5860257372600133\n",
      "iter 9\n"
     ]
    },
    {
     "data": {
      "application/vnd.jupyter.widget-view+json": {
       "model_id": "d19a64bab4c24be986303dad08dd6386",
       "version_major": 2,
       "version_minor": 0
      },
      "text/plain": [
       "  0%|          | 0/196 [00:00<?, ?it/s]"
      ]
     },
     "metadata": {},
     "output_type": "display_data"
    },
    {
     "name": "stdout",
     "output_type": "stream",
     "text": [
      "0.7423948827799141 0.5860242603650807\n"
     ]
    }
   ],
   "source": [
    "probas = None\n",
    "for i in range(10):\n",
    "    y_train, weights = e_step(res, probas)\n",
    "    coefs, probas = m_step(X_train, y_train, weights)\n",
    "    if i == 0:\n",
    "        team_coefs = get_team_coefs(coefs)\n",
    "    print(f'iter {i}')\n",
    "    score(team_coefs, coefs)"
   ]
  },
  {
   "cell_type": "markdown",
   "id": "funded-blake",
   "metadata": {},
   "source": [
    "Попробуем с суммой, которая кажется более логичной."
   ]
  },
  {
   "cell_type": "code",
   "execution_count": 87,
   "id": "palestinian-amount",
   "metadata": {},
   "outputs": [
    {
     "name": "stdout",
     "output_type": "stream",
     "text": [
      "iter 0\n"
     ]
    },
    {
     "data": {
      "application/vnd.jupyter.widget-view+json": {
       "model_id": "311a58f6cbcb4cad97aa11112ec76c10",
       "version_major": 2,
       "version_minor": 0
      },
      "text/plain": [
       "  0%|          | 0/196 [00:00<?, ?it/s]"
      ]
     },
     "metadata": {},
     "output_type": "display_data"
    },
    {
     "name": "stdout",
     "output_type": "stream",
     "text": [
      "0.7449423499082848 0.590253574215968\n",
      "iter 1\n"
     ]
    },
    {
     "data": {
      "application/vnd.jupyter.widget-view+json": {
       "model_id": "36dccc97b5ca4f0eabbc8aa363c6bcd3",
       "version_major": 2,
       "version_minor": 0
      },
      "text/plain": [
       "  0%|          | 0/196 [00:00<?, ?it/s]"
      ]
     },
     "metadata": {},
     "output_type": "display_data"
    },
    {
     "name": "stdout",
     "output_type": "stream",
     "text": [
      "0.7446525329101448 0.5894937754967559\n",
      "iter 2\n"
     ]
    },
    {
     "data": {
      "application/vnd.jupyter.widget-view+json": {
       "model_id": "c8482e03cbb1474785e1191ad4cade11",
       "version_major": 2,
       "version_minor": 0
      },
      "text/plain": [
       "  0%|          | 0/196 [00:00<?, ?it/s]"
      ]
     },
     "metadata": {},
     "output_type": "display_data"
    },
    {
     "name": "stdout",
     "output_type": "stream",
     "text": [
      "0.7444439047668893 0.5885863742558204\n",
      "iter 3\n"
     ]
    },
    {
     "data": {
      "application/vnd.jupyter.widget-view+json": {
       "model_id": "afe245de29b84c3a97d11ef7e98c9fcb",
       "version_major": 2,
       "version_minor": 0
      },
      "text/plain": [
       "  0%|          | 0/196 [00:00<?, ?it/s]"
      ]
     },
     "metadata": {},
     "output_type": "display_data"
    },
    {
     "name": "stdout",
     "output_type": "stream",
     "text": [
      "0.745034811154258 0.5890431703529624\n",
      "iter 4\n"
     ]
    },
    {
     "data": {
      "application/vnd.jupyter.widget-view+json": {
       "model_id": "78c6e7f8a9d9456b9aa5abab0a08e263",
       "version_major": 2,
       "version_minor": 0
      },
      "text/plain": [
       "  0%|          | 0/196 [00:00<?, ?it/s]"
      ]
     },
     "metadata": {},
     "output_type": "display_data"
    },
    {
     "name": "stdout",
     "output_type": "stream",
     "text": [
      "0.7453742783230034 0.5892824569256413\n",
      "iter 5\n"
     ]
    },
    {
     "data": {
      "application/vnd.jupyter.widget-view+json": {
       "model_id": "95c119a2a1da4ec7bde9aba2e3a2f095",
       "version_major": 2,
       "version_minor": 0
      },
      "text/plain": [
       "  0%|          | 0/196 [00:00<?, ?it/s]"
      ]
     },
     "metadata": {},
     "output_type": "display_data"
    },
    {
     "name": "stdout",
     "output_type": "stream",
     "text": [
      "0.7453751578286664 0.589280754295243\n",
      "iter 6\n"
     ]
    },
    {
     "data": {
      "application/vnd.jupyter.widget-view+json": {
       "model_id": "9dd69ea738d445b294bf38cc68c533ec",
       "version_major": 2,
       "version_minor": 0
      },
      "text/plain": [
       "  0%|          | 0/196 [00:00<?, ?it/s]"
      ]
     },
     "metadata": {},
     "output_type": "display_data"
    },
    {
     "name": "stdout",
     "output_type": "stream",
     "text": [
      "0.7453451616710737 0.5892514401419874\n",
      "iter 7\n"
     ]
    },
    {
     "data": {
      "application/vnd.jupyter.widget-view+json": {
       "model_id": "b72bf79fc81a415bb6e71c7f7e04755c",
       "version_major": 2,
       "version_minor": 0
      },
      "text/plain": [
       "  0%|          | 0/196 [00:00<?, ?it/s]"
      ]
     },
     "metadata": {},
     "output_type": "display_data"
    },
    {
     "name": "stdout",
     "output_type": "stream",
     "text": [
      "0.7451905554182918 0.5891543536267689\n",
      "iter 8\n"
     ]
    },
    {
     "data": {
      "application/vnd.jupyter.widget-view+json": {
       "model_id": "8d54ddbba2444d75a96f3fd3cb42f9fd",
       "version_major": 2,
       "version_minor": 0
      },
      "text/plain": [
       "  0%|          | 0/196 [00:00<?, ?it/s]"
      ]
     },
     "metadata": {},
     "output_type": "display_data"
    },
    {
     "name": "stdout",
     "output_type": "stream",
     "text": [
      "0.7452569926504168 0.5892144987576514\n",
      "iter 9\n"
     ]
    },
    {
     "data": {
      "application/vnd.jupyter.widget-view+json": {
       "model_id": "98f133d3fed049f59aa8c2c95599d561",
       "version_major": 2,
       "version_minor": 0
      },
      "text/plain": [
       "  0%|          | 0/196 [00:00<?, ?it/s]"
      ]
     },
     "metadata": {},
     "output_type": "display_data"
    },
    {
     "name": "stdout",
     "output_type": "stream",
     "text": [
      "0.745257101530387 0.589212193390809\n"
     ]
    }
   ],
   "source": [
    "probas = None\n",
    "for i in range(10):\n",
    "    y_train, weights = e_step(res, probas)\n",
    "    coefs, probas = m_step(X_train, y_train, weights)\n",
    "    if i == 0:\n",
    "        team_coefs = np.array([6 - i for i in range(6)])\n",
    "    print(f'iter {i}')\n",
    "    score(team_coefs, coefs)"
   ]
  },
  {
   "cell_type": "markdown",
   "id": "dominant-racing",
   "metadata": {},
   "source": [
    "вроде немного улучшилось"
   ]
  },
  {
   "cell_type": "code",
   "execution_count": 88,
   "id": "vocal-arbitration",
   "metadata": {},
   "outputs": [
    {
     "name": "stdout",
     "output_type": "stream",
     "text": [
      "iter 0\n"
     ]
    },
    {
     "data": {
      "application/vnd.jupyter.widget-view+json": {
       "model_id": "4200250b32af4f12b02d009b89e76383",
       "version_major": 2,
       "version_minor": 0
      },
      "text/plain": [
       "  0%|          | 0/196 [00:00<?, ?it/s]"
      ]
     },
     "metadata": {},
     "output_type": "display_data"
    },
    {
     "name": "stdout",
     "output_type": "stream",
     "text": [
      "0.7341883577183127 0.5793363925553946\n",
      "iter 1\n"
     ]
    },
    {
     "data": {
      "application/vnd.jupyter.widget-view+json": {
       "model_id": "b7ad4f049f2f4ceda9ffba17972b5452",
       "version_major": 2,
       "version_minor": 0
      },
      "text/plain": [
       "  0%|          | 0/196 [00:00<?, ?it/s]"
      ]
     },
     "metadata": {},
     "output_type": "display_data"
    },
    {
     "name": "stdout",
     "output_type": "stream",
     "text": [
      "0.7324081045430173 0.5773653919943106\n",
      "iter 2\n"
     ]
    },
    {
     "data": {
      "application/vnd.jupyter.widget-view+json": {
       "model_id": "ef57c3f49db34106bd2e46c6756407d2",
       "version_major": 2,
       "version_minor": 0
      },
      "text/plain": [
       "  0%|          | 0/196 [00:00<?, ?it/s]"
      ]
     },
     "metadata": {},
     "output_type": "display_data"
    },
    {
     "name": "stdout",
     "output_type": "stream",
     "text": [
      "0.7309920493736068 0.5760161243860827\n"
     ]
    },
    {
     "ename": "KeyboardInterrupt",
     "evalue": "",
     "output_type": "error",
     "traceback": [
      "\u001b[0;31m---------------------------------------------------------------------------\u001b[0m",
      "\u001b[0;31mKeyboardInterrupt\u001b[0m                         Traceback (most recent call last)",
      "\u001b[0;32m<ipython-input-88-77ac920824a7>\u001b[0m in \u001b[0;36m<module>\u001b[0;34m\u001b[0m\n\u001b[1;32m      2\u001b[0m \u001b[0;32mfor\u001b[0m \u001b[0mi\u001b[0m \u001b[0;32min\u001b[0m \u001b[0mrange\u001b[0m\u001b[0;34m(\u001b[0m\u001b[0;36m10\u001b[0m\u001b[0;34m)\u001b[0m\u001b[0;34m:\u001b[0m\u001b[0;34m\u001b[0m\u001b[0;34m\u001b[0m\u001b[0m\n\u001b[1;32m      3\u001b[0m     \u001b[0my_train\u001b[0m\u001b[0;34m,\u001b[0m \u001b[0mweights\u001b[0m \u001b[0;34m=\u001b[0m \u001b[0me_step\u001b[0m\u001b[0;34m(\u001b[0m\u001b[0mres\u001b[0m\u001b[0;34m,\u001b[0m \u001b[0mprobas\u001b[0m\u001b[0;34m)\u001b[0m\u001b[0;34m\u001b[0m\u001b[0;34m\u001b[0m\u001b[0m\n\u001b[0;32m----> 4\u001b[0;31m     \u001b[0mcoefs\u001b[0m\u001b[0;34m,\u001b[0m \u001b[0mprobas\u001b[0m \u001b[0;34m=\u001b[0m \u001b[0mm_step\u001b[0m\u001b[0;34m(\u001b[0m\u001b[0mX_train\u001b[0m\u001b[0;34m,\u001b[0m \u001b[0my_train\u001b[0m\u001b[0;34m,\u001b[0m \u001b[0mweights\u001b[0m\u001b[0;34m)\u001b[0m\u001b[0;34m\u001b[0m\u001b[0;34m\u001b[0m\u001b[0m\n\u001b[0m\u001b[1;32m      5\u001b[0m     \u001b[0;32mif\u001b[0m \u001b[0mi\u001b[0m \u001b[0;34m==\u001b[0m \u001b[0;36m0\u001b[0m\u001b[0;34m:\u001b[0m\u001b[0;34m\u001b[0m\u001b[0;34m\u001b[0m\u001b[0m\n\u001b[1;32m      6\u001b[0m         \u001b[0mteam_coefs\u001b[0m \u001b[0;34m=\u001b[0m \u001b[0mnp\u001b[0m\u001b[0;34m.\u001b[0m\u001b[0mzeros\u001b[0m\u001b[0;34m(\u001b[0m\u001b[0;36m6\u001b[0m\u001b[0;34m)\u001b[0m\u001b[0;34m\u001b[0m\u001b[0;34m\u001b[0m\u001b[0m\n",
      "\u001b[0;32m<ipython-input-41-1358ba9851c8>\u001b[0m in \u001b[0;36mm_step\u001b[0;34m(X_train, y_train, weights)\u001b[0m\n\u001b[1;32m      7\u001b[0m         \u001b[0mn_jobs\u001b[0m \u001b[0;34m=\u001b[0m \u001b[0;36m12\u001b[0m\u001b[0;34m\u001b[0m\u001b[0;34m\u001b[0m\u001b[0m\n\u001b[1;32m      8\u001b[0m     )\n\u001b[0;32m----> 9\u001b[0;31m     \u001b[0mlr\u001b[0m\u001b[0;34m.\u001b[0m\u001b[0mfit\u001b[0m\u001b[0;34m(\u001b[0m\u001b[0mX_train\u001b[0m\u001b[0;34m,\u001b[0m \u001b[0my_train\u001b[0m\u001b[0;34m,\u001b[0m \u001b[0mweights\u001b[0m\u001b[0;34m)\u001b[0m\u001b[0;34m\u001b[0m\u001b[0;34m\u001b[0m\u001b[0m\n\u001b[0m\u001b[1;32m     10\u001b[0m     \u001b[0mprobas\u001b[0m \u001b[0;34m=\u001b[0m \u001b[0mlr\u001b[0m\u001b[0;34m.\u001b[0m\u001b[0mpredict_proba\u001b[0m\u001b[0;34m(\u001b[0m\u001b[0mX_train\u001b[0m\u001b[0;34m)\u001b[0m\u001b[0;34m[\u001b[0m\u001b[0;34m:\u001b[0m\u001b[0;34m,\u001b[0m \u001b[0;36m1\u001b[0m\u001b[0;34m]\u001b[0m\u001b[0;34m\u001b[0m\u001b[0;34m\u001b[0m\u001b[0m\n\u001b[1;32m     11\u001b[0m     \u001b[0;32mreturn\u001b[0m \u001b[0mlr\u001b[0m\u001b[0;34m.\u001b[0m\u001b[0mcoef_\u001b[0m\u001b[0;34m,\u001b[0m \u001b[0mprobas\u001b[0m\u001b[0;34m\u001b[0m\u001b[0;34m\u001b[0m\u001b[0m\n",
      "\u001b[0;32m~/anaconda3/envs/made/lib/python3.8/site-packages/sklearn/linear_model/_logistic.py\u001b[0m in \u001b[0;36mfit\u001b[0;34m(self, X, y, sample_weight)\u001b[0m\n\u001b[1;32m   1404\u001b[0m         \u001b[0;32melse\u001b[0m\u001b[0;34m:\u001b[0m\u001b[0;34m\u001b[0m\u001b[0;34m\u001b[0m\u001b[0m\n\u001b[1;32m   1405\u001b[0m             \u001b[0mprefer\u001b[0m \u001b[0;34m=\u001b[0m \u001b[0;34m'processes'\u001b[0m\u001b[0;34m\u001b[0m\u001b[0;34m\u001b[0m\u001b[0m\n\u001b[0;32m-> 1406\u001b[0;31m         fold_coefs_ = Parallel(n_jobs=self.n_jobs, verbose=self.verbose,\n\u001b[0m\u001b[1;32m   1407\u001b[0m                                \u001b[0;34m**\u001b[0m\u001b[0m_joblib_parallel_args\u001b[0m\u001b[0;34m(\u001b[0m\u001b[0mprefer\u001b[0m\u001b[0;34m=\u001b[0m\u001b[0mprefer\u001b[0m\u001b[0;34m)\u001b[0m\u001b[0;34m)\u001b[0m\u001b[0;34m(\u001b[0m\u001b[0;34m\u001b[0m\u001b[0;34m\u001b[0m\u001b[0m\n\u001b[1;32m   1408\u001b[0m             path_func(X, y, pos_class=class_, Cs=[C_],\n",
      "\u001b[0;32m~/anaconda3/envs/made/lib/python3.8/site-packages/joblib/parallel.py\u001b[0m in \u001b[0;36m__call__\u001b[0;34m(self, iterable)\u001b[0m\n\u001b[1;32m   1052\u001b[0m \u001b[0;34m\u001b[0m\u001b[0m\n\u001b[1;32m   1053\u001b[0m             \u001b[0;32mwith\u001b[0m \u001b[0mself\u001b[0m\u001b[0;34m.\u001b[0m\u001b[0m_backend\u001b[0m\u001b[0;34m.\u001b[0m\u001b[0mretrieval_context\u001b[0m\u001b[0;34m(\u001b[0m\u001b[0;34m)\u001b[0m\u001b[0;34m:\u001b[0m\u001b[0;34m\u001b[0m\u001b[0;34m\u001b[0m\u001b[0m\n\u001b[0;32m-> 1054\u001b[0;31m                 \u001b[0mself\u001b[0m\u001b[0;34m.\u001b[0m\u001b[0mretrieve\u001b[0m\u001b[0;34m(\u001b[0m\u001b[0;34m)\u001b[0m\u001b[0;34m\u001b[0m\u001b[0;34m\u001b[0m\u001b[0m\n\u001b[0m\u001b[1;32m   1055\u001b[0m             \u001b[0;31m# Make sure that we get a last message telling us we are done\u001b[0m\u001b[0;34m\u001b[0m\u001b[0;34m\u001b[0m\u001b[0;34m\u001b[0m\u001b[0m\n\u001b[1;32m   1056\u001b[0m             \u001b[0melapsed_time\u001b[0m \u001b[0;34m=\u001b[0m \u001b[0mtime\u001b[0m\u001b[0;34m.\u001b[0m\u001b[0mtime\u001b[0m\u001b[0;34m(\u001b[0m\u001b[0;34m)\u001b[0m \u001b[0;34m-\u001b[0m \u001b[0mself\u001b[0m\u001b[0;34m.\u001b[0m\u001b[0m_start_time\u001b[0m\u001b[0;34m\u001b[0m\u001b[0;34m\u001b[0m\u001b[0m\n",
      "\u001b[0;32m~/anaconda3/envs/made/lib/python3.8/site-packages/joblib/parallel.py\u001b[0m in \u001b[0;36mretrieve\u001b[0;34m(self)\u001b[0m\n\u001b[1;32m    931\u001b[0m             \u001b[0;32mtry\u001b[0m\u001b[0;34m:\u001b[0m\u001b[0;34m\u001b[0m\u001b[0;34m\u001b[0m\u001b[0m\n\u001b[1;32m    932\u001b[0m                 \u001b[0;32mif\u001b[0m \u001b[0mgetattr\u001b[0m\u001b[0;34m(\u001b[0m\u001b[0mself\u001b[0m\u001b[0;34m.\u001b[0m\u001b[0m_backend\u001b[0m\u001b[0;34m,\u001b[0m \u001b[0;34m'supports_timeout'\u001b[0m\u001b[0;34m,\u001b[0m \u001b[0;32mFalse\u001b[0m\u001b[0;34m)\u001b[0m\u001b[0;34m:\u001b[0m\u001b[0;34m\u001b[0m\u001b[0;34m\u001b[0m\u001b[0m\n\u001b[0;32m--> 933\u001b[0;31m                     \u001b[0mself\u001b[0m\u001b[0;34m.\u001b[0m\u001b[0m_output\u001b[0m\u001b[0;34m.\u001b[0m\u001b[0mextend\u001b[0m\u001b[0;34m(\u001b[0m\u001b[0mjob\u001b[0m\u001b[0;34m.\u001b[0m\u001b[0mget\u001b[0m\u001b[0;34m(\u001b[0m\u001b[0mtimeout\u001b[0m\u001b[0;34m=\u001b[0m\u001b[0mself\u001b[0m\u001b[0;34m.\u001b[0m\u001b[0mtimeout\u001b[0m\u001b[0;34m)\u001b[0m\u001b[0;34m)\u001b[0m\u001b[0;34m\u001b[0m\u001b[0;34m\u001b[0m\u001b[0m\n\u001b[0m\u001b[1;32m    934\u001b[0m                 \u001b[0;32melse\u001b[0m\u001b[0;34m:\u001b[0m\u001b[0;34m\u001b[0m\u001b[0;34m\u001b[0m\u001b[0m\n\u001b[1;32m    935\u001b[0m                     \u001b[0mself\u001b[0m\u001b[0;34m.\u001b[0m\u001b[0m_output\u001b[0m\u001b[0;34m.\u001b[0m\u001b[0mextend\u001b[0m\u001b[0;34m(\u001b[0m\u001b[0mjob\u001b[0m\u001b[0;34m.\u001b[0m\u001b[0mget\u001b[0m\u001b[0;34m(\u001b[0m\u001b[0;34m)\u001b[0m\u001b[0;34m)\u001b[0m\u001b[0;34m\u001b[0m\u001b[0;34m\u001b[0m\u001b[0m\n",
      "\u001b[0;32m~/anaconda3/envs/made/lib/python3.8/multiprocessing/pool.py\u001b[0m in \u001b[0;36mget\u001b[0;34m(self, timeout)\u001b[0m\n\u001b[1;32m    763\u001b[0m \u001b[0;34m\u001b[0m\u001b[0m\n\u001b[1;32m    764\u001b[0m     \u001b[0;32mdef\u001b[0m \u001b[0mget\u001b[0m\u001b[0;34m(\u001b[0m\u001b[0mself\u001b[0m\u001b[0;34m,\u001b[0m \u001b[0mtimeout\u001b[0m\u001b[0;34m=\u001b[0m\u001b[0;32mNone\u001b[0m\u001b[0;34m)\u001b[0m\u001b[0;34m:\u001b[0m\u001b[0;34m\u001b[0m\u001b[0;34m\u001b[0m\u001b[0m\n\u001b[0;32m--> 765\u001b[0;31m         \u001b[0mself\u001b[0m\u001b[0;34m.\u001b[0m\u001b[0mwait\u001b[0m\u001b[0;34m(\u001b[0m\u001b[0mtimeout\u001b[0m\u001b[0;34m)\u001b[0m\u001b[0;34m\u001b[0m\u001b[0;34m\u001b[0m\u001b[0m\n\u001b[0m\u001b[1;32m    766\u001b[0m         \u001b[0;32mif\u001b[0m \u001b[0;32mnot\u001b[0m \u001b[0mself\u001b[0m\u001b[0;34m.\u001b[0m\u001b[0mready\u001b[0m\u001b[0;34m(\u001b[0m\u001b[0;34m)\u001b[0m\u001b[0;34m:\u001b[0m\u001b[0;34m\u001b[0m\u001b[0;34m\u001b[0m\u001b[0m\n\u001b[1;32m    767\u001b[0m             \u001b[0;32mraise\u001b[0m \u001b[0mTimeoutError\u001b[0m\u001b[0;34m\u001b[0m\u001b[0;34m\u001b[0m\u001b[0m\n",
      "\u001b[0;32m~/anaconda3/envs/made/lib/python3.8/multiprocessing/pool.py\u001b[0m in \u001b[0;36mwait\u001b[0;34m(self, timeout)\u001b[0m\n\u001b[1;32m    760\u001b[0m \u001b[0;34m\u001b[0m\u001b[0m\n\u001b[1;32m    761\u001b[0m     \u001b[0;32mdef\u001b[0m \u001b[0mwait\u001b[0m\u001b[0;34m(\u001b[0m\u001b[0mself\u001b[0m\u001b[0;34m,\u001b[0m \u001b[0mtimeout\u001b[0m\u001b[0;34m=\u001b[0m\u001b[0;32mNone\u001b[0m\u001b[0;34m)\u001b[0m\u001b[0;34m:\u001b[0m\u001b[0;34m\u001b[0m\u001b[0;34m\u001b[0m\u001b[0m\n\u001b[0;32m--> 762\u001b[0;31m         \u001b[0mself\u001b[0m\u001b[0;34m.\u001b[0m\u001b[0m_event\u001b[0m\u001b[0;34m.\u001b[0m\u001b[0mwait\u001b[0m\u001b[0;34m(\u001b[0m\u001b[0mtimeout\u001b[0m\u001b[0;34m)\u001b[0m\u001b[0;34m\u001b[0m\u001b[0;34m\u001b[0m\u001b[0m\n\u001b[0m\u001b[1;32m    763\u001b[0m \u001b[0;34m\u001b[0m\u001b[0m\n\u001b[1;32m    764\u001b[0m     \u001b[0;32mdef\u001b[0m \u001b[0mget\u001b[0m\u001b[0;34m(\u001b[0m\u001b[0mself\u001b[0m\u001b[0;34m,\u001b[0m \u001b[0mtimeout\u001b[0m\u001b[0;34m=\u001b[0m\u001b[0;32mNone\u001b[0m\u001b[0;34m)\u001b[0m\u001b[0;34m:\u001b[0m\u001b[0;34m\u001b[0m\u001b[0;34m\u001b[0m\u001b[0m\n",
      "\u001b[0;32m~/anaconda3/envs/made/lib/python3.8/threading.py\u001b[0m in \u001b[0;36mwait\u001b[0;34m(self, timeout)\u001b[0m\n\u001b[1;32m    556\u001b[0m             \u001b[0msignaled\u001b[0m \u001b[0;34m=\u001b[0m \u001b[0mself\u001b[0m\u001b[0;34m.\u001b[0m\u001b[0m_flag\u001b[0m\u001b[0;34m\u001b[0m\u001b[0;34m\u001b[0m\u001b[0m\n\u001b[1;32m    557\u001b[0m             \u001b[0;32mif\u001b[0m \u001b[0;32mnot\u001b[0m \u001b[0msignaled\u001b[0m\u001b[0;34m:\u001b[0m\u001b[0;34m\u001b[0m\u001b[0;34m\u001b[0m\u001b[0m\n\u001b[0;32m--> 558\u001b[0;31m                 \u001b[0msignaled\u001b[0m \u001b[0;34m=\u001b[0m \u001b[0mself\u001b[0m\u001b[0;34m.\u001b[0m\u001b[0m_cond\u001b[0m\u001b[0;34m.\u001b[0m\u001b[0mwait\u001b[0m\u001b[0;34m(\u001b[0m\u001b[0mtimeout\u001b[0m\u001b[0;34m)\u001b[0m\u001b[0;34m\u001b[0m\u001b[0;34m\u001b[0m\u001b[0m\n\u001b[0m\u001b[1;32m    559\u001b[0m             \u001b[0;32mreturn\u001b[0m \u001b[0msignaled\u001b[0m\u001b[0;34m\u001b[0m\u001b[0;34m\u001b[0m\u001b[0m\n\u001b[1;32m    560\u001b[0m \u001b[0;34m\u001b[0m\u001b[0m\n",
      "\u001b[0;32m~/anaconda3/envs/made/lib/python3.8/threading.py\u001b[0m in \u001b[0;36mwait\u001b[0;34m(self, timeout)\u001b[0m\n\u001b[1;32m    300\u001b[0m         \u001b[0;32mtry\u001b[0m\u001b[0;34m:\u001b[0m    \u001b[0;31m# restore state no matter what (e.g., KeyboardInterrupt)\u001b[0m\u001b[0;34m\u001b[0m\u001b[0;34m\u001b[0m\u001b[0m\n\u001b[1;32m    301\u001b[0m             \u001b[0;32mif\u001b[0m \u001b[0mtimeout\u001b[0m \u001b[0;32mis\u001b[0m \u001b[0;32mNone\u001b[0m\u001b[0;34m:\u001b[0m\u001b[0;34m\u001b[0m\u001b[0;34m\u001b[0m\u001b[0m\n\u001b[0;32m--> 302\u001b[0;31m                 \u001b[0mwaiter\u001b[0m\u001b[0;34m.\u001b[0m\u001b[0macquire\u001b[0m\u001b[0;34m(\u001b[0m\u001b[0;34m)\u001b[0m\u001b[0;34m\u001b[0m\u001b[0;34m\u001b[0m\u001b[0m\n\u001b[0m\u001b[1;32m    303\u001b[0m                 \u001b[0mgotit\u001b[0m \u001b[0;34m=\u001b[0m \u001b[0;32mTrue\u001b[0m\u001b[0;34m\u001b[0m\u001b[0;34m\u001b[0m\u001b[0m\n\u001b[1;32m    304\u001b[0m             \u001b[0;32melse\u001b[0m\u001b[0;34m:\u001b[0m\u001b[0;34m\u001b[0m\u001b[0;34m\u001b[0m\u001b[0m\n",
      "\u001b[0;31mKeyboardInterrupt\u001b[0m: "
     ]
    }
   ],
   "source": [
    "probas = None\n",
    "for i in range(10):\n",
    "    y_train, weights = e_step(res, probas)\n",
    "    coefs, probas = m_step(X_train, y_train, weights)\n",
    "    if i == 0:\n",
    "        team_coefs = np.zeros(6)\n",
    "        team_coefs[0] = 1\n",
    "    print(f'iter {i}')\n",
    "    score(team_coefs, coefs)"
   ]
  },
  {
   "cell_type": "code",
   "execution_count": 89,
   "id": "african-pointer",
   "metadata": {
    "scrolled": false
   },
   "outputs": [
    {
     "name": "stdout",
     "output_type": "stream",
     "text": [
      "iter 0\n"
     ]
    },
    {
     "data": {
      "application/vnd.jupyter.widget-view+json": {
       "model_id": "894852b8188343238ee38d4513891737",
       "version_major": 2,
       "version_minor": 0
      },
      "text/plain": [
       "  0%|          | 0/196 [00:00<?, ?it/s]"
      ]
     },
     "metadata": {},
     "output_type": "display_data"
    },
    {
     "name": "stdout",
     "output_type": "stream",
     "text": [
      "0.733735218469532 0.5791631556355058\n",
      "iter 1\n"
     ]
    },
    {
     "data": {
      "application/vnd.jupyter.widget-view+json": {
       "model_id": "3182065f41a741aea20fe10b90b1c332",
       "version_major": 2,
       "version_minor": 0
      },
      "text/plain": [
       "  0%|          | 0/196 [00:00<?, ?it/s]"
      ]
     },
     "metadata": {},
     "output_type": "display_data"
    },
    {
     "name": "stdout",
     "output_type": "stream",
     "text": [
      "0.7338419040683601 0.579068385112379\n",
      "iter 2\n"
     ]
    },
    {
     "data": {
      "application/vnd.jupyter.widget-view+json": {
       "model_id": "8760f409dc694371930392cd7e39e334",
       "version_major": 2,
       "version_minor": 0
      },
      "text/plain": [
       "  0%|          | 0/196 [00:00<?, ?it/s]"
      ]
     },
     "metadata": {},
     "output_type": "display_data"
    },
    {
     "name": "stdout",
     "output_type": "stream",
     "text": [
      "0.7344131497316464 0.5791370063472853\n",
      "iter 3\n"
     ]
    },
    {
     "data": {
      "application/vnd.jupyter.widget-view+json": {
       "model_id": "44b484e7846c40bea942f7c61813e9ae",
       "version_major": 2,
       "version_minor": 0
      },
      "text/plain": [
       "  0%|          | 0/196 [00:00<?, ?it/s]"
      ]
     },
     "metadata": {},
     "output_type": "display_data"
    },
    {
     "name": "stdout",
     "output_type": "stream",
     "text": [
      "0.7337652041268392 0.5783003168991953\n",
      "iter 4\n"
     ]
    },
    {
     "data": {
      "application/vnd.jupyter.widget-view+json": {
       "model_id": "acb0a713d0084d0f98d88d19dea8a0aa",
       "version_major": 2,
       "version_minor": 0
      },
      "text/plain": [
       "  0%|          | 0/196 [00:00<?, ?it/s]"
      ]
     },
     "metadata": {},
     "output_type": "display_data"
    },
    {
     "name": "stdout",
     "output_type": "stream",
     "text": [
      "0.7336682375858926 0.5782289386961721\n",
      "iter 5\n"
     ]
    },
    {
     "data": {
      "application/vnd.jupyter.widget-view+json": {
       "model_id": "5a385241ec7e4d04adadaa1c08021328",
       "version_major": 2,
       "version_minor": 0
      },
      "text/plain": [
       "  0%|          | 0/196 [00:00<?, ?it/s]"
      ]
     },
     "metadata": {},
     "output_type": "display_data"
    },
    {
     "name": "stdout",
     "output_type": "stream",
     "text": [
      "0.7336752116454867 0.5782655009376922\n",
      "iter 6\n"
     ]
    },
    {
     "data": {
      "application/vnd.jupyter.widget-view+json": {
       "model_id": "a9c314b0a20c4c6eadf092d64480ad4d",
       "version_major": 2,
       "version_minor": 0
      },
      "text/plain": [
       "  0%|          | 0/196 [00:00<?, ?it/s]"
      ]
     },
     "metadata": {},
     "output_type": "display_data"
    },
    {
     "ename": "KeyboardInterrupt",
     "evalue": "",
     "output_type": "error",
     "traceback": [
      "\u001b[0;31m---------------------------------------------------------------------------\u001b[0m",
      "\u001b[0;31mKeyboardInterrupt\u001b[0m                         Traceback (most recent call last)",
      "\u001b[0;32m<ipython-input-89-a0485a9f1290>\u001b[0m in \u001b[0;36m<module>\u001b[0;34m\u001b[0m\n\u001b[1;32m      6\u001b[0m         \u001b[0mteam_coefs\u001b[0m \u001b[0;34m=\u001b[0m \u001b[0mnp\u001b[0m\u001b[0;34m.\u001b[0m\u001b[0mones\u001b[0m\u001b[0;34m(\u001b[0m\u001b[0;36m6\u001b[0m\u001b[0;34m)\u001b[0m\u001b[0;34m\u001b[0m\u001b[0;34m\u001b[0m\u001b[0m\n\u001b[1;32m      7\u001b[0m     \u001b[0mprint\u001b[0m\u001b[0;34m(\u001b[0m\u001b[0;34mf'iter {i}'\u001b[0m\u001b[0;34m)\u001b[0m\u001b[0;34m\u001b[0m\u001b[0;34m\u001b[0m\u001b[0m\n\u001b[0;32m----> 8\u001b[0;31m     \u001b[0mscore\u001b[0m\u001b[0;34m(\u001b[0m\u001b[0mteam_coefs\u001b[0m\u001b[0;34m,\u001b[0m \u001b[0mcoefs\u001b[0m\u001b[0;34m)\u001b[0m\u001b[0;34m\u001b[0m\u001b[0;34m\u001b[0m\u001b[0m\n\u001b[0m",
      "\u001b[0;32m<ipython-input-82-f6080aa48183>\u001b[0m in \u001b[0;36mscore\u001b[0;34m(team_coefs, coefs)\u001b[0m\n\u001b[1;32m     92\u001b[0m         \u001b[0;32mreturn\u001b[0m \u001b[0mpreprocess\u001b[0m\u001b[0;34m\u001b[0m\u001b[0;34m\u001b[0m\u001b[0m\n\u001b[1;32m     93\u001b[0m \u001b[0;34m\u001b[0m\u001b[0m\n\u001b[0;32m---> 94\u001b[0;31m     \u001b[0mtest_results\u001b[0m\u001b[0;34m.\u001b[0m\u001b[0mprogress_map\u001b[0m\u001b[0;34m(\u001b[0m\u001b[0mfill_res\u001b[0m\u001b[0;34m(\u001b[0m\u001b[0mres\u001b[0m\u001b[0;34m,\u001b[0m \u001b[0mgame_number\u001b[0m\u001b[0;34m)\u001b[0m\u001b[0;34m)\u001b[0m\u001b[0;34m\u001b[0m\u001b[0;34m\u001b[0m\u001b[0m\n\u001b[0m\u001b[1;32m     95\u001b[0m \u001b[0;34m\u001b[0m\u001b[0m\n\u001b[1;32m     96\u001b[0m \u001b[0;34m\u001b[0m\u001b[0m\n",
      "\u001b[0;32m~/anaconda3/envs/made/lib/python3.8/site-packages/tqdm/std.py\u001b[0m in \u001b[0;36minner\u001b[0;34m(df, func, *args, **kwargs)\u001b[0m\n\u001b[1;32m    808\u001b[0m                 \u001b[0;31m# on the df using our wrapper (which provides bar updating)\u001b[0m\u001b[0;34m\u001b[0m\u001b[0;34m\u001b[0m\u001b[0;34m\u001b[0m\u001b[0m\n\u001b[1;32m    809\u001b[0m                 \u001b[0;32mtry\u001b[0m\u001b[0;34m:\u001b[0m\u001b[0;34m\u001b[0m\u001b[0;34m\u001b[0m\u001b[0m\n\u001b[0;32m--> 810\u001b[0;31m                     \u001b[0;32mreturn\u001b[0m \u001b[0mgetattr\u001b[0m\u001b[0;34m(\u001b[0m\u001b[0mdf\u001b[0m\u001b[0;34m,\u001b[0m \u001b[0mdf_function\u001b[0m\u001b[0;34m)\u001b[0m\u001b[0;34m(\u001b[0m\u001b[0mwrapper\u001b[0m\u001b[0;34m,\u001b[0m \u001b[0;34m**\u001b[0m\u001b[0mkwargs\u001b[0m\u001b[0;34m)\u001b[0m\u001b[0;34m\u001b[0m\u001b[0;34m\u001b[0m\u001b[0m\n\u001b[0m\u001b[1;32m    811\u001b[0m                 \u001b[0;32mfinally\u001b[0m\u001b[0;34m:\u001b[0m\u001b[0;34m\u001b[0m\u001b[0;34m\u001b[0m\u001b[0m\n\u001b[1;32m    812\u001b[0m                     \u001b[0mt\u001b[0m\u001b[0;34m.\u001b[0m\u001b[0mclose\u001b[0m\u001b[0;34m(\u001b[0m\u001b[0;34m)\u001b[0m\u001b[0;34m\u001b[0m\u001b[0;34m\u001b[0m\u001b[0m\n",
      "\u001b[0;32m~/anaconda3/envs/made/lib/python3.8/site-packages/pandas/core/series.py\u001b[0m in \u001b[0;36mmap\u001b[0;34m(self, arg, na_action)\u001b[0m\n\u001b[1;32m   3907\u001b[0m         \u001b[0mdtype\u001b[0m\u001b[0;34m:\u001b[0m \u001b[0mobject\u001b[0m\u001b[0;34m\u001b[0m\u001b[0;34m\u001b[0m\u001b[0m\n\u001b[1;32m   3908\u001b[0m         \"\"\"\n\u001b[0;32m-> 3909\u001b[0;31m         \u001b[0mnew_values\u001b[0m \u001b[0;34m=\u001b[0m \u001b[0msuper\u001b[0m\u001b[0;34m(\u001b[0m\u001b[0;34m)\u001b[0m\u001b[0;34m.\u001b[0m\u001b[0m_map_values\u001b[0m\u001b[0;34m(\u001b[0m\u001b[0marg\u001b[0m\u001b[0;34m,\u001b[0m \u001b[0mna_action\u001b[0m\u001b[0;34m=\u001b[0m\u001b[0mna_action\u001b[0m\u001b[0;34m)\u001b[0m\u001b[0;34m\u001b[0m\u001b[0;34m\u001b[0m\u001b[0m\n\u001b[0m\u001b[1;32m   3910\u001b[0m         return self._constructor(new_values, index=self.index).__finalize__(\n\u001b[1;32m   3911\u001b[0m             \u001b[0mself\u001b[0m\u001b[0;34m,\u001b[0m \u001b[0mmethod\u001b[0m\u001b[0;34m=\u001b[0m\u001b[0;34m\"map\"\u001b[0m\u001b[0;34m\u001b[0m\u001b[0;34m\u001b[0m\u001b[0m\n",
      "\u001b[0;32m~/anaconda3/envs/made/lib/python3.8/site-packages/pandas/core/base.py\u001b[0m in \u001b[0;36m_map_values\u001b[0;34m(self, mapper, na_action)\u001b[0m\n\u001b[1;32m    935\u001b[0m \u001b[0;34m\u001b[0m\u001b[0m\n\u001b[1;32m    936\u001b[0m         \u001b[0;31m# mapper is a function\u001b[0m\u001b[0;34m\u001b[0m\u001b[0;34m\u001b[0m\u001b[0;34m\u001b[0m\u001b[0m\n\u001b[0;32m--> 937\u001b[0;31m         \u001b[0mnew_values\u001b[0m \u001b[0;34m=\u001b[0m \u001b[0mmap_f\u001b[0m\u001b[0;34m(\u001b[0m\u001b[0mvalues\u001b[0m\u001b[0;34m,\u001b[0m \u001b[0mmapper\u001b[0m\u001b[0;34m)\u001b[0m\u001b[0;34m\u001b[0m\u001b[0;34m\u001b[0m\u001b[0m\n\u001b[0m\u001b[1;32m    938\u001b[0m \u001b[0;34m\u001b[0m\u001b[0m\n\u001b[1;32m    939\u001b[0m         \u001b[0;32mreturn\u001b[0m \u001b[0mnew_values\u001b[0m\u001b[0;34m\u001b[0m\u001b[0;34m\u001b[0m\u001b[0m\n",
      "\u001b[0;32mpandas/_libs/lib.pyx\u001b[0m in \u001b[0;36mpandas._libs.lib.map_infer\u001b[0;34m()\u001b[0m\n",
      "\u001b[0;32m~/anaconda3/envs/made/lib/python3.8/site-packages/tqdm/std.py\u001b[0m in \u001b[0;36mwrapper\u001b[0;34m(*args, **kwargs)\u001b[0m\n\u001b[1;32m    803\u001b[0m                     \u001b[0;31m# take a fast or slow code path; so stop when t.total==t.n\u001b[0m\u001b[0;34m\u001b[0m\u001b[0;34m\u001b[0m\u001b[0;34m\u001b[0m\u001b[0m\n\u001b[1;32m    804\u001b[0m                     \u001b[0mt\u001b[0m\u001b[0;34m.\u001b[0m\u001b[0mupdate\u001b[0m\u001b[0;34m(\u001b[0m\u001b[0mn\u001b[0m\u001b[0;34m=\u001b[0m\u001b[0;36m1\u001b[0m \u001b[0;32mif\u001b[0m \u001b[0;32mnot\u001b[0m \u001b[0mt\u001b[0m\u001b[0;34m.\u001b[0m\u001b[0mtotal\u001b[0m \u001b[0;32mor\u001b[0m \u001b[0mt\u001b[0m\u001b[0;34m.\u001b[0m\u001b[0mn\u001b[0m \u001b[0;34m<\u001b[0m \u001b[0mt\u001b[0m\u001b[0;34m.\u001b[0m\u001b[0mtotal\u001b[0m \u001b[0;32melse\u001b[0m \u001b[0;36m0\u001b[0m\u001b[0;34m)\u001b[0m\u001b[0;34m\u001b[0m\u001b[0;34m\u001b[0m\u001b[0m\n\u001b[0;32m--> 805\u001b[0;31m                     \u001b[0;32mreturn\u001b[0m \u001b[0mfunc\u001b[0m\u001b[0;34m(\u001b[0m\u001b[0;34m*\u001b[0m\u001b[0margs\u001b[0m\u001b[0;34m,\u001b[0m \u001b[0;34m**\u001b[0m\u001b[0mkwargs\u001b[0m\u001b[0;34m)\u001b[0m\u001b[0;34m\u001b[0m\u001b[0;34m\u001b[0m\u001b[0m\n\u001b[0m\u001b[1;32m    806\u001b[0m \u001b[0;34m\u001b[0m\u001b[0m\n\u001b[1;32m    807\u001b[0m                 \u001b[0;31m# Apply the provided function (in **kwargs)\u001b[0m\u001b[0;34m\u001b[0m\u001b[0;34m\u001b[0m\u001b[0;34m\u001b[0m\u001b[0m\n",
      "\u001b[0;32m<ipython-input-82-f6080aa48183>\u001b[0m in \u001b[0;36mpreprocess\u001b[0;34m(game)\u001b[0m\n\u001b[1;32m     80\u001b[0m                 \u001b[0;32mtry\u001b[0m\u001b[0;34m:\u001b[0m\u001b[0;34m\u001b[0m\u001b[0;34m\u001b[0m\u001b[0m\n\u001b[1;32m     81\u001b[0m                     \u001b[0mposition\u001b[0m \u001b[0;34m=\u001b[0m \u001b[0mteam_perfomance\u001b[0m\u001b[0;34m[\u001b[0m\u001b[0;34m'position'\u001b[0m\u001b[0;34m]\u001b[0m\u001b[0;34m\u001b[0m\u001b[0;34m\u001b[0m\u001b[0m\n\u001b[0;32m---> 82\u001b[0;31m                     \u001b[0mraitings\u001b[0m \u001b[0;34m=\u001b[0m \u001b[0msorted\u001b[0m\u001b[0;34m(\u001b[0m\u001b[0;34m[\u001b[0m\u001b[0mplayer_rating\u001b[0m\u001b[0;34m(\u001b[0m\u001b[0mx\u001b[0m\u001b[0;34m)\u001b[0m \u001b[0;32mfor\u001b[0m \u001b[0mx\u001b[0m \u001b[0;32min\u001b[0m \u001b[0mteam_perfomance\u001b[0m\u001b[0;34m[\u001b[0m\u001b[0;34m'teamMembers'\u001b[0m\u001b[0;34m]\u001b[0m\u001b[0;34m]\u001b[0m\u001b[0;34m,\u001b[0m \u001b[0mreverse\u001b[0m\u001b[0;34m=\u001b[0m\u001b[0;32mTrue\u001b[0m\u001b[0;34m)\u001b[0m\u001b[0;34m\u001b[0m\u001b[0;34m\u001b[0m\u001b[0m\n\u001b[0m\u001b[1;32m     83\u001b[0m                     \u001b[0mteam_rating\u001b[0m \u001b[0;34m=\u001b[0m \u001b[0mget_team_rating\u001b[0m\u001b[0;34m(\u001b[0m\u001b[0mraitings\u001b[0m\u001b[0;34m)\u001b[0m\u001b[0;34m\u001b[0m\u001b[0;34m\u001b[0m\u001b[0m\n\u001b[1;32m     84\u001b[0m                     l.append([\n",
      "\u001b[0;32m<ipython-input-82-f6080aa48183>\u001b[0m in \u001b[0;36m<listcomp>\u001b[0;34m(.0)\u001b[0m\n\u001b[1;32m     80\u001b[0m                 \u001b[0;32mtry\u001b[0m\u001b[0;34m:\u001b[0m\u001b[0;34m\u001b[0m\u001b[0;34m\u001b[0m\u001b[0m\n\u001b[1;32m     81\u001b[0m                     \u001b[0mposition\u001b[0m \u001b[0;34m=\u001b[0m \u001b[0mteam_perfomance\u001b[0m\u001b[0;34m[\u001b[0m\u001b[0;34m'position'\u001b[0m\u001b[0;34m]\u001b[0m\u001b[0;34m\u001b[0m\u001b[0;34m\u001b[0m\u001b[0m\n\u001b[0;32m---> 82\u001b[0;31m                     \u001b[0mraitings\u001b[0m \u001b[0;34m=\u001b[0m \u001b[0msorted\u001b[0m\u001b[0;34m(\u001b[0m\u001b[0;34m[\u001b[0m\u001b[0mplayer_rating\u001b[0m\u001b[0;34m(\u001b[0m\u001b[0mx\u001b[0m\u001b[0;34m)\u001b[0m \u001b[0;32mfor\u001b[0m \u001b[0mx\u001b[0m \u001b[0;32min\u001b[0m \u001b[0mteam_perfomance\u001b[0m\u001b[0;34m[\u001b[0m\u001b[0;34m'teamMembers'\u001b[0m\u001b[0;34m]\u001b[0m\u001b[0;34m]\u001b[0m\u001b[0;34m,\u001b[0m \u001b[0mreverse\u001b[0m\u001b[0;34m=\u001b[0m\u001b[0;32mTrue\u001b[0m\u001b[0;34m)\u001b[0m\u001b[0;34m\u001b[0m\u001b[0;34m\u001b[0m\u001b[0m\n\u001b[0m\u001b[1;32m     83\u001b[0m                     \u001b[0mteam_rating\u001b[0m \u001b[0;34m=\u001b[0m \u001b[0mget_team_rating\u001b[0m\u001b[0;34m(\u001b[0m\u001b[0mraitings\u001b[0m\u001b[0;34m)\u001b[0m\u001b[0;34m\u001b[0m\u001b[0;34m\u001b[0m\u001b[0m\n\u001b[1;32m     84\u001b[0m                     l.append([\n",
      "\u001b[0;32m<ipython-input-82-f6080aa48183>\u001b[0m in \u001b[0;36mplayer_rating\u001b[0;34m(player)\u001b[0m\n\u001b[1;32m     61\u001b[0m     \u001b[0;32mdef\u001b[0m \u001b[0mplayer_rating\u001b[0m\u001b[0;34m(\u001b[0m\u001b[0mplayer\u001b[0m\u001b[0;34m)\u001b[0m\u001b[0;34m:\u001b[0m\u001b[0;34m\u001b[0m\u001b[0;34m\u001b[0m\u001b[0m\n\u001b[1;32m     62\u001b[0m         \u001b[0mpid\u001b[0m \u001b[0;34m=\u001b[0m \u001b[0mint\u001b[0m\u001b[0;34m(\u001b[0m\u001b[0mplayer\u001b[0m\u001b[0;34m[\u001b[0m\u001b[0;34m'player'\u001b[0m\u001b[0;34m]\u001b[0m\u001b[0;34m[\u001b[0m\u001b[0;34m'id'\u001b[0m\u001b[0;34m]\u001b[0m\u001b[0;34m)\u001b[0m\u001b[0;34m\u001b[0m\u001b[0;34m\u001b[0m\u001b[0m\n\u001b[0;32m---> 63\u001b[0;31m         \u001b[0mpid\u001b[0m \u001b[0;34m=\u001b[0m \u001b[0mplayer_encoder\u001b[0m\u001b[0;34m.\u001b[0m\u001b[0mtransform\u001b[0m\u001b[0;34m(\u001b[0m\u001b[0;34m[\u001b[0m\u001b[0mpid\u001b[0m\u001b[0;34m]\u001b[0m\u001b[0;34m)\u001b[0m\u001b[0;34m.\u001b[0m\u001b[0mtoarray\u001b[0m\u001b[0;34m(\u001b[0m\u001b[0;34m)\u001b[0m\u001b[0;34m[\u001b[0m\u001b[0;36m0\u001b[0m\u001b[0;34m]\u001b[0m\u001b[0;34m.\u001b[0m\u001b[0margmax\u001b[0m\u001b[0;34m(\u001b[0m\u001b[0;34m)\u001b[0m\u001b[0;34m\u001b[0m\u001b[0;34m\u001b[0m\u001b[0m\n\u001b[0m\u001b[1;32m     64\u001b[0m         \u001b[0;32mreturn\u001b[0m \u001b[0mcoefs\u001b[0m\u001b[0;34m[\u001b[0m\u001b[0;36m0\u001b[0m\u001b[0;34m]\u001b[0m\u001b[0;34m[\u001b[0m\u001b[0mpid\u001b[0m\u001b[0;34m]\u001b[0m\u001b[0;34m\u001b[0m\u001b[0;34m\u001b[0m\u001b[0m\n\u001b[1;32m     65\u001b[0m \u001b[0;34m\u001b[0m\u001b[0m\n",
      "\u001b[0;32m~/anaconda3/envs/made/lib/python3.8/site-packages/sklearn/preprocessing/_label.py\u001b[0m in \u001b[0;36mtransform\u001b[0;34m(self, y)\u001b[0m\n\u001b[1;32m    348\u001b[0m                              \" input.\")\n\u001b[1;32m    349\u001b[0m \u001b[0;34m\u001b[0m\u001b[0m\n\u001b[0;32m--> 350\u001b[0;31m         return label_binarize(y, classes=self.classes_,\n\u001b[0m\u001b[1;32m    351\u001b[0m                               \u001b[0mpos_label\u001b[0m\u001b[0;34m=\u001b[0m\u001b[0mself\u001b[0m\u001b[0;34m.\u001b[0m\u001b[0mpos_label\u001b[0m\u001b[0;34m,\u001b[0m\u001b[0;34m\u001b[0m\u001b[0;34m\u001b[0m\u001b[0m\n\u001b[1;32m    352\u001b[0m                               \u001b[0mneg_label\u001b[0m\u001b[0;34m=\u001b[0m\u001b[0mself\u001b[0m\u001b[0;34m.\u001b[0m\u001b[0mneg_label\u001b[0m\u001b[0;34m,\u001b[0m\u001b[0;34m\u001b[0m\u001b[0;34m\u001b[0m\u001b[0m\n",
      "\u001b[0;32m~/anaconda3/envs/made/lib/python3.8/site-packages/sklearn/utils/validation.py\u001b[0m in \u001b[0;36minner_f\u001b[0;34m(*args, **kwargs)\u001b[0m\n\u001b[1;32m     61\u001b[0m             \u001b[0mextra_args\u001b[0m \u001b[0;34m=\u001b[0m \u001b[0mlen\u001b[0m\u001b[0;34m(\u001b[0m\u001b[0margs\u001b[0m\u001b[0;34m)\u001b[0m \u001b[0;34m-\u001b[0m \u001b[0mlen\u001b[0m\u001b[0;34m(\u001b[0m\u001b[0mall_args\u001b[0m\u001b[0;34m)\u001b[0m\u001b[0;34m\u001b[0m\u001b[0;34m\u001b[0m\u001b[0m\n\u001b[1;32m     62\u001b[0m             \u001b[0;32mif\u001b[0m \u001b[0mextra_args\u001b[0m \u001b[0;34m<=\u001b[0m \u001b[0;36m0\u001b[0m\u001b[0;34m:\u001b[0m\u001b[0;34m\u001b[0m\u001b[0;34m\u001b[0m\u001b[0m\n\u001b[0;32m---> 63\u001b[0;31m                 \u001b[0;32mreturn\u001b[0m \u001b[0mf\u001b[0m\u001b[0;34m(\u001b[0m\u001b[0;34m*\u001b[0m\u001b[0margs\u001b[0m\u001b[0;34m,\u001b[0m \u001b[0;34m**\u001b[0m\u001b[0mkwargs\u001b[0m\u001b[0;34m)\u001b[0m\u001b[0;34m\u001b[0m\u001b[0;34m\u001b[0m\u001b[0m\n\u001b[0m\u001b[1;32m     64\u001b[0m \u001b[0;34m\u001b[0m\u001b[0m\n\u001b[1;32m     65\u001b[0m             \u001b[0;31m# extra_args > 0\u001b[0m\u001b[0;34m\u001b[0m\u001b[0;34m\u001b[0m\u001b[0;34m\u001b[0m\u001b[0m\n",
      "\u001b[0;32m~/anaconda3/envs/made/lib/python3.8/site-packages/sklearn/preprocessing/_label.py\u001b[0m in \u001b[0;36mlabel_binarize\u001b[0;34m(y, classes, neg_label, pos_label, sparse_output)\u001b[0m\n\u001b[1;32m    525\u001b[0m \u001b[0;34m\u001b[0m\u001b[0m\n\u001b[1;32m    526\u001b[0m         \u001b[0;31m# pick out the known labels from y\u001b[0m\u001b[0;34m\u001b[0m\u001b[0;34m\u001b[0m\u001b[0;34m\u001b[0m\u001b[0m\n\u001b[0;32m--> 527\u001b[0;31m         \u001b[0my_in_classes\u001b[0m \u001b[0;34m=\u001b[0m \u001b[0mnp\u001b[0m\u001b[0;34m.\u001b[0m\u001b[0min1d\u001b[0m\u001b[0;34m(\u001b[0m\u001b[0my\u001b[0m\u001b[0;34m,\u001b[0m \u001b[0mclasses\u001b[0m\u001b[0;34m)\u001b[0m\u001b[0;34m\u001b[0m\u001b[0;34m\u001b[0m\u001b[0m\n\u001b[0m\u001b[1;32m    528\u001b[0m         \u001b[0my_seen\u001b[0m \u001b[0;34m=\u001b[0m \u001b[0my\u001b[0m\u001b[0;34m[\u001b[0m\u001b[0my_in_classes\u001b[0m\u001b[0;34m]\u001b[0m\u001b[0;34m\u001b[0m\u001b[0;34m\u001b[0m\u001b[0m\n\u001b[1;32m    529\u001b[0m         \u001b[0mindices\u001b[0m \u001b[0;34m=\u001b[0m \u001b[0mnp\u001b[0m\u001b[0;34m.\u001b[0m\u001b[0msearchsorted\u001b[0m\u001b[0;34m(\u001b[0m\u001b[0msorted_class\u001b[0m\u001b[0;34m,\u001b[0m \u001b[0my_seen\u001b[0m\u001b[0;34m)\u001b[0m\u001b[0;34m\u001b[0m\u001b[0;34m\u001b[0m\u001b[0m\n",
      "\u001b[0;32m<__array_function__ internals>\u001b[0m in \u001b[0;36min1d\u001b[0;34m(*args, **kwargs)\u001b[0m\n",
      "\u001b[0;32m~/anaconda3/envs/made/lib/python3.8/site-packages/numpy/lib/arraysetops.py\u001b[0m in \u001b[0;36min1d\u001b[0;34m(ar1, ar2, assume_unique, invert)\u001b[0m\n\u001b[1;32m    596\u001b[0m     \u001b[0;32melse\u001b[0m\u001b[0;34m:\u001b[0m\u001b[0;34m\u001b[0m\u001b[0;34m\u001b[0m\u001b[0m\n\u001b[1;32m    597\u001b[0m         \u001b[0mbool_ar\u001b[0m \u001b[0;34m=\u001b[0m \u001b[0;34m(\u001b[0m\u001b[0msar\u001b[0m\u001b[0;34m[\u001b[0m\u001b[0;36m1\u001b[0m\u001b[0;34m:\u001b[0m\u001b[0;34m]\u001b[0m \u001b[0;34m==\u001b[0m \u001b[0msar\u001b[0m\u001b[0;34m[\u001b[0m\u001b[0;34m:\u001b[0m\u001b[0;34m-\u001b[0m\u001b[0;36m1\u001b[0m\u001b[0;34m]\u001b[0m\u001b[0;34m)\u001b[0m\u001b[0;34m\u001b[0m\u001b[0;34m\u001b[0m\u001b[0m\n\u001b[0;32m--> 598\u001b[0;31m     \u001b[0mflag\u001b[0m \u001b[0;34m=\u001b[0m \u001b[0mnp\u001b[0m\u001b[0;34m.\u001b[0m\u001b[0mconcatenate\u001b[0m\u001b[0;34m(\u001b[0m\u001b[0;34m(\u001b[0m\u001b[0mbool_ar\u001b[0m\u001b[0;34m,\u001b[0m \u001b[0;34m[\u001b[0m\u001b[0minvert\u001b[0m\u001b[0;34m]\u001b[0m\u001b[0;34m)\u001b[0m\u001b[0;34m)\u001b[0m\u001b[0;34m\u001b[0m\u001b[0;34m\u001b[0m\u001b[0m\n\u001b[0m\u001b[1;32m    599\u001b[0m     \u001b[0mret\u001b[0m \u001b[0;34m=\u001b[0m \u001b[0mnp\u001b[0m\u001b[0;34m.\u001b[0m\u001b[0mempty\u001b[0m\u001b[0;34m(\u001b[0m\u001b[0mar\u001b[0m\u001b[0;34m.\u001b[0m\u001b[0mshape\u001b[0m\u001b[0;34m,\u001b[0m \u001b[0mdtype\u001b[0m\u001b[0;34m=\u001b[0m\u001b[0mbool\u001b[0m\u001b[0;34m)\u001b[0m\u001b[0;34m\u001b[0m\u001b[0;34m\u001b[0m\u001b[0m\n\u001b[1;32m    600\u001b[0m     \u001b[0mret\u001b[0m\u001b[0;34m[\u001b[0m\u001b[0morder\u001b[0m\u001b[0;34m]\u001b[0m \u001b[0;34m=\u001b[0m \u001b[0mflag\u001b[0m\u001b[0;34m\u001b[0m\u001b[0;34m\u001b[0m\u001b[0m\n",
      "\u001b[0;32m<__array_function__ internals>\u001b[0m in \u001b[0;36mconcatenate\u001b[0;34m(*args, **kwargs)\u001b[0m\n",
      "\u001b[0;31mKeyboardInterrupt\u001b[0m: "
     ]
    }
   ],
   "source": [
    "probas = None\n",
    "for i in range(10):\n",
    "    y_train, weights = e_step(res, probas)\n",
    "    coefs, probas = m_step(X_train, y_train, weights)\n",
    "    if i == 0:\n",
    "        team_coefs = np.ones(6)\n",
    "    print(f'iter {i}')\n",
    "    score(team_coefs, coefs)"
   ]
  },
  {
   "cell_type": "markdown",
   "id": "excessive-cutting",
   "metadata": {},
   "source": [
    "В итоге лучше всего сработала сумма, где наибольший вес у самого высокого по рейтингу игрока. Есть ли какой-то прок от ЕМ - не ясно."
   ]
  },
  {
   "cell_type": "code",
   "execution_count": null,
   "id": "inclusive-provider",
   "metadata": {},
   "outputs": [],
   "source": []
  }
 ],
 "metadata": {
  "kernelspec": {
   "display_name": "Python 3",
   "language": "python",
   "name": "python3"
  },
  "language_info": {
   "codemirror_mode": {
    "name": "ipython",
    "version": 3
   },
   "file_extension": ".py",
   "mimetype": "text/x-python",
   "name": "python",
   "nbconvert_exporter": "python",
   "pygments_lexer": "ipython3",
   "version": "3.8.8"
  }
 },
 "nbformat": 4,
 "nbformat_minor": 5
}
